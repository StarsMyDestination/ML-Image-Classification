{
 "cells": [
  {
   "cell_type": "markdown",
   "metadata": {
    "collapsed": true,
    "deletable": true,
    "editable": true
   },
   "source": [
    "# Image Classification\n",
    "In this project, you'll classify images from the [CIFAR-10 dataset](https://www.cs.toronto.edu/~kriz/cifar.html).  The dataset consists of airplanes, dogs, cats, and other objects. You'll preprocess the images, then train a convolutional neural network on all the samples. The images need to be normalized and the labels need to be one-hot encoded.  You'll get to apply what you learned and build a convolutional, max pooling, dropout, and fully connected layers.  At the end, you'll get to see your neural network's predictions on the sample images.\n",
    "## Get the Data\n",
    "Run the following cell to download the [CIFAR-10 dataset for python](https://www.cs.toronto.edu/~kriz/cifar-10-python.tar.gz)."
   ]
  },
  {
   "cell_type": "code",
   "execution_count": null,
   "metadata": {
    "collapsed": false,
    "deletable": true,
    "editable": true
   },
   "outputs": [],
   "source": [
    "\"\"\"\n",
    "DON'T MODIFY ANYTHING IN THIS CELL THAT IS BELOW THIS LINE\n",
    "\"\"\"\n",
    "from urllib.request import urlretrieve\n",
    "from os.path import isfile, isdir\n",
    "from tqdm import tqdm\n",
    "import problem_unittests as tests\n",
    "import tarfile\n",
    "\n",
    "cifar10_dataset_folder_path = 'cifar-10-batches-py'\n",
    "\n",
    "class DLProgress(tqdm):\n",
    "    last_block = 0\n",
    "\n",
    "    def hook(self, block_num=1, block_size=1, total_size=None):\n",
    "        self.total = total_size\n",
    "        self.update((block_num - self.last_block) * block_size)\n",
    "        self.last_block = block_num\n",
    "\n",
    "if not isfile('cifar-10-python.tar.gz'):\n",
    "    with DLProgress(unit='B', unit_scale=True, miniters=1, desc='CIFAR-10 Dataset') as pbar:\n",
    "        urlretrieve(\n",
    "            'https://www.cs.toronto.edu/~kriz/cifar-10-python.tar.gz',\n",
    "            'cifar-10-python.tar.gz',\n",
    "            pbar.hook)\n",
    "\n",
    "if not isdir(cifar10_dataset_folder_path):\n",
    "    with tarfile.open('cifar-10-python.tar.gz') as tar:\n",
    "        tar.extractall()\n",
    "        tar.close()\n",
    "\n",
    "\n",
    "tests.test_folder_path(cifar10_dataset_folder_path)"
   ]
  },
  {
   "cell_type": "markdown",
   "metadata": {
    "deletable": true,
    "editable": true
   },
   "source": [
    "## Explore the Data\n",
    "The dataset is broken into batches to prevent your machine from running out of memory.  The CIFAR-10 dataset consists of 5 batches, named `data_batch_1`, `data_batch_2`, etc.. Each batch contains the labels and images that are one of the following:\n",
    "* airplane\n",
    "* automobile\n",
    "* bird\n",
    "* cat\n",
    "* deer\n",
    "* dog\n",
    "* frog\n",
    "* horse\n",
    "* ship\n",
    "* truck\n",
    "\n",
    "Understanding a dataset is part of making predictions on the data.  Play around with the code cell below by changing the `batch_id` and `sample_id`. The `batch_id` is the id for a batch (1-5). The `sample_id` is the id for a image and label pair in the batch.\n",
    "\n",
    "Ask yourself \"What are all possible labels?\", \"What is the range of values for the image data?\", \"Are the labels in order or random?\".  Answers to questions like these will help you preprocess the data and end up with better predictions."
   ]
  },
  {
   "cell_type": "code",
   "execution_count": null,
   "metadata": {
    "collapsed": false,
    "deletable": true,
    "editable": true
   },
   "outputs": [],
   "source": [
    "%matplotlib inline\n",
    "%config InlineBackend.figure_format = 'retina'\n",
    "\n",
    "import helper\n",
    "import numpy as np\n",
    "\n",
    "# Explore the dataset\n",
    "batch_id = 1\n",
    "sample_id = 8\n",
    "helper.display_stats(cifar10_dataset_folder_path, batch_id, sample_id)"
   ]
  },
  {
   "cell_type": "markdown",
   "metadata": {
    "deletable": true,
    "editable": true
   },
   "source": [
    "## Implement Preprocess Functions\n",
    "### Normalize\n",
    "In the cell below, implement the `normalize` function to take in image data, `x`, and return it as a normalized Numpy array. The values should be in the range of 0 to 1, inclusive.  The return object should be the same shape as `x`."
   ]
  },
  {
   "cell_type": "code",
   "execution_count": null,
   "metadata": {
    "collapsed": false,
    "deletable": true,
    "editable": true
   },
   "outputs": [],
   "source": [
    "def normalize(x):\n",
    "    \"\"\"\n",
    "    Normalize a list of sample image data in the range of 0 to 1\n",
    "    : x: List of image data.  The image shape is (32, 32, 3)\n",
    "    : return: Numpy array of normalize data\n",
    "    \"\"\"\n",
    "    # TODO: Implement Function\n",
    "    return np.array(x) / 255.\n",
    "\n",
    "\n",
    "\"\"\"\n",
    "DON'T MODIFY ANYTHING IN THIS CELL THAT IS BELOW THIS LINE\n",
    "\"\"\"\n",
    "tests.test_normalize(normalize)"
   ]
  },
  {
   "cell_type": "markdown",
   "metadata": {
    "deletable": true,
    "editable": true
   },
   "source": [
    "### One-hot encode\n",
    "Just like the previous code cell, you'll be implementing a function for preprocessing.  This time, you'll implement the `one_hot_encode` function. The input, `x`, are a list of labels.  Implement the function to return the list of labels as One-Hot encoded Numpy array.  The possible values for labels are 0 to 9. The one-hot encoding function should return the same encoding for each value between each call to `one_hot_encode`.  Make sure to save the map of encodings outside the function.\n",
    "\n",
    "Hint: Don't reinvent the wheel."
   ]
  },
  {
   "cell_type": "code",
   "execution_count": null,
   "metadata": {
    "collapsed": false,
    "deletable": true,
    "editable": true
   },
   "outputs": [],
   "source": [
    "def one_hot_encode(x):\n",
    "    \"\"\"\n",
    "    One hot encode a list of sample labels. Return a one-hot encoded vector for each label.\n",
    "    : x: List of sample Labels\n",
    "    : return: Numpy array of one-hot encoded labels\n",
    "    \"\"\"\n",
    "    # TODO: Implement Function\n",
    "    one_hot_x = []\n",
    "    for label in x:\n",
    "        one_hot = [0.] * 10\n",
    "        one_hot[label] = 1\n",
    "        one_hot_x.append(one_hot)\n",
    "    return np.array(one_hot_x).astype(np.float16)\n",
    "\n",
    "\"\"\"\n",
    "DON'T MODIFY ANYTHING IN THIS CELL THAT IS BELOW THIS LINE\n",
    "\"\"\"\n",
    "tests.test_one_hot_encode(one_hot_encode)"
   ]
  },
  {
   "cell_type": "markdown",
   "metadata": {
    "deletable": true,
    "editable": true
   },
   "source": [
    "### Randomize Data\n",
    "As you saw from exploring the data above, the order of the samples are randomized.  It doesn't hurt to randomize it again, but you don't need to for this dataset."
   ]
  },
  {
   "cell_type": "markdown",
   "metadata": {
    "deletable": true,
    "editable": true
   },
   "source": [
    "## Preprocess all the data and save it\n",
    "Running the code cell below will preprocess all the CIFAR-10 data and save it to file. The code below also uses 10% of the training data for validation."
   ]
  },
  {
   "cell_type": "code",
   "execution_count": null,
   "metadata": {
    "collapsed": false,
    "deletable": true,
    "editable": true
   },
   "outputs": [],
   "source": [
    "\"\"\"\n",
    "DON'T MODIFY ANYTHING IN THIS CELL\n",
    "\"\"\"\n",
    "# Preprocess Training, Validation, and Testing Data\n",
    "helper.preprocess_and_save_data(cifar10_dataset_folder_path, normalize, one_hot_encode)"
   ]
  },
  {
   "cell_type": "markdown",
   "metadata": {
    "deletable": true,
    "editable": true
   },
   "source": [
    "# Check Point\n",
    "This is your first checkpoint.  If you ever decide to come back to this notebook or have to restart the notebook, you can start from here.  The preprocessed data has been saved to disk."
   ]
  },
  {
   "cell_type": "code",
   "execution_count": 1,
   "metadata": {
    "collapsed": true,
    "deletable": true,
    "editable": true
   },
   "outputs": [],
   "source": [
    "\"\"\"\n",
    "DON'T MODIFY ANYTHING IN THIS CELL\n",
    "\"\"\"\n",
    "import pickle\n",
    "import problem_unittests as tests\n",
    "import helper\n",
    "import numpy as np\n",
    "\n",
    "# Load the Preprocessed Validation data\n",
    "valid_features, valid_labels = pickle.load(open('preprocess_validation.p', mode='rb'))"
   ]
  },
  {
   "cell_type": "markdown",
   "metadata": {
    "deletable": true,
    "editable": true
   },
   "source": [
    "## Build the network\n",
    "For the neural network, you'll build each layer into a function.  Most of the code you've seen has been outside of functions. To test your code more thoroughly, we require that you put each layer in a function.  This allows us to give you better feedback and test for simple mistakes using our unittests before you submit your project.\n",
    "\n",
    ">**Note:** If you're finding it hard to dedicate enough time for this course each week, we've provided a small shortcut to this part of the project. In the next couple of problems, you'll have the option to use classes from the [TensorFlow Layers](https://www.tensorflow.org/api_docs/python/tf/layers) or [TensorFlow Layers (contrib)](https://www.tensorflow.org/api_guides/python/contrib.layers) packages to build each layer, except the layers you build in the \"Convolutional and Max Pooling Layer\" section.  TF Layers is similar to Keras's and TFLearn's abstraction to layers, so it's easy to pickup.\n",
    "\n",
    ">However, if you would like to get the most out of this course, try to solve all the problems _without_ using anything from the TF Layers packages. You **can** still use classes from other packages that happen to have the same name as ones you find in TF Layers! For example, instead of using the TF Layers version of the `conv2d` class, [tf.layers.conv2d](https://www.tensorflow.org/api_docs/python/tf/layers/conv2d), you would want to use the TF Neural Network version of `conv2d`, [tf.nn.conv2d](https://www.tensorflow.org/api_docs/python/tf/nn/conv2d). \n",
    "\n",
    "Let's begin!\n",
    "\n",
    "### Input\n",
    "The neural network needs to read the image data, one-hot encoded labels, and dropout keep probability. Implement the following functions\n",
    "* Implement `neural_net_image_input`\n",
    " * Return a [TF Placeholder](https://www.tensorflow.org/api_docs/python/tf/placeholder)\n",
    " * Set the shape using `image_shape` with batch size set to `None`.\n",
    " * Name the TensorFlow placeholder \"x\" using the TensorFlow `name` parameter in the [TF Placeholder](https://www.tensorflow.org/api_docs/python/tf/placeholder).\n",
    "* Implement `neural_net_label_input`\n",
    " * Return a [TF Placeholder](https://www.tensorflow.org/api_docs/python/tf/placeholder)\n",
    " * Set the shape using `n_classes` with batch size set to `None`.\n",
    " * Name the TensorFlow placeholder \"y\" using the TensorFlow `name` parameter in the [TF Placeholder](https://www.tensorflow.org/api_docs/python/tf/placeholder).\n",
    "* Implement `neural_net_keep_prob_input`\n",
    " * Return a [TF Placeholder](https://www.tensorflow.org/api_docs/python/tf/placeholder) for dropout keep probability.\n",
    " * Name the TensorFlow placeholder \"keep_prob\" using the TensorFlow `name` parameter in the [TF Placeholder](https://www.tensorflow.org/api_docs/python/tf/placeholder).\n",
    "\n",
    "These names will be used at the end of the project to load your saved model.\n",
    "\n",
    "Note: `None` for shapes in TensorFlow allow for a dynamic size."
   ]
  },
  {
   "cell_type": "code",
   "execution_count": 2,
   "metadata": {
    "collapsed": false,
    "deletable": true,
    "editable": true
   },
   "outputs": [
    {
     "name": "stdout",
     "output_type": "stream",
     "text": [
      "Image Input Tests Passed.\n",
      "Label Input Tests Passed.\n",
      "Keep Prob Tests Passed.\n"
     ]
    }
   ],
   "source": [
    "import tensorflow as tf\n",
    "\n",
    "def neural_net_image_input(image_shape):\n",
    "    \"\"\"\n",
    "    Return a Tensor for a bach of image input\n",
    "    : image_shape: Shape of the images\n",
    "    : return: Tensor for image input.\n",
    "    \"\"\"\n",
    "    # TODO: Implement Function\n",
    "    return tf.placeholder(tf.float32, shape=[None, image_shape[0], image_shape[1], image_shape[2]], name='x')\n",
    "\n",
    "\n",
    "def neural_net_label_input(n_classes):\n",
    "    \"\"\"\n",
    "    Return a Tensor for a batch of label input\n",
    "    : n_classes: Number of classes\n",
    "    : return: Tensor for label input.\n",
    "    \"\"\"\n",
    "    # TODO: Implement Function\n",
    "    return tf.placeholder(tf.float32, shape=[None, n_classes], name='y')\n",
    "\n",
    "\n",
    "def neural_net_keep_prob_input():\n",
    "    \"\"\"\n",
    "    Return a Tensor for keep probability\n",
    "    : return: Tensor for keep probability.\n",
    "    \"\"\"\n",
    "    # TODO: Implement Function\n",
    "    return tf.placeholder(tf.float32, name='keep_prob')\n",
    "\n",
    "\n",
    "\"\"\"\n",
    "DON'T MODIFY ANYTHING IN THIS CELL THAT IS BELOW THIS LINE\n",
    "\"\"\"\n",
    "tf.reset_default_graph()\n",
    "tests.test_nn_image_inputs(neural_net_image_input)\n",
    "tests.test_nn_label_inputs(neural_net_label_input)\n",
    "tests.test_nn_keep_prob_inputs(neural_net_keep_prob_input)"
   ]
  },
  {
   "cell_type": "markdown",
   "metadata": {
    "deletable": true,
    "editable": true
   },
   "source": [
    "### Convolution and Max Pooling Layer\n",
    "Convolution layers have a lot of success with images. For this code cell, you should implement the function `conv2d_maxpool` to apply convolution then max pooling:\n",
    "* Create the weight and bias using `conv_ksize`, `conv_num_outputs` and the shape of `x_tensor`.\n",
    "* Apply a convolution to `x_tensor` using weight and `conv_strides`.\n",
    " * We recommend you use same padding, but you're welcome to use any padding.\n",
    "* Add bias\n",
    "* Add a nonlinear activation to the convolution.\n",
    "* Apply Max Pooling using `pool_ksize` and `pool_strides`.\n",
    " * We recommend you use same padding, but you're welcome to use any padding.\n",
    "\n",
    "**Note:** You **can't** use [TensorFlow Layers](https://www.tensorflow.org/api_docs/python/tf/layers) or [TensorFlow Layers (contrib)](https://www.tensorflow.org/api_guides/python/contrib.layers) for **this** layer, but you can still use TensorFlow's [Neural Network](https://www.tensorflow.org/api_docs/python/tf/nn) package. You may still use the shortcut option for all the **other** layers."
   ]
  },
  {
   "cell_type": "code",
   "execution_count": 3,
   "metadata": {
    "collapsed": false,
    "deletable": true,
    "editable": true,
    "scrolled": false
   },
   "outputs": [
    {
     "name": "stdout",
     "output_type": "stream",
     "text": [
      "Tests Passed\n"
     ]
    }
   ],
   "source": [
    "def conv2d_maxpool(x_tensor, conv_num_outputs, conv_ksize, conv_strides, pool_ksize, pool_strides):\n",
    "    \"\"\"\n",
    "    Apply convolution then max pooling to x_tensor\n",
    "    :param x_tensor: TensorFlow Tensor\n",
    "    :param conv_num_outputs: Number of outputs for the convolutional layer\n",
    "    :param conv_ksize: kernal size 2-D Tuple for the convolutional layer\n",
    "    :param conv_strides: Stride 2-D Tuple for convolution\n",
    "    :param pool_ksize: kernal size 2-D Tuple for pool\n",
    "    :param pool_strides: Stride 2-D Tuple for pool\n",
    "    : return: A tensor that represents convolution and max pooling of x_tensor\n",
    "    \"\"\"\n",
    "    # TODO: Implement Function\n",
    "    w_conv = tf.Variable(tf.truncated_normal([conv_ksize[0], conv_ksize[1],\n",
    "                                              x_tensor.get_shape().as_list()[-1], conv_num_outputs]))\n",
    "    b_conv = tf.Variable(tf.zeros(conv_num_outputs))\n",
    "    conv = tf.nn.conv2d(x_tensor, w_conv, [1, conv_strides[0], conv_strides[1], 1], padding='SAME')\n",
    "    conv = tf.nn.bias_add(conv, b_conv)\n",
    "    conv = tf.nn.relu(conv)\n",
    "    max_pool = tf.nn.max_pool(conv, [1, pool_ksize[0], pool_ksize[1], 1], [1, pool_strides[0], pool_strides[1], 1],\n",
    "                             padding='SAME')\n",
    "    return max_pool \n",
    "\n",
    "\n",
    "\"\"\"\n",
    "DON'T MODIFY ANYTHING IN THIS CELL THAT IS BELOW THIS LINE\n",
    "\"\"\"\n",
    "tests.test_con_pool(conv2d_maxpool)"
   ]
  },
  {
   "cell_type": "markdown",
   "metadata": {
    "deletable": true,
    "editable": true
   },
   "source": [
    "### Flatten Layer\n",
    "Implement the `flatten` function to change the dimension of `x_tensor` from a 4-D tensor to a 2-D tensor.  The output should be the shape (*Batch Size*, *Flattened Image Size*). Shortcut option: you can use classes from the [TensorFlow Layers](https://www.tensorflow.org/api_docs/python/tf/layers) or [TensorFlow Layers (contrib)](https://www.tensorflow.org/api_guides/python/contrib.layers) packages for this layer. For more of a challenge, only use other TensorFlow packages."
   ]
  },
  {
   "cell_type": "code",
   "execution_count": 4,
   "metadata": {
    "collapsed": false,
    "deletable": true,
    "editable": true
   },
   "outputs": [
    {
     "name": "stdout",
     "output_type": "stream",
     "text": [
      "Tests Passed\n"
     ]
    }
   ],
   "source": [
    "def flatten(x_tensor):\n",
    "    \"\"\"\n",
    "    Flatten x_tensor to (Batch Size, Flattened Image Size)\n",
    "    : x_tensor: A tensor of size (Batch Size, ...), where ... are the image dimensions.\n",
    "    : return: A tensor of size (Batch Size, Flattened Image Size).\n",
    "    \"\"\"\n",
    "    # TODO: Implement Function\n",
    "    shape = x_tensor.get_shape().as_list()\n",
    "    dim = np.prod(shape[1:])\n",
    "    return tf.reshape(x_tensor, [-1, dim])\n",
    "\n",
    "\n",
    "\"\"\"\n",
    "DON'T MODIFY ANYTHING IN THIS CELL THAT IS BELOW THIS LINE\n",
    "\"\"\"\n",
    "tests.test_flatten(flatten)"
   ]
  },
  {
   "cell_type": "markdown",
   "metadata": {
    "deletable": true,
    "editable": true
   },
   "source": [
    "### Fully-Connected Layer\n",
    "Implement the `fully_conn` function to apply a fully connected layer to `x_tensor` with the shape (*Batch Size*, *num_outputs*). Shortcut option: you can use classes from the [TensorFlow Layers](https://www.tensorflow.org/api_docs/python/tf/layers) or [TensorFlow Layers (contrib)](https://www.tensorflow.org/api_guides/python/contrib.layers) packages for this layer. For more of a challenge, only use other TensorFlow packages."
   ]
  },
  {
   "cell_type": "code",
   "execution_count": 5,
   "metadata": {
    "collapsed": false,
    "deletable": true,
    "editable": true
   },
   "outputs": [
    {
     "name": "stdout",
     "output_type": "stream",
     "text": [
      "Tests Passed\n"
     ]
    }
   ],
   "source": [
    "def fully_conn(x_tensor, num_outputs):\n",
    "    \"\"\"\n",
    "    Apply a fully connected layer to x_tensor using weight and bias\n",
    "    : x_tensor: A 2-D tensor where the first dimension is batch size.\n",
    "    : num_outputs: The number of output that the new tensor should be.\n",
    "    : return: A 2-D tensor where the second dimension is num_outputs.\n",
    "    \"\"\"\n",
    "    # TODO: Implement Function\n",
    "    w_fc = tf.Variable(tf.truncated_normal([x_tensor.get_shape().as_list()[1], num_outputs]))\n",
    "    b_fc = tf.Variable(tf.zeros(num_outputs))\n",
    "    fc = tf.add(tf.matmul(x_tensor, w_fc), b_fc)\n",
    "    fc = tf.nn.relu(fc)\n",
    "    return fc\n",
    "\n",
    "\n",
    "\"\"\"\n",
    "DON'T MODIFY ANYTHING IN THIS CELL THAT IS BELOW THIS LINE\n",
    "\"\"\"\n",
    "tests.test_fully_conn(fully_conn)"
   ]
  },
  {
   "cell_type": "markdown",
   "metadata": {
    "deletable": true,
    "editable": true
   },
   "source": [
    "### Output Layer\n",
    "Implement the `output` function to apply a fully connected layer to `x_tensor` with the shape (*Batch Size*, *num_outputs*). Shortcut option: you can use classes from the [TensorFlow Layers](https://www.tensorflow.org/api_docs/python/tf/layers) or [TensorFlow Layers (contrib)](https://www.tensorflow.org/api_guides/python/contrib.layers) packages for this layer. For more of a challenge, only use other TensorFlow packages.\n",
    "\n",
    "**Note:** Activation, softmax, or cross entropy should **not** be applied to this."
   ]
  },
  {
   "cell_type": "code",
   "execution_count": 6,
   "metadata": {
    "collapsed": false,
    "deletable": true,
    "editable": true
   },
   "outputs": [
    {
     "name": "stdout",
     "output_type": "stream",
     "text": [
      "Tests Passed\n"
     ]
    }
   ],
   "source": [
    "def output(x_tensor, num_outputs):\n",
    "    \"\"\"\n",
    "    Apply a output layer to x_tensor using weight and bias\n",
    "    : x_tensor: A 2-D tensor where the first dimension is batch size.\n",
    "    : num_outputs: The number of output that the new tensor should be.\n",
    "    : return: A 2-D tensor where the second dimension is num_outputs.\n",
    "    \"\"\"\n",
    "    # TODO: Implement Function\n",
    "    w_o = tf.Variable(tf.truncated_normal([x_tensor.get_shape().as_list()[1], num_outputs]))\n",
    "    b_o = tf.Variable(tf.zeros(num_outputs))\n",
    "    output = tf.add(tf.matmul(x_tensor, w_o), b_o)\n",
    "    return output\n",
    "\n",
    "\n",
    "\"\"\"\n",
    "DON'T MODIFY ANYTHING IN THIS CELL THAT IS BELOW THIS LINE\n",
    "\"\"\"\n",
    "tests.test_output(output)"
   ]
  },
  {
   "cell_type": "markdown",
   "metadata": {
    "deletable": true,
    "editable": true
   },
   "source": [
    "### Create Convolutional Model\n",
    "Implement the function `conv_net` to create a convolutional neural network model. The function takes in a batch of images, `x`, and outputs logits.  Use the layers you created above to create this model:\n",
    "\n",
    "* Apply 1, 2, or 3 Convolution and Max Pool layers\n",
    "* Apply a Flatten Layer\n",
    "* Apply 1, 2, or 3 Fully Connected Layers\n",
    "* Apply an Output Layer\n",
    "* Return the output\n",
    "* Apply [TensorFlow's Dropout](https://www.tensorflow.org/api_docs/python/tf/nn/dropout) to one or more layers in the model using `keep_prob`. "
   ]
  },
  {
   "cell_type": "code",
   "execution_count": 45,
   "metadata": {
    "collapsed": false,
    "deletable": true,
    "editable": true
   },
   "outputs": [
    {
     "name": "stdout",
     "output_type": "stream",
     "text": [
      "Neural Network Built!\n"
     ]
    }
   ],
   "source": [
    "def conv_net(x, keep_prob):\n",
    "    \"\"\"\n",
    "    Create a convolutional neural network model\n",
    "    : x: Placeholder tensor that holds image data.\n",
    "    : keep_prob: Placeholder tensor that hold dropout keep probability.\n",
    "    : return: Tensor that represents logits\n",
    "    \"\"\"\n",
    "    # TODO: Apply 1, 2, or 3 Convolution and Max Pool layers\n",
    "    #    Play around with different number of outputs, kernel size and stride\n",
    "    # Function Definition from Above:\n",
    "    #    conv2d_maxpool(x_tensor, conv_num_outputs, conv_ksize, conv_strides, pool_ksize, pool_strides)\n",
    "    conv_1 = conv2d_maxpool(x, conv_num_outputs=32, conv_ksize=(5, 5), conv_strides=(1, 1),\n",
    "                           pool_ksize=(2, 2), pool_strides=(2, 2))\n",
    "    conv_2 = conv2d_maxpool(conv_1, conv_num_outputs=64, conv_ksize=(3, 3), conv_strides=(1, 1),\n",
    "                           pool_ksize=(2, 2), pool_strides=(2, 2))\n",
    "#     conv_3 = conv2d_maxpool(conv_2, conv_num_outputs=256, conv_ksize=(2, 2), conv_strides=(1, 1),\n",
    "#                        pool_ksize=(2, 2), pool_strides=(1, 1))\n",
    "\n",
    "    # TODO: Apply a Flatten Layer\n",
    "    # Function Definition from Above:\n",
    "    #   flatten(x_tensor)\n",
    "    fc_1 = flatten(conv_2)\n",
    "    \n",
    "\n",
    "    # TODO: Apply 1, 2, or 3 Fully Connected Layers\n",
    "    #    Play around with different number of outputs\n",
    "    # Function Definition from Above:\n",
    "    #   fully_conn(x_tensor, num_outputs)\n",
    "    fc_1 = fully_conn(fc_1, 1024)\n",
    "    fc_1 = tf.nn.dropout(fc_1, keep_prob)\n",
    "#     fc_2 = fully_conn(fc_1, 4096)\n",
    "#     fc_2 = tf.nn.dropout(fc_2, keep_prob)\n",
    "#     fc_3 = fully_conn(fc_1, 1024)\n",
    "#     fc_3 = tf.nn.dropout(fc_3, keep_prob)\n",
    "    \n",
    "    # TODO: Apply an Output Layer\n",
    "    #    Set this to the number of classes\n",
    "    # Function Definition from Above:\n",
    "    #   output(x_tensor, num_outputs)\n",
    "    logits = output(fc_1, 10)\n",
    "    \n",
    "    # TODO: return output\n",
    "    return logits\n",
    "\n",
    "\n",
    "\"\"\"\n",
    "DON'T MODIFY ANYTHING IN THIS CELL THAT IS BELOW THIS LINE\n",
    "\"\"\"\n",
    "\n",
    "##############################\n",
    "## Build the Neural Network ##\n",
    "##############################\n",
    "\n",
    "# Remove previous weights, bias, inputs, etc..\n",
    "tf.reset_default_graph()\n",
    "\n",
    "# Inputs\n",
    "x = neural_net_image_input((32, 32, 3))\n",
    "y = neural_net_label_input(10)\n",
    "keep_prob = neural_net_keep_prob_input()\n",
    "\n",
    "# Model\n",
    "logits = conv_net(x, keep_prob)\n",
    "\n",
    "# Name logits Tensor, so that is can be loaded from disk after training\n",
    "logits = tf.identity(logits, name='logits')\n",
    "\n",
    "# Loss and Optimizer\n",
    "cost = tf.reduce_mean(tf.nn.softmax_cross_entropy_with_logits(logits=logits, labels=y))\n",
    "optimizer = tf.train.AdamOptimizer().minimize(cost)\n",
    "\n",
    "# Accuracy\n",
    "correct_pred = tf.equal(tf.argmax(logits, 1), tf.argmax(y, 1))\n",
    "accuracy = tf.reduce_mean(tf.cast(correct_pred, tf.float32), name='accuracy')\n",
    "\n",
    "tests.test_conv_net(conv_net)"
   ]
  },
  {
   "cell_type": "markdown",
   "metadata": {
    "deletable": true,
    "editable": true
   },
   "source": [
    "## Train the Neural Network\n",
    "### Single Optimization\n",
    "Implement the function `train_neural_network` to do a single optimization.  The optimization should use `optimizer` to optimize in `session` with a `feed_dict` of the following:\n",
    "* `x` for image input\n",
    "* `y` for labels\n",
    "* `keep_prob` for keep probability for dropout\n",
    "\n",
    "This function will be called for each batch, so `tf.global_variables_initializer()` has already been called.\n",
    "\n",
    "Note: Nothing needs to be returned. This function is only optimizing the neural network."
   ]
  },
  {
   "cell_type": "code",
   "execution_count": 46,
   "metadata": {
    "collapsed": false,
    "deletable": true,
    "editable": true
   },
   "outputs": [
    {
     "name": "stdout",
     "output_type": "stream",
     "text": [
      "Tests Passed\n"
     ]
    }
   ],
   "source": [
    "def train_neural_network(session, optimizer, keep_probability, feature_batch, label_batch):\n",
    "    \"\"\"\n",
    "    Optimize the session on a batch of images and labels\n",
    "    : session: Current TensorFlow session\n",
    "    : optimizer: TensorFlow optimizer function\n",
    "    : keep_probability: keep probability\n",
    "    : feature_batch: Batch of Numpy image data\n",
    "    : label_batch: Batch of Numpy label data\n",
    "    \"\"\"\n",
    "    # TODO: Implement Function\n",
    "    session.run(optimizer, feed_dict={x: feature_batch, y: label_batch,\n",
    "                                     keep_prob: keep_probability})\n",
    "\n",
    "\n",
    "\"\"\"\n",
    "DON'T MODIFY ANYTHING IN THIS CELL THAT IS BELOW THIS LINE\n",
    "\"\"\"\n",
    "tests.test_train_nn(train_neural_network)"
   ]
  },
  {
   "cell_type": "markdown",
   "metadata": {
    "deletable": true,
    "editable": true
   },
   "source": [
    "### Show Stats\n",
    "Implement the function `print_stats` to print loss and validation accuracy.  Use the global variables `valid_features` and `valid_labels` to calculate validation accuracy.  Use a keep probability of `1.0` to calculate the loss and validation accuracy."
   ]
  },
  {
   "cell_type": "code",
   "execution_count": 47,
   "metadata": {
    "collapsed": true,
    "deletable": true,
    "editable": true
   },
   "outputs": [],
   "source": [
    "def print_stats(session, feature_batch, label_batch, cost, accuracy):\n",
    "    \"\"\"\n",
    "    Print information about loss and validation accuracy\n",
    "    : session: Current TensorFlow session\n",
    "    : feature_batch: Batch of Numpy image data\n",
    "    : label_batch: Batch of Numpy label data\n",
    "    : cost: TensorFlow cost function\n",
    "    : accuracy: TensorFlow accuracy function\n",
    "    \"\"\"\n",
    "    # TODO: Implement Function\n",
    "    feed_dict={x: feature_batch, y: label_batch, keep_prob: 1.}\n",
    "    _cost = session.run(cost, feed_dict)\n",
    "    _accuracy = session.run(accuracy, feed_dict)\n",
    "    print('Cost: {:>10.4f}, Train Accuracy: {:.4f}'.format(_cost, _accuracy))"
   ]
  },
  {
   "cell_type": "markdown",
   "metadata": {
    "deletable": true,
    "editable": true
   },
   "source": [
    "### Hyperparameters\n",
    "Tune the following parameters:\n",
    "* Set `epochs` to the number of iterations until the network stops learning or start overfitting\n",
    "* Set `batch_size` to the highest number that your machine has memory for.  Most people set them to common sizes of memory:\n",
    " * 64\n",
    " * 128\n",
    " * 256\n",
    " * ...\n",
    "* Set `keep_probability` to the probability of keeping a node using dropout"
   ]
  },
  {
   "cell_type": "code",
   "execution_count": 53,
   "metadata": {
    "collapsed": false,
    "deletable": true,
    "editable": true
   },
   "outputs": [],
   "source": [
    "# TODO: Tune Parameters\n",
    "epochs = 60\n",
    "batch_size = 1024\n",
    "keep_probability = 1"
   ]
  },
  {
   "cell_type": "markdown",
   "metadata": {
    "deletable": true,
    "editable": true
   },
   "source": [
    "### Train on a Single CIFAR-10 Batch\n",
    "Instead of training the neural network on all the CIFAR-10 batches of data, let's use a single batch. This should save time while you iterate on the model to get a better accuracy.  Once the final validation accuracy is 50% or greater, run the model on all the data in the next section."
   ]
  },
  {
   "cell_type": "code",
   "execution_count": 50,
   "metadata": {
    "collapsed": false,
    "deletable": true,
    "editable": true,
    "scrolled": false
   },
   "outputs": [
    {
     "name": "stdout",
     "output_type": "stream",
     "text": [
      "Checking the Training on a Single Batch...\n",
      "Epoch  1, CIFAR-10 Batch 1:  Cost: 18130.2305, Train Accuracy: 0.1597\n",
      "Epoch  2, CIFAR-10 Batch 1:  Cost: 11517.7422, Train Accuracy: 0.1621\n",
      "Epoch  3, CIFAR-10 Batch 1:  Cost:  9095.5771, Train Accuracy: 0.2116\n",
      "Epoch  4, CIFAR-10 Batch 1:  Cost:  7904.5908, Train Accuracy: 0.2314\n",
      "Epoch  5, CIFAR-10 Batch 1:  Cost:  6766.5815, Train Accuracy: 0.2438\n",
      "Epoch  6, CIFAR-10 Batch 1:  Cost:  6075.4009, Train Accuracy: 0.2611\n",
      "Epoch  7, CIFAR-10 Batch 1:  Cost:  5515.5332, Train Accuracy: 0.2785\n",
      "Epoch  8, CIFAR-10 Batch 1:  Cost:  5117.9585, Train Accuracy: 0.3007\n",
      "Epoch  9, CIFAR-10 Batch 1:  Cost:  4760.7959, Train Accuracy: 0.3181\n",
      "Epoch 10, CIFAR-10 Batch 1:  Cost:  4414.9390, Train Accuracy: 0.3304\n",
      "Epoch 11, CIFAR-10 Batch 1:  Cost:  4127.5645, Train Accuracy: 0.3540\n",
      "Epoch 12, CIFAR-10 Batch 1:  Cost:  3839.7266, Train Accuracy: 0.3762\n",
      "Epoch 13, CIFAR-10 Batch 1:  Cost:  3601.8933, Train Accuracy: 0.3750\n",
      "Epoch 14, CIFAR-10 Batch 1:  Cost:  3379.7830, Train Accuracy: 0.3899\n",
      "Epoch 15, CIFAR-10 Batch 1:  Cost:  3165.2563, Train Accuracy: 0.4059\n",
      "Epoch 16, CIFAR-10 Batch 1:  Cost:  2985.1475, Train Accuracy: 0.4257\n",
      "Epoch 17, CIFAR-10 Batch 1:  Cost:  2860.5625, Train Accuracy: 0.4356\n",
      "Epoch 18, CIFAR-10 Batch 1:  Cost:  2773.7224, Train Accuracy: 0.4381\n",
      "Epoch 19, CIFAR-10 Batch 1:  Cost:  2712.4597, Train Accuracy: 0.4332\n",
      "Epoch 20, CIFAR-10 Batch 1:  Cost:  2621.6138, Train Accuracy: 0.4418\n",
      "Epoch 21, CIFAR-10 Batch 1:  Cost:  2463.1191, Train Accuracy: 0.4629\n",
      "Epoch 22, CIFAR-10 Batch 1:  Cost:  2296.8689, Train Accuracy: 0.4728\n",
      "Epoch 23, CIFAR-10 Batch 1:  Cost:  2248.8894, Train Accuracy: 0.4765\n",
      "Epoch 24, CIFAR-10 Batch 1:  Cost:  2271.5337, Train Accuracy: 0.4691\n",
      "Epoch 25, CIFAR-10 Batch 1:  Cost:  2131.7617, Train Accuracy: 0.4790\n",
      "Epoch 26, CIFAR-10 Batch 1:  Cost:  1896.3871, Train Accuracy: 0.5087\n",
      "Epoch 27, CIFAR-10 Batch 1:  Cost:  1846.0115, Train Accuracy: 0.5161\n",
      "Epoch 28, CIFAR-10 Batch 1:  Cost:  1930.3391, Train Accuracy: 0.5062\n",
      "Epoch 29, CIFAR-10 Batch 1:  Cost:  1906.8420, Train Accuracy: 0.5074\n",
      "Epoch 30, CIFAR-10 Batch 1:  Cost:  1811.0620, Train Accuracy: 0.5161\n"
     ]
    }
   ],
   "source": [
    "\"\"\"\n",
    "DON'T MODIFY ANYTHING IN THIS CELL\n",
    "\"\"\"\n",
    "print('Checking the Training on a Single Batch...')\n",
    "with tf.Session() as sess:\n",
    "    # Initializing the variables\n",
    "    sess.run(tf.global_variables_initializer())\n",
    "    \n",
    "    # Training cycle\n",
    "    for epoch in range(epochs):\n",
    "        batch_i = 1\n",
    "        for batch_features, batch_labels in helper.load_preprocess_training_batch(batch_i, batch_size):\n",
    "            train_neural_network(sess, optimizer, keep_probability, batch_features, batch_labels)\n",
    "        print('Epoch {:>2}, CIFAR-10 Batch {}:  '.format(epoch + 1, batch_i), end='')\n",
    "        print_stats(sess, batch_features, batch_labels, cost, accuracy)"
   ]
  },
  {
   "cell_type": "markdown",
   "metadata": {},
   "source": [
    "**!!SOS!!** When I modify \n",
    "\n",
    "    keep_probability = 0.8(or some value smaller than 1)\n",
    "\n",
    "my `cost` keep decreasing while training `accuracy` increases for the first several epoches, then decreases to around 0.1, just like follows:\n",
    "\n",
    "    Epoch  1, CIFAR-10 Batch 1:  Cost: 43293.0938, Train Accuracy: 0.1584\n",
    "    Epoch  1, CIFAR-10 Batch 2:  Cost: 22018.2734, Train Accuracy: 0.1658\n",
    "    Epoch  1, CIFAR-10 Batch 3:  Cost: 17729.0566, Train Accuracy: 0.2079\n",
    "    Epoch  1, CIFAR-10 Batch 4:  Cost: 14676.2227, Train Accuracy: 0.2500\n",
    "    Epoch  1, CIFAR-10 Batch 5:  Cost: 13324.8135, Train Accuracy: 0.2450\n",
    "    Epoch  2, CIFAR-10 Batch 1:  Cost: 12244.1816, Train Accuracy: 0.2550\n",
    "    Epoch  2, CIFAR-10 Batch 2:  Cost: 10831.0928, Train Accuracy: 0.2772\n",
    "    Epoch  2, CIFAR-10 Batch 3:  Cost: 10303.9697, Train Accuracy: 0.2710\n",
    "    Epoch  2, CIFAR-10 Batch 4:  Cost:  8049.2266, Train Accuracy: 0.3255\n",
    "    Epoch  2, CIFAR-10 Batch 5:  Cost:  8157.2998, Train Accuracy: 0.3156\n",
    "    Epoch  3, CIFAR-10 Batch 1:  Cost:  7520.9419, Train Accuracy: 0.3354\n",
    "    Epoch  3, CIFAR-10 Batch 2:  Cost:  6930.7402, Train Accuracy: 0.3292\n",
    "    Epoch  3, CIFAR-10 Batch 3:  Cost:  6305.1592, Train Accuracy: 0.3230\n",
    "    Epoch  3, CIFAR-10 Batch 4:  Cost:  5423.0830, Train Accuracy: 0.3490\n",
    "    Epoch  3, CIFAR-10 Batch 5:  Cost:  5298.4043, Train Accuracy: 0.3614\n",
    "    Epoch  4, CIFAR-10 Batch 1:  Cost:  4720.5127, Train Accuracy: 0.3391\n",
    "    Epoch  4, CIFAR-10 Batch 2:  Cost:  4533.3872, Train Accuracy: 0.3639\n",
    "    Epoch  4, CIFAR-10 Batch 3:  Cost:  3985.1626, Train Accuracy: 0.3403\n",
    "    Epoch  4, CIFAR-10 Batch 4:  Cost:  3454.7295, Train Accuracy: 0.3651\n",
    "    Epoch  4, CIFAR-10 Batch 5:  Cost:  3280.3450, Train Accuracy: 0.3762\n",
    "    Epoch  5, CIFAR-10 Batch 1:  Cost:  2979.8796, Train Accuracy: 0.3502\n",
    "    Epoch  5, CIFAR-10 Batch 2:  Cost:  2945.0688, Train Accuracy: 0.3441\n",
    "    Epoch  5, CIFAR-10 Batch 3:  Cost:  2356.9377, Train Accuracy: 0.3465\n",
    "    Epoch  5, CIFAR-10 Batch 4:  Cost:  2021.9301, Train Accuracy: 0.3911\n",
    "    Epoch  5, CIFAR-10 Batch 5:  Cost:  1815.6636, Train Accuracy: 0.3490\n",
    "    Epoch  6, CIFAR-10 Batch 1:  Cost:  1528.2418, Train Accuracy: 0.3168\n",
    "    Epoch  6, CIFAR-10 Batch 2:  Cost:  1330.1191, Train Accuracy: 0.3144\n",
    "    Epoch  6, CIFAR-10 Batch 3:  Cost:   988.3588, Train Accuracy: 0.2710\n",
    "    Epoch  6, CIFAR-10 Batch 4:  Cost:   717.2670, Train Accuracy: 0.2797\n",
    "    Epoch  6, CIFAR-10 Batch 5:  Cost:   500.3400, Train Accuracy: 0.2327\n",
    "    Epoch  7, CIFAR-10 Batch 1:  Cost:   295.0494, Train Accuracy: 0.2054\n",
    "    Epoch  7, CIFAR-10 Batch 2:  Cost:   236.3928, Train Accuracy: 0.1559\n",
    "    Epoch  7, CIFAR-10 Batch 3:  Cost:   153.8337, Train Accuracy: 0.1225\n",
    "    Epoch  7, CIFAR-10 Batch 4:  Cost:    99.3178, Train Accuracy: 0.1386\n",
    "    Epoch  7, CIFAR-10 Batch 5:  Cost:    68.1115, Train Accuracy: 0.1287\n",
    "    Epoch  8, CIFAR-10 Batch 1:  Cost:    52.4287, Train Accuracy: 0.1188\n",
    "    Epoch  8, CIFAR-10 Batch 2:  Cost:    58.4862, Train Accuracy: 0.1151\n",
    "    Epoch  8, CIFAR-10 Batch 3:  Cost:    41.1535, Train Accuracy: 0.1101\n",
    "    Epoch  8, CIFAR-10 Batch 4:  Cost:    34.8422, Train Accuracy: 0.1089\n",
    "    Epoch  8, CIFAR-10 Batch 5:  Cost:    23.2963, Train Accuracy: 0.1213\n",
    "    Epoch  9, CIFAR-10 Batch 1:  Cost:    23.8736, Train Accuracy: 0.1027\n",
    "    Epoch  9, CIFAR-10 Batch 2:  Cost:    26.3636, Train Accuracy: 0.1002\n",
    "    Epoch  9, CIFAR-10 Batch 3:  Cost:    22.8147, Train Accuracy: 0.1015\n",
    "    Epoch  9, CIFAR-10 Batch 4:  Cost:    18.4734, Train Accuracy: 0.0978\n",
    "    Epoch  9, CIFAR-10 Batch 5:  Cost:    12.1492, Train Accuracy: 0.1163\n",
    "    Epoch 10, CIFAR-10 Batch 1:  Cost:    15.8785, Train Accuracy: 0.0978\n",
    "    Epoch 10, CIFAR-10 Batch 2:  Cost:    15.4700, Train Accuracy: 0.0978\n",
    "    Epoch 10, CIFAR-10 Batch 3:  Cost:    15.5465, Train Accuracy: 0.1027\n",
    "    Epoch 10, CIFAR-10 Batch 4:  Cost:    11.2737, Train Accuracy: 0.0978\n",
    "    Epoch 10, CIFAR-10 Batch 5:  Cost:     8.7214, Train Accuracy: 0.1027\n",
    "\n",
    "This confused me a lot, since `cost` and `accuracy` were computed using the same batch,\n",
    "\n",
    "    print_stats(sess, batch_features, batch_labels, cost, accuracy)\n",
    "\n",
    "and they should be exactly negative correlated.\n",
    "    \n",
    "Please help me figure out why this happens? Is there anywhere wrong with my code?\n",
    "Thanks~!\n"
   ]
  },
  {
   "cell_type": "markdown",
   "metadata": {
    "deletable": true,
    "editable": true
   },
   "source": [
    "### Fully Train the Model\n",
    "Now that you got a good accuracy with a single CIFAR-10 batch, try it with all five batches."
   ]
  },
  {
   "cell_type": "code",
   "execution_count": 54,
   "metadata": {
    "collapsed": false,
    "deletable": true,
    "editable": true,
    "scrolled": false
   },
   "outputs": [
    {
     "name": "stdout",
     "output_type": "stream",
     "text": [
      "Training...\n",
      "Epoch  1, CIFAR-10 Batch 1:  Cost: 23972.2539, Train Accuracy: 0.1163\n",
      "Epoch  1, CIFAR-10 Batch 2:  Cost: 16874.9785, Train Accuracy: 0.1275\n",
      "Epoch  1, CIFAR-10 Batch 3:  Cost: 12708.6748, Train Accuracy: 0.1720\n",
      "Epoch  1, CIFAR-10 Batch 4:  Cost: 11039.0361, Train Accuracy: 0.1745\n",
      "Epoch  1, CIFAR-10 Batch 5:  Cost:  9864.5850, Train Accuracy: 0.1943\n",
      "Epoch  2, CIFAR-10 Batch 1:  Cost:  8565.1318, Train Accuracy: 0.2537\n",
      "Epoch  2, CIFAR-10 Batch 2:  Cost:  8110.3794, Train Accuracy: 0.2215\n",
      "Epoch  2, CIFAR-10 Batch 3:  Cost:  7122.7896, Train Accuracy: 0.2735\n",
      "Epoch  2, CIFAR-10 Batch 4:  Cost:  6494.0825, Train Accuracy: 0.2822\n",
      "Epoch  2, CIFAR-10 Batch 5:  Cost:  6710.1958, Train Accuracy: 0.2512\n",
      "Epoch  3, CIFAR-10 Batch 1:  Cost:  5991.0107, Train Accuracy: 0.3218\n",
      "Epoch  3, CIFAR-10 Batch 2:  Cost:  5829.3203, Train Accuracy: 0.2859\n",
      "Epoch  3, CIFAR-10 Batch 3:  Cost:  5353.5181, Train Accuracy: 0.3317\n",
      "Epoch  3, CIFAR-10 Batch 4:  Cost:  4796.1460, Train Accuracy: 0.3329\n",
      "Epoch  3, CIFAR-10 Batch 5:  Cost:  5296.4736, Train Accuracy: 0.3131\n",
      "Epoch  4, CIFAR-10 Batch 1:  Cost:  4674.0337, Train Accuracy: 0.3490\n",
      "Epoch  4, CIFAR-10 Batch 2:  Cost:  4751.2612, Train Accuracy: 0.3243\n",
      "Epoch  4, CIFAR-10 Batch 3:  Cost:  4394.2856, Train Accuracy: 0.3614\n",
      "Epoch  4, CIFAR-10 Batch 4:  Cost:  4005.3000, Train Accuracy: 0.3713\n",
      "Epoch  4, CIFAR-10 Batch 5:  Cost:  4432.1138, Train Accuracy: 0.3441\n",
      "Epoch  5, CIFAR-10 Batch 1:  Cost:  3904.7778, Train Accuracy: 0.3725\n",
      "Epoch  5, CIFAR-10 Batch 2:  Cost:  3989.6992, Train Accuracy: 0.3478\n",
      "Epoch  5, CIFAR-10 Batch 3:  Cost:  3799.8499, Train Accuracy: 0.3787\n",
      "Epoch  5, CIFAR-10 Batch 4:  Cost:  3471.1433, Train Accuracy: 0.3998\n",
      "Epoch  5, CIFAR-10 Batch 5:  Cost:  3777.4702, Train Accuracy: 0.3762\n",
      "Epoch  6, CIFAR-10 Batch 1:  Cost:  3400.9902, Train Accuracy: 0.4084\n",
      "Epoch  6, CIFAR-10 Batch 2:  Cost:  3468.9890, Train Accuracy: 0.3577\n",
      "Epoch  6, CIFAR-10 Batch 3:  Cost:  3390.8740, Train Accuracy: 0.4010\n",
      "Epoch  6, CIFAR-10 Batch 4:  Cost:  3087.1812, Train Accuracy: 0.4196\n",
      "Epoch  6, CIFAR-10 Batch 5:  Cost:  3354.3875, Train Accuracy: 0.4072\n",
      "Epoch  7, CIFAR-10 Batch 1:  Cost:  3018.2559, Train Accuracy: 0.4319\n",
      "Epoch  7, CIFAR-10 Batch 2:  Cost:  3059.9600, Train Accuracy: 0.3960\n",
      "Epoch  7, CIFAR-10 Batch 3:  Cost:  3081.1909, Train Accuracy: 0.4183\n",
      "Epoch  7, CIFAR-10 Batch 4:  Cost:  2779.6221, Train Accuracy: 0.4480\n",
      "Epoch  7, CIFAR-10 Batch 5:  Cost:  3020.5759, Train Accuracy: 0.4307\n",
      "Epoch  8, CIFAR-10 Batch 1:  Cost:  2748.2939, Train Accuracy: 0.4418\n",
      "Epoch  8, CIFAR-10 Batch 2:  Cost:  2781.6125, Train Accuracy: 0.4208\n",
      "Epoch  8, CIFAR-10 Batch 3:  Cost:  2773.3013, Train Accuracy: 0.4344\n",
      "Epoch  8, CIFAR-10 Batch 4:  Cost:  2529.7290, Train Accuracy: 0.4752\n",
      "Epoch  8, CIFAR-10 Batch 5:  Cost:  2738.2075, Train Accuracy: 0.4530\n",
      "Epoch  9, CIFAR-10 Batch 1:  Cost:  2498.4434, Train Accuracy: 0.4777\n",
      "Epoch  9, CIFAR-10 Batch 2:  Cost:  2499.9910, Train Accuracy: 0.4418\n",
      "Epoch  9, CIFAR-10 Batch 3:  Cost:  2544.9546, Train Accuracy: 0.4592\n",
      "Epoch  9, CIFAR-10 Batch 4:  Cost:  2350.0940, Train Accuracy: 0.4864\n",
      "Epoch  9, CIFAR-10 Batch 5:  Cost:  2479.4329, Train Accuracy: 0.4666\n",
      "Epoch 10, CIFAR-10 Batch 1:  Cost:  2326.0054, Train Accuracy: 0.4839\n",
      "Epoch 10, CIFAR-10 Batch 2:  Cost:  2285.0725, Train Accuracy: 0.4530\n",
      "Epoch 10, CIFAR-10 Batch 3:  Cost:  2378.2236, Train Accuracy: 0.4715\n",
      "Epoch 10, CIFAR-10 Batch 4:  Cost:  2144.4795, Train Accuracy: 0.4950\n",
      "Epoch 10, CIFAR-10 Batch 5:  Cost:  2310.8662, Train Accuracy: 0.4839\n",
      "Epoch 11, CIFAR-10 Batch 1:  Cost:  2137.9290, Train Accuracy: 0.4926\n",
      "Epoch 11, CIFAR-10 Batch 2:  Cost:  2107.4824, Train Accuracy: 0.4691\n",
      "Epoch 11, CIFAR-10 Batch 3:  Cost:  2198.9998, Train Accuracy: 0.4901\n",
      "Epoch 11, CIFAR-10 Batch 4:  Cost:  2008.5409, Train Accuracy: 0.4938\n",
      "Epoch 11, CIFAR-10 Batch 5:  Cost:  2119.0161, Train Accuracy: 0.5074\n",
      "Epoch 12, CIFAR-10 Batch 1:  Cost:  2005.5938, Train Accuracy: 0.5025\n",
      "Epoch 12, CIFAR-10 Batch 2:  Cost:  1962.1316, Train Accuracy: 0.4814\n",
      "Epoch 12, CIFAR-10 Batch 3:  Cost:  2032.7413, Train Accuracy: 0.4926\n",
      "Epoch 12, CIFAR-10 Batch 4:  Cost:  1866.5073, Train Accuracy: 0.5210\n",
      "Epoch 12, CIFAR-10 Batch 5:  Cost:  1939.5253, Train Accuracy: 0.5111\n",
      "Epoch 13, CIFAR-10 Batch 1:  Cost:  1900.9324, Train Accuracy: 0.5037\n",
      "Epoch 13, CIFAR-10 Batch 2:  Cost:  1836.6704, Train Accuracy: 0.4950\n",
      "Epoch 13, CIFAR-10 Batch 3:  Cost:  1921.5740, Train Accuracy: 0.5000\n",
      "Epoch 13, CIFAR-10 Batch 4:  Cost:  1790.5054, Train Accuracy: 0.5223\n",
      "Epoch 13, CIFAR-10 Batch 5:  Cost:  1789.2123, Train Accuracy: 0.5260\n",
      "Epoch 14, CIFAR-10 Batch 1:  Cost:  1749.4377, Train Accuracy: 0.5347\n",
      "Epoch 14, CIFAR-10 Batch 2:  Cost:  1740.0249, Train Accuracy: 0.5000\n",
      "Epoch 14, CIFAR-10 Batch 3:  Cost:  1780.9492, Train Accuracy: 0.5223\n",
      "Epoch 14, CIFAR-10 Batch 4:  Cost:  1644.1663, Train Accuracy: 0.5297\n",
      "Epoch 14, CIFAR-10 Batch 5:  Cost:  1706.5566, Train Accuracy: 0.5359\n",
      "Epoch 15, CIFAR-10 Batch 1:  Cost:  1688.4822, Train Accuracy: 0.5433\n",
      "Epoch 15, CIFAR-10 Batch 2:  Cost:  1669.3096, Train Accuracy: 0.5198\n",
      "Epoch 15, CIFAR-10 Batch 3:  Cost:  1688.0121, Train Accuracy: 0.5532\n",
      "Epoch 15, CIFAR-10 Batch 4:  Cost:  1542.0259, Train Accuracy: 0.5433\n",
      "Epoch 15, CIFAR-10 Batch 5:  Cost:  1615.4580, Train Accuracy: 0.5532\n",
      "Epoch 16, CIFAR-10 Batch 1:  Cost:  1571.8787, Train Accuracy: 0.5545\n",
      "Epoch 16, CIFAR-10 Batch 2:  Cost:  1554.6632, Train Accuracy: 0.5272\n",
      "Epoch 16, CIFAR-10 Batch 3:  Cost:  1612.9543, Train Accuracy: 0.5582\n",
      "Epoch 16, CIFAR-10 Batch 4:  Cost:  1476.5858, Train Accuracy: 0.5495\n",
      "Epoch 16, CIFAR-10 Batch 5:  Cost:  1576.8782, Train Accuracy: 0.5656\n",
      "Epoch 17, CIFAR-10 Batch 1:  Cost:  1464.2085, Train Accuracy: 0.5495\n",
      "Epoch 17, CIFAR-10 Batch 2:  Cost:  1443.8781, Train Accuracy: 0.5248\n",
      "Epoch 17, CIFAR-10 Batch 3:  Cost:  1617.2661, Train Accuracy: 0.5631\n",
      "Epoch 17, CIFAR-10 Batch 4:  Cost:  1385.2363, Train Accuracy: 0.5631\n",
      "Epoch 17, CIFAR-10 Batch 5:  Cost:  1444.6484, Train Accuracy: 0.5582\n",
      "Epoch 18, CIFAR-10 Batch 1:  Cost:  1399.3219, Train Accuracy: 0.5532\n",
      "Epoch 18, CIFAR-10 Batch 2:  Cost:  1404.7614, Train Accuracy: 0.5396\n",
      "Epoch 18, CIFAR-10 Batch 3:  Cost:  1538.6504, Train Accuracy: 0.5557\n",
      "Epoch 18, CIFAR-10 Batch 4:  Cost:  1348.7800, Train Accuracy: 0.5421\n",
      "Epoch 18, CIFAR-10 Batch 5:  Cost:  1355.7676, Train Accuracy: 0.5767\n",
      "Epoch 19, CIFAR-10 Batch 1:  Cost:  1347.0227, Train Accuracy: 0.5606\n",
      "Epoch 19, CIFAR-10 Batch 2:  Cost:  1317.7787, Train Accuracy: 0.5458\n",
      "Epoch 19, CIFAR-10 Batch 3:  Cost:  1358.2800, Train Accuracy: 0.5854\n",
      "Epoch 19, CIFAR-10 Batch 4:  Cost:  1285.0454, Train Accuracy: 0.5780\n",
      "Epoch 19, CIFAR-10 Batch 5:  Cost:  1353.3643, Train Accuracy: 0.5681\n",
      "Epoch 20, CIFAR-10 Batch 1:  Cost:  1273.2518, Train Accuracy: 0.5644\n",
      "Epoch 20, CIFAR-10 Batch 2:  Cost:  1232.3083, Train Accuracy: 0.5656\n",
      "Epoch 20, CIFAR-10 Batch 3:  Cost:  1314.2966, Train Accuracy: 0.5866\n",
      "Epoch 20, CIFAR-10 Batch 4:  Cost:  1197.0344, Train Accuracy: 0.5879\n",
      "Epoch 20, CIFAR-10 Batch 5:  Cost:  1315.9232, Train Accuracy: 0.5705\n",
      "Epoch 21, CIFAR-10 Batch 1:  Cost:  1242.2837, Train Accuracy: 0.5705\n",
      "Epoch 21, CIFAR-10 Batch 2:  Cost:  1129.1941, Train Accuracy: 0.5817\n",
      "Epoch 21, CIFAR-10 Batch 3:  Cost:  1257.4258, Train Accuracy: 0.5792\n",
      "Epoch 21, CIFAR-10 Batch 4:  Cost:  1145.8213, Train Accuracy: 0.6139\n",
      "Epoch 21, CIFAR-10 Batch 5:  Cost:  1203.0046, Train Accuracy: 0.5792\n",
      "Epoch 22, CIFAR-10 Batch 1:  Cost:  1158.2028, Train Accuracy: 0.5866\n",
      "Epoch 22, CIFAR-10 Batch 2:  Cost:  1084.9933, Train Accuracy: 0.5792\n",
      "Epoch 22, CIFAR-10 Batch 3:  Cost:  1168.4523, Train Accuracy: 0.5941\n",
      "Epoch 22, CIFAR-10 Batch 4:  Cost:  1101.2520, Train Accuracy: 0.6275\n",
      "Epoch 22, CIFAR-10 Batch 5:  Cost:  1098.6573, Train Accuracy: 0.6200\n",
      "Epoch 23, CIFAR-10 Batch 1:  Cost:  1155.6281, Train Accuracy: 0.5829\n",
      "Epoch 23, CIFAR-10 Batch 2:  Cost:  1068.9282, Train Accuracy: 0.5916\n",
      "Epoch 23, CIFAR-10 Batch 3:  Cost:  1109.6195, Train Accuracy: 0.6151\n",
      "Epoch 23, CIFAR-10 Batch 4:  Cost:  1022.4255, Train Accuracy: 0.6151\n",
      "Epoch 23, CIFAR-10 Batch 5:  Cost:  1061.2878, Train Accuracy: 0.6312\n",
      "Epoch 24, CIFAR-10 Batch 1:  Cost:  1143.1230, Train Accuracy: 0.5817\n",
      "Epoch 24, CIFAR-10 Batch 2:  Cost:   980.0411, Train Accuracy: 0.6052\n",
      "Epoch 24, CIFAR-10 Batch 3:  Cost:  1074.0504, Train Accuracy: 0.6089\n",
      "Epoch 24, CIFAR-10 Batch 4:  Cost:  1025.2405, Train Accuracy: 0.6139\n",
      "Epoch 24, CIFAR-10 Batch 5:  Cost:  1062.9098, Train Accuracy: 0.6188\n",
      "Epoch 25, CIFAR-10 Batch 1:  Cost:  1086.3765, Train Accuracy: 0.5891\n",
      "Epoch 25, CIFAR-10 Batch 2:  Cost:   994.3862, Train Accuracy: 0.5681\n",
      "Epoch 25, CIFAR-10 Batch 3:  Cost:   955.2678, Train Accuracy: 0.6337\n",
      "Epoch 25, CIFAR-10 Batch 4:  Cost:   968.2098, Train Accuracy: 0.6324\n",
      "Epoch 25, CIFAR-10 Batch 5:  Cost:  1156.0319, Train Accuracy: 0.6077\n",
      "Epoch 26, CIFAR-10 Batch 1:  Cost:   978.6594, Train Accuracy: 0.6101\n",
      "Epoch 26, CIFAR-10 Batch 2:  Cost:   916.4320, Train Accuracy: 0.5965\n",
      "Epoch 26, CIFAR-10 Batch 3:  Cost:   936.1509, Train Accuracy: 0.6275\n",
      "Epoch 26, CIFAR-10 Batch 4:  Cost:   909.3484, Train Accuracy: 0.6312\n",
      "Epoch 26, CIFAR-10 Batch 5:  Cost:  1118.6339, Train Accuracy: 0.5990\n",
      "Epoch 27, CIFAR-10 Batch 1:  Cost:  1045.1367, Train Accuracy: 0.6077\n",
      "Epoch 27, CIFAR-10 Batch 2:  Cost:   932.2587, Train Accuracy: 0.6176\n",
      "Epoch 27, CIFAR-10 Batch 3:  Cost:   931.5894, Train Accuracy: 0.6361\n",
      "Epoch 27, CIFAR-10 Batch 4:  Cost:   884.7711, Train Accuracy: 0.6559\n",
      "Epoch 27, CIFAR-10 Batch 5:  Cost:   949.4292, Train Accuracy: 0.6324\n",
      "Epoch 28, CIFAR-10 Batch 1:  Cost:  1081.3602, Train Accuracy: 0.6101\n",
      "Epoch 28, CIFAR-10 Batch 2:  Cost:   902.5292, Train Accuracy: 0.6250\n",
      "Epoch 28, CIFAR-10 Batch 3:  Cost:   880.8003, Train Accuracy: 0.6522\n",
      "Epoch 28, CIFAR-10 Batch 4:  Cost:   932.8599, Train Accuracy: 0.6535\n",
      "Epoch 28, CIFAR-10 Batch 5:  Cost:   883.1805, Train Accuracy: 0.6547\n",
      "Epoch 29, CIFAR-10 Batch 1:  Cost:   991.5133, Train Accuracy: 0.6176\n",
      "Epoch 29, CIFAR-10 Batch 2:  Cost:  1002.0989, Train Accuracy: 0.5730\n",
      "Epoch 29, CIFAR-10 Batch 3:  Cost:   907.0476, Train Accuracy: 0.6547\n",
      "Epoch 29, CIFAR-10 Batch 4:  Cost:   834.1338, Train Accuracy: 0.6733\n",
      "Epoch 29, CIFAR-10 Batch 5:  Cost:   870.4466, Train Accuracy: 0.6733\n",
      "Epoch 30, CIFAR-10 Batch 1:  Cost:   852.1508, Train Accuracy: 0.6460\n",
      "Epoch 30, CIFAR-10 Batch 2:  Cost:   859.9963, Train Accuracy: 0.6176\n",
      "Epoch 30, CIFAR-10 Batch 3:  Cost:   942.5615, Train Accuracy: 0.6485\n",
      "Epoch 30, CIFAR-10 Batch 4:  Cost:   762.0809, Train Accuracy: 0.6646\n",
      "Epoch 30, CIFAR-10 Batch 5:  Cost:   815.3585, Train Accuracy: 0.6782\n",
      "Epoch 31, CIFAR-10 Batch 1:  Cost:   800.1816, Train Accuracy: 0.6683\n",
      "Epoch 31, CIFAR-10 Batch 2:  Cost:   765.7025, Train Accuracy: 0.6485\n",
      "Epoch 31, CIFAR-10 Batch 3:  Cost:   809.3906, Train Accuracy: 0.6634\n",
      "Epoch 31, CIFAR-10 Batch 4:  Cost:   762.2586, Train Accuracy: 0.6782\n",
      "Epoch 31, CIFAR-10 Batch 5:  Cost:   803.7280, Train Accuracy: 0.6720\n",
      "Epoch 32, CIFAR-10 Batch 1:  Cost:   768.9312, Train Accuracy: 0.6658\n",
      "Epoch 32, CIFAR-10 Batch 2:  Cost:   719.7304, Train Accuracy: 0.6609\n",
      "Epoch 32, CIFAR-10 Batch 3:  Cost:   722.7208, Train Accuracy: 0.6807\n",
      "Epoch 32, CIFAR-10 Batch 4:  Cost:   750.0697, Train Accuracy: 0.6584\n",
      "Epoch 32, CIFAR-10 Batch 5:  Cost:   822.8363, Train Accuracy: 0.6671\n",
      "Epoch 33, CIFAR-10 Batch 1:  Cost:   758.9301, Train Accuracy: 0.6683\n",
      "Epoch 33, CIFAR-10 Batch 2:  Cost:   727.9859, Train Accuracy: 0.6597\n",
      "Epoch 33, CIFAR-10 Batch 3:  Cost:   712.5812, Train Accuracy: 0.6720\n",
      "Epoch 33, CIFAR-10 Batch 4:  Cost:   694.2946, Train Accuracy: 0.6918\n",
      "Epoch 33, CIFAR-10 Batch 5:  Cost:   768.4517, Train Accuracy: 0.6708\n",
      "Epoch 34, CIFAR-10 Batch 1:  Cost:   837.0742, Train Accuracy: 0.6609\n",
      "Epoch 34, CIFAR-10 Batch 2:  Cost:   732.3380, Train Accuracy: 0.6646\n",
      "Epoch 34, CIFAR-10 Batch 3:  Cost:   743.1690, Train Accuracy: 0.6597\n",
      "Epoch 34, CIFAR-10 Batch 4:  Cost:   830.4788, Train Accuracy: 0.6621\n",
      "Epoch 34, CIFAR-10 Batch 5:  Cost:   666.4579, Train Accuracy: 0.7005\n",
      "Epoch 35, CIFAR-10 Batch 1:  Cost:   864.9825, Train Accuracy: 0.6399\n",
      "Epoch 35, CIFAR-10 Batch 2:  Cost:   786.6983, Train Accuracy: 0.6473\n",
      "Epoch 35, CIFAR-10 Batch 3:  Cost:   678.8013, Train Accuracy: 0.6559\n",
      "Epoch 35, CIFAR-10 Batch 4:  Cost:   681.7671, Train Accuracy: 0.6931\n",
      "Epoch 35, CIFAR-10 Batch 5:  Cost:   722.7020, Train Accuracy: 0.6634\n",
      "Epoch 36, CIFAR-10 Batch 1:  Cost:   717.6362, Train Accuracy: 0.6696\n",
      "Epoch 36, CIFAR-10 Batch 2:  Cost:   661.6914, Train Accuracy: 0.6572\n",
      "Epoch 36, CIFAR-10 Batch 3:  Cost:   663.4846, Train Accuracy: 0.6609\n",
      "Epoch 36, CIFAR-10 Batch 4:  Cost:   650.6199, Train Accuracy: 0.7017\n",
      "Epoch 36, CIFAR-10 Batch 5:  Cost:   677.0234, Train Accuracy: 0.6745\n",
      "Epoch 37, CIFAR-10 Batch 1:  Cost:   741.8246, Train Accuracy: 0.6671\n",
      "Epoch 37, CIFAR-10 Batch 2:  Cost:   634.8179, Train Accuracy: 0.6696\n",
      "Epoch 37, CIFAR-10 Batch 3:  Cost:   633.7532, Train Accuracy: 0.6819\n",
      "Epoch 37, CIFAR-10 Batch 4:  Cost:   689.2674, Train Accuracy: 0.6646\n",
      "Epoch 37, CIFAR-10 Batch 5:  Cost:   677.3687, Train Accuracy: 0.6572\n",
      "Epoch 38, CIFAR-10 Batch 1:  Cost:   726.7598, Train Accuracy: 0.6733\n",
      "Epoch 38, CIFAR-10 Batch 2:  Cost:   686.5704, Train Accuracy: 0.6399\n",
      "Epoch 38, CIFAR-10 Batch 3:  Cost:   643.7289, Train Accuracy: 0.6807\n",
      "Epoch 38, CIFAR-10 Batch 4:  Cost:   642.2786, Train Accuracy: 0.6931\n",
      "Epoch 38, CIFAR-10 Batch 5:  Cost:   662.1939, Train Accuracy: 0.6696\n",
      "Epoch 39, CIFAR-10 Batch 1:  Cost:   698.6597, Train Accuracy: 0.6634\n",
      "Epoch 39, CIFAR-10 Batch 2:  Cost:   648.8427, Train Accuracy: 0.6634\n",
      "Epoch 39, CIFAR-10 Batch 3:  Cost:   582.9201, Train Accuracy: 0.6980\n",
      "Epoch 39, CIFAR-10 Batch 4:  Cost:   592.5923, Train Accuracy: 0.7116\n",
      "Epoch 39, CIFAR-10 Batch 5:  Cost:   622.8581, Train Accuracy: 0.6795\n",
      "Epoch 40, CIFAR-10 Batch 1:  Cost:   710.9538, Train Accuracy: 0.6621\n",
      "Epoch 40, CIFAR-10 Batch 2:  Cost:   660.3660, Train Accuracy: 0.6733\n",
      "Epoch 40, CIFAR-10 Batch 3:  Cost:   616.6328, Train Accuracy: 0.6720\n",
      "Epoch 40, CIFAR-10 Batch 4:  Cost:   595.4589, Train Accuracy: 0.6993\n",
      "Epoch 40, CIFAR-10 Batch 5:  Cost:   612.2122, Train Accuracy: 0.6943\n",
      "Epoch 41, CIFAR-10 Batch 1:  Cost:   651.9997, Train Accuracy: 0.6696\n",
      "Epoch 41, CIFAR-10 Batch 2:  Cost:   567.7968, Train Accuracy: 0.6980\n",
      "Epoch 41, CIFAR-10 Batch 3:  Cost:   503.4749, Train Accuracy: 0.7228\n",
      "Epoch 41, CIFAR-10 Batch 4:  Cost:   502.0575, Train Accuracy: 0.7314\n",
      "Epoch 41, CIFAR-10 Batch 5:  Cost:   496.9953, Train Accuracy: 0.7512\n",
      "Epoch 42, CIFAR-10 Batch 1:  Cost:   567.6308, Train Accuracy: 0.7079\n",
      "Epoch 42, CIFAR-10 Batch 2:  Cost:   586.0926, Train Accuracy: 0.6832\n",
      "Epoch 42, CIFAR-10 Batch 3:  Cost:   515.2769, Train Accuracy: 0.7116\n",
      "Epoch 42, CIFAR-10 Batch 4:  Cost:   510.0776, Train Accuracy: 0.7277\n",
      "Epoch 42, CIFAR-10 Batch 5:  Cost:   519.0545, Train Accuracy: 0.7389\n",
      "Epoch 43, CIFAR-10 Batch 1:  Cost:   584.7927, Train Accuracy: 0.7067\n",
      "Epoch 43, CIFAR-10 Batch 2:  Cost:   582.0392, Train Accuracy: 0.6844\n",
      "Epoch 43, CIFAR-10 Batch 3:  Cost:   501.5606, Train Accuracy: 0.7178\n",
      "Epoch 43, CIFAR-10 Batch 4:  Cost:   512.2013, Train Accuracy: 0.7178\n",
      "Epoch 43, CIFAR-10 Batch 5:  Cost:   523.1581, Train Accuracy: 0.7290\n",
      "Epoch 44, CIFAR-10 Batch 1:  Cost:   622.5701, Train Accuracy: 0.6844\n",
      "Epoch 44, CIFAR-10 Batch 2:  Cost:   597.6179, Train Accuracy: 0.6819\n",
      "Epoch 44, CIFAR-10 Batch 3:  Cost:   550.6187, Train Accuracy: 0.6856\n",
      "Epoch 44, CIFAR-10 Batch 4:  Cost:   569.8065, Train Accuracy: 0.6943\n",
      "Epoch 44, CIFAR-10 Batch 5:  Cost:   517.8433, Train Accuracy: 0.7475\n",
      "Epoch 45, CIFAR-10 Batch 1:  Cost:   560.0975, Train Accuracy: 0.7030\n",
      "Epoch 45, CIFAR-10 Batch 2:  Cost:   532.0661, Train Accuracy: 0.6993\n",
      "Epoch 45, CIFAR-10 Batch 3:  Cost:   510.8017, Train Accuracy: 0.7104\n",
      "Epoch 45, CIFAR-10 Batch 4:  Cost:   533.7649, Train Accuracy: 0.7252\n",
      "Epoch 45, CIFAR-10 Batch 5:  Cost:   483.1240, Train Accuracy: 0.7389\n",
      "Epoch 46, CIFAR-10 Batch 1:  Cost:   510.8029, Train Accuracy: 0.7265\n",
      "Epoch 46, CIFAR-10 Batch 2:  Cost:   473.2612, Train Accuracy: 0.7104\n",
      "Epoch 46, CIFAR-10 Batch 3:  Cost:   469.5108, Train Accuracy: 0.7252\n",
      "Epoch 46, CIFAR-10 Batch 4:  Cost:   487.9147, Train Accuracy: 0.7364\n",
      "Epoch 46, CIFAR-10 Batch 5:  Cost:   428.9221, Train Accuracy: 0.7587\n",
      "Epoch 47, CIFAR-10 Batch 1:  Cost:   468.5745, Train Accuracy: 0.7376\n",
      "Epoch 47, CIFAR-10 Batch 2:  Cost:   409.2929, Train Accuracy: 0.7450\n",
      "Epoch 47, CIFAR-10 Batch 3:  Cost:   401.4108, Train Accuracy: 0.7587\n",
      "Epoch 47, CIFAR-10 Batch 4:  Cost:   421.4822, Train Accuracy: 0.7537\n",
      "Epoch 47, CIFAR-10 Batch 5:  Cost:   394.5901, Train Accuracy: 0.7698\n",
      "Epoch 48, CIFAR-10 Batch 1:  Cost:   406.4161, Train Accuracy: 0.7574\n",
      "Epoch 48, CIFAR-10 Batch 2:  Cost:   371.2888, Train Accuracy: 0.7698\n",
      "Epoch 48, CIFAR-10 Batch 3:  Cost:   396.5550, Train Accuracy: 0.7512\n",
      "Epoch 48, CIFAR-10 Batch 4:  Cost:   399.6016, Train Accuracy: 0.7550\n",
      "Epoch 48, CIFAR-10 Batch 5:  Cost:   380.1736, Train Accuracy: 0.7760\n",
      "Epoch 49, CIFAR-10 Batch 1:  Cost:   405.2683, Train Accuracy: 0.7562\n",
      "Epoch 49, CIFAR-10 Batch 2:  Cost:   377.6154, Train Accuracy: 0.7562\n",
      "Epoch 49, CIFAR-10 Batch 3:  Cost:   394.5143, Train Accuracy: 0.7525\n",
      "Epoch 49, CIFAR-10 Batch 4:  Cost:   391.8568, Train Accuracy: 0.7599\n",
      "Epoch 49, CIFAR-10 Batch 5:  Cost:   384.5527, Train Accuracy: 0.7624\n",
      "Epoch 50, CIFAR-10 Batch 1:  Cost:   414.0006, Train Accuracy: 0.7450\n",
      "Epoch 50, CIFAR-10 Batch 2:  Cost:   403.0149, Train Accuracy: 0.7438\n",
      "Epoch 50, CIFAR-10 Batch 3:  Cost:   384.3542, Train Accuracy: 0.7537\n",
      "Epoch 50, CIFAR-10 Batch 4:  Cost:   390.4873, Train Accuracy: 0.7512\n",
      "Epoch 50, CIFAR-10 Batch 5:  Cost:   378.2567, Train Accuracy: 0.7698\n",
      "Epoch 51, CIFAR-10 Batch 1:  Cost:   427.9922, Train Accuracy: 0.7327\n",
      "Epoch 51, CIFAR-10 Batch 2:  Cost:   418.4892, Train Accuracy: 0.7389\n",
      "Epoch 51, CIFAR-10 Batch 3:  Cost:   364.8245, Train Accuracy: 0.7512\n",
      "Epoch 51, CIFAR-10 Batch 4:  Cost:   359.3018, Train Accuracy: 0.7710\n",
      "Epoch 51, CIFAR-10 Batch 5:  Cost:   340.2927, Train Accuracy: 0.7772\n",
      "Epoch 52, CIFAR-10 Batch 1:  Cost:   382.5079, Train Accuracy: 0.7735\n",
      "Epoch 52, CIFAR-10 Batch 2:  Cost:   349.8469, Train Accuracy: 0.7587\n",
      "Epoch 52, CIFAR-10 Batch 3:  Cost:   346.7047, Train Accuracy: 0.7574\n",
      "Epoch 52, CIFAR-10 Batch 4:  Cost:   331.4501, Train Accuracy: 0.7735\n",
      "Epoch 52, CIFAR-10 Batch 5:  Cost:   369.2152, Train Accuracy: 0.7537\n",
      "Epoch 53, CIFAR-10 Batch 1:  Cost:   430.1794, Train Accuracy: 0.7376\n",
      "Epoch 53, CIFAR-10 Batch 2:  Cost:   330.5425, Train Accuracy: 0.7587\n",
      "Epoch 53, CIFAR-10 Batch 3:  Cost:   336.1651, Train Accuracy: 0.7512\n",
      "Epoch 53, CIFAR-10 Batch 4:  Cost:   381.7441, Train Accuracy: 0.7574\n",
      "Epoch 53, CIFAR-10 Batch 5:  Cost:   357.8721, Train Accuracy: 0.7587\n",
      "Epoch 54, CIFAR-10 Batch 1:  Cost:   386.0958, Train Accuracy: 0.7537\n",
      "Epoch 54, CIFAR-10 Batch 2:  Cost:   286.1263, Train Accuracy: 0.7871\n",
      "Epoch 54, CIFAR-10 Batch 3:  Cost:   302.0895, Train Accuracy: 0.7748\n",
      "Epoch 54, CIFAR-10 Batch 4:  Cost:   368.9426, Train Accuracy: 0.7636\n",
      "Epoch 54, CIFAR-10 Batch 5:  Cost:   305.0300, Train Accuracy: 0.7946\n",
      "Epoch 55, CIFAR-10 Batch 1:  Cost:   409.6158, Train Accuracy: 0.7376\n",
      "Epoch 55, CIFAR-10 Batch 2:  Cost:   320.7324, Train Accuracy: 0.7562\n",
      "Epoch 55, CIFAR-10 Batch 3:  Cost:   330.2599, Train Accuracy: 0.7624\n",
      "Epoch 55, CIFAR-10 Batch 4:  Cost:   388.8779, Train Accuracy: 0.7438\n",
      "Epoch 55, CIFAR-10 Batch 5:  Cost:   401.7620, Train Accuracy: 0.7215\n",
      "Epoch 56, CIFAR-10 Batch 1:  Cost:   444.2199, Train Accuracy: 0.7067\n",
      "Epoch 56, CIFAR-10 Batch 2:  Cost:   339.6658, Train Accuracy: 0.7413\n",
      "Epoch 56, CIFAR-10 Batch 3:  Cost:   342.5595, Train Accuracy: 0.7636\n",
      "Epoch 56, CIFAR-10 Batch 4:  Cost:   393.9131, Train Accuracy: 0.7500\n",
      "Epoch 56, CIFAR-10 Batch 5:  Cost:   322.0868, Train Accuracy: 0.7649\n",
      "Epoch 57, CIFAR-10 Batch 1:  Cost:   336.1889, Train Accuracy: 0.7847\n",
      "Epoch 57, CIFAR-10 Batch 2:  Cost:   258.1601, Train Accuracy: 0.7958\n",
      "Epoch 57, CIFAR-10 Batch 3:  Cost:   373.5669, Train Accuracy: 0.7475\n",
      "Epoch 57, CIFAR-10 Batch 4:  Cost:   284.4511, Train Accuracy: 0.7921\n",
      "Epoch 57, CIFAR-10 Batch 5:  Cost:   297.1570, Train Accuracy: 0.7884\n",
      "Epoch 58, CIFAR-10 Batch 1:  Cost:   306.1669, Train Accuracy: 0.8007\n",
      "Epoch 58, CIFAR-10 Batch 2:  Cost:   303.1224, Train Accuracy: 0.7797\n",
      "Epoch 58, CIFAR-10 Batch 3:  Cost:   402.2751, Train Accuracy: 0.7290\n",
      "Epoch 58, CIFAR-10 Batch 4:  Cost:   322.9959, Train Accuracy: 0.7649\n",
      "Epoch 58, CIFAR-10 Batch 5:  Cost:   287.6212, Train Accuracy: 0.8057\n",
      "Epoch 59, CIFAR-10 Batch 1:  Cost:   297.0305, Train Accuracy: 0.8007\n",
      "Epoch 59, CIFAR-10 Batch 2:  Cost:   319.7290, Train Accuracy: 0.7550\n",
      "Epoch 59, CIFAR-10 Batch 3:  Cost:   350.5062, Train Accuracy: 0.7611\n",
      "Epoch 59, CIFAR-10 Batch 4:  Cost:   351.4594, Train Accuracy: 0.7364\n",
      "Epoch 59, CIFAR-10 Batch 5:  Cost:   264.5337, Train Accuracy: 0.8020\n",
      "Epoch 60, CIFAR-10 Batch 1:  Cost:   298.7822, Train Accuracy: 0.7921\n",
      "Epoch 60, CIFAR-10 Batch 2:  Cost:   302.9469, Train Accuracy: 0.7636\n",
      "Epoch 60, CIFAR-10 Batch 3:  Cost:   291.7146, Train Accuracy: 0.7847\n",
      "Epoch 60, CIFAR-10 Batch 4:  Cost:   345.7652, Train Accuracy: 0.7364\n",
      "Epoch 60, CIFAR-10 Batch 5:  Cost:   247.9240, Train Accuracy: 0.8144\n"
     ]
    }
   ],
   "source": [
    "\"\"\"\n",
    "DON'T MODIFY ANYTHING IN THIS CELL\n",
    "\"\"\"\n",
    "save_model_path = './image_classification'\n",
    "\n",
    "print('Training...')\n",
    "with tf.Session() as sess:\n",
    "    # Initializing the variables\n",
    "    sess.run(tf.global_variables_initializer())\n",
    "    \n",
    "    # Training cycle\n",
    "    for epoch in range(epochs):\n",
    "        # Loop over all batches\n",
    "        n_batches = 5\n",
    "        for batch_i in range(1, n_batches + 1):\n",
    "            for batch_features, batch_labels in helper.load_preprocess_training_batch(batch_i, batch_size):\n",
    "                train_neural_network(sess, optimizer, keep_probability, batch_features, batch_labels)\n",
    "            print('Epoch {:>2}, CIFAR-10 Batch {}:  '.format(epoch + 1, batch_i), end='')\n",
    "            print_stats(sess, batch_features, batch_labels, cost, accuracy)\n",
    "            \n",
    "    # Save Model\n",
    "    saver = tf.train.Saver()\n",
    "    save_path = saver.save(sess, save_model_path)"
   ]
  },
  {
   "cell_type": "markdown",
   "metadata": {
    "deletable": true,
    "editable": true
   },
   "source": [
    "# Checkpoint\n",
    "The model has been saved to disk.\n",
    "## Test Model\n",
    "Test your model against the test dataset.  This will be your final accuracy. You should have an accuracy greater than 50%. If you don't, keep tweaking the model architecture and parameters."
   ]
  },
  {
   "cell_type": "code",
   "execution_count": 57,
   "metadata": {
    "collapsed": false,
    "deletable": true,
    "editable": true
   },
   "outputs": [
    {
     "name": "stdout",
     "output_type": "stream",
     "text": [
      "Testing Accuracy: 0.5173828095197678\n",
      "\n"
     ]
    },
    {
     "data": {
      "image/png": "[encoded data removed]",
      "text/plain": [
       "<matplotlib.figure.Figure at 0x7f2de5e89320>"
      ]
     },
     "metadata": {
      "image/png": {
       "height": 319,
       "width": 349
      }
     },
     "output_type": "display_data"
    }
   ],
   "source": [
    "\"\"\"\n",
    "DON'T MODIFY ANYTHING IN THIS CELL\n",
    "\"\"\"\n",
    "%matplotlib inline\n",
    "%config InlineBackend.figure_format = 'retina'\n",
    "\n",
    "import tensorflow as tf\n",
    "import pickle\n",
    "import helper\n",
    "import random\n",
    "\n",
    "# Set batch size if not already set\n",
    "try:\n",
    "    if batch_size:\n",
    "        pass\n",
    "except NameError:\n",
    "    batch_size = 64\n",
    "\n",
    "save_model_path = './image_classification'\n",
    "n_samples = 4\n",
    "top_n_predictions = 3\n",
    "\n",
    "def test_model():\n",
    "    \"\"\"\n",
    "    Test the saved model against the test dataset\n",
    "    \"\"\"\n",
    "\n",
    "    test_features, test_labels = pickle.load(open('preprocess_training.p', mode='rb'))\n",
    "    loaded_graph = tf.Graph()\n",
    "\n",
    "    with tf.Session(graph=loaded_graph) as sess:\n",
    "        # Load model\n",
    "        loader = tf.train.import_meta_graph(save_model_path + '.meta')\n",
    "        loader.restore(sess, save_model_path)\n",
    "\n",
    "        # Get Tensors from loaded model\n",
    "        loaded_x = loaded_graph.get_tensor_by_name('x:0')\n",
    "        loaded_y = loaded_graph.get_tensor_by_name('y:0')\n",
    "        loaded_keep_prob = loaded_graph.get_tensor_by_name('keep_prob:0')\n",
    "        loaded_logits = loaded_graph.get_tensor_by_name('logits:0')\n",
    "        loaded_acc = loaded_graph.get_tensor_by_name('accuracy:0')\n",
    "        \n",
    "        # Get accuracy in batches for memory limitations\n",
    "        test_batch_acc_total = 0\n",
    "        test_batch_count = 0\n",
    "        \n",
    "        for train_feature_batch, train_label_batch in helper.batch_features_labels(test_features, test_labels, batch_size):\n",
    "            test_batch_acc_total += sess.run(\n",
    "                loaded_acc,\n",
    "                feed_dict={loaded_x: train_feature_batch, loaded_y: train_label_batch, loaded_keep_prob: 1.0})\n",
    "            test_batch_count += 1\n",
    "\n",
    "        print('Testing Accuracy: {}\\n'.format(test_batch_acc_total/test_batch_count))\n",
    "\n",
    "        # Print Random Samples\n",
    "        random_test_features, random_test_labels = tuple(zip(*random.sample(list(zip(test_features, test_labels)), n_samples)))\n",
    "        random_test_predictions = sess.run(\n",
    "            tf.nn.top_k(tf.nn.softmax(loaded_logits), top_n_predictions),\n",
    "            feed_dict={loaded_x: random_test_features, loaded_y: random_test_labels, loaded_keep_prob: 1.0})\n",
    "        helper.display_image_predictions(random_test_features, random_test_labels, random_test_predictions)\n",
    "\n",
    "\n",
    "test_model()"
   ]
  },
  {
   "cell_type": "markdown",
   "metadata": {
    "deletable": true,
    "editable": true
   },
   "source": [
    "## Why 50-70% Accuracy?\n",
    "You might be wondering why you can't get an accuracy any higher. First things first, 50% isn't bad for a simple CNN.  Pure guessing would get you 10% accuracy. However, you might notice people are getting scores [well above 70%](http://rodrigob.github.io/are_we_there_yet/build/classification_datasets_results.html#43494641522d3130).  That's because we haven't taught you all there is to know about neural networks. We still need to cover a few more techniques.\n",
    "## Submitting This Project\n",
    "When submitting this project, make sure to run all the cells before saving the notebook.  Save the notebook file as \"dlnd_image_classification.ipynb\" and save it as a HTML file under \"File\" -> \"Download as\".  Include the \"helper.py\" and \"problem_unittests.py\" files in your submission."
   ]
  },
  {
   "cell_type": "code",
   "execution_count": null,
   "metadata": {
    "collapsed": true,
    "deletable": true,
    "editable": true
   },
   "outputs": [],
   "source": []
  },
  {
   "cell_type": "code",
   "execution_count": null,
   "metadata": {
    "collapsed": true,
    "deletable": true,
    "editable": true
   },
   "outputs": [],
   "source": []
  },
  {
   "cell_type": "code",
   "execution_count": null,
   "metadata": {
    "collapsed": true,
    "deletable": true,
    "editable": true
   },
   "outputs": [],
   "source": []
  }
 ],
 "metadata": {
  "kernelspec": {
   "display_name": "Python 3",
   "language": "python",
   "name": "python3"
  },
  "language_info": {
   "codemirror_mode": {
    "name": "ipython",
    "version": 3
   },
   "file_extension": ".py",
   "mimetype": "text/x-python",
   "name": "python",
   "nbconvert_exporter": "python",
   "pygments_lexer": "ipython3",
   "version": "3.5.2"
  },
  "widgets": {
   "state": {},
   "version": "1.1.2"
  }
 },
 "nbformat": 4,
 "nbformat_minor": 0
}
