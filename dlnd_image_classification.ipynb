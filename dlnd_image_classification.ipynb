{
 "cells": [
  {
   "cell_type": "markdown",
   "metadata": {
    "collapsed": true
   },
   "source": [
    "# Image Classification\n",
    "In this project, you'll classify images from the [CIFAR-10 dataset](https://www.cs.toronto.edu/~kriz/cifar.html).  The dataset consists of airplanes, dogs, cats, and other objects. You'll preprocess the images, then train a convolutional neural network on all the samples. The images need to be normalized and the labels need to be one-hot encoded.  You'll get to apply what you learned and build a convolutional, max pooling, dropout, and fully connected layers.  At the end, you'll get to see your neural network's predictions on the sample images.\n",
    "## Get the Data\n",
    "Run the following cell to download the [CIFAR-10 dataset for python](https://www.cs.toronto.edu/~kriz/cifar-10-python.tar.gz)."
   ]
  },
  {
   "cell_type": "code",
   "execution_count": null,
   "metadata": {
    "collapsed": false
   },
   "outputs": [],
   "source": [
    "\"\"\"\n",
    "DON'T MODIFY ANYTHING IN THIS CELL THAT IS BELOW THIS LINE\n",
    "\"\"\"\n",
    "from urllib.request import urlretrieve\n",
    "from os.path import isfile, isdir\n",
    "from tqdm import tqdm\n",
    "import problem_unittests as tests\n",
    "import tarfile\n",
    "\n",
    "cifar10_dataset_folder_path = 'cifar-10-batches-py'\n",
    "\n",
    "class DLProgress(tqdm):\n",
    "    last_block = 0\n",
    "\n",
    "    def hook(self, block_num=1, block_size=1, total_size=None):\n",
    "        self.total = total_size\n",
    "        self.update((block_num - self.last_block) * block_size)\n",
    "        self.last_block = block_num\n",
    "\n",
    "if not isfile('cifar-10-python.tar.gz'):\n",
    "    with DLProgress(unit='B', unit_scale=True, miniters=1, desc='CIFAR-10 Dataset') as pbar:\n",
    "        urlretrieve(\n",
    "            'https://www.cs.toronto.edu/~kriz/cifar-10-python.tar.gz',\n",
    "            'cifar-10-python.tar.gz',\n",
    "            pbar.hook)\n",
    "\n",
    "if not isdir(cifar10_dataset_folder_path):\n",
    "    with tarfile.open('cifar-10-python.tar.gz') as tar:\n",
    "        tar.extractall()\n",
    "        tar.close()\n",
    "\n",
    "\n",
    "tests.test_folder_path(cifar10_dataset_folder_path)"
   ]
  },
  {
   "cell_type": "markdown",
   "metadata": {},
   "source": [
    "## Explore the Data\n",
    "The dataset is broken into batches to prevent your machine from running out of memory.  The CIFAR-10 dataset consists of 5 batches, named `data_batch_1`, `data_batch_2`, etc.. Each batch contains the labels and images that are one of the following:\n",
    "* airplane\n",
    "* automobile\n",
    "* bird\n",
    "* cat\n",
    "* deer\n",
    "* dog\n",
    "* frog\n",
    "* horse\n",
    "* ship\n",
    "* truck\n",
    "\n",
    "Understanding a dataset is part of making predictions on the data.  Play around with the code cell below by changing the `batch_id` and `sample_id`. The `batch_id` is the id for a batch (1-5). The `sample_id` is the id for a image and label pair in the batch.\n",
    "\n",
    "Ask yourself \"What are all possible labels?\", \"What is the range of values for the image data?\", \"Are the labels in order or random?\".  Answers to questions like these will help you preprocess the data and end up with better predictions."
   ]
  },
  {
   "cell_type": "code",
   "execution_count": null,
   "metadata": {
    "collapsed": false
   },
   "outputs": [],
   "source": [
    "%matplotlib inline\n",
    "%config InlineBackend.figure_format = 'retina'\n",
    "\n",
    "import helper\n",
    "import numpy as np\n",
    "\n",
    "# Explore the dataset\n",
    "batch_id = 1\n",
    "sample_id = 8\n",
    "helper.display_stats(cifar10_dataset_folder_path, batch_id, sample_id)"
   ]
  },
  {
   "cell_type": "markdown",
   "metadata": {},
   "source": [
    "## Implement Preprocess Functions\n",
    "### Normalize\n",
    "In the cell below, implement the `normalize` function to take in image data, `x`, and return it as a normalized Numpy array. The values should be in the range of 0 to 1, inclusive.  The return object should be the same shape as `x`."
   ]
  },
  {
   "cell_type": "code",
   "execution_count": null,
   "metadata": {
    "collapsed": false
   },
   "outputs": [],
   "source": [
    "def normalize(x):\n",
    "    \"\"\"\n",
    "    Normalize a list of sample image data in the range of 0 to 1\n",
    "    : x: List of image data.  The image shape is (32, 32, 3)\n",
    "    : return: Numpy array of normalize data\n",
    "    \"\"\"\n",
    "    # TODO: Implement Function\n",
    "    return np.array(x) / 255.\n",
    "\n",
    "\n",
    "\"\"\"\n",
    "DON'T MODIFY ANYTHING IN THIS CELL THAT IS BELOW THIS LINE\n",
    "\"\"\"\n",
    "tests.test_normalize(normalize)"
   ]
  },
  {
   "cell_type": "markdown",
   "metadata": {},
   "source": [
    "### One-hot encode\n",
    "Just like the previous code cell, you'll be implementing a function for preprocessing.  This time, you'll implement the `one_hot_encode` function. The input, `x`, are a list of labels.  Implement the function to return the list of labels as One-Hot encoded Numpy array.  The possible values for labels are 0 to 9. The one-hot encoding function should return the same encoding for each value between each call to `one_hot_encode`.  Make sure to save the map of encodings outside the function.\n",
    "\n",
    "Hint: Don't reinvent the wheel."
   ]
  },
  {
   "cell_type": "code",
   "execution_count": null,
   "metadata": {
    "collapsed": false
   },
   "outputs": [],
   "source": [
    "def one_hot_encode(x):\n",
    "    \"\"\"\n",
    "    One hot encode a list of sample labels. Return a one-hot encoded vector for each label.\n",
    "    : x: List of sample Labels\n",
    "    : return: Numpy array of one-hot encoded labels\n",
    "    \"\"\"\n",
    "    # TODO: Implement Function\n",
    "    one_hot_x = []\n",
    "    for label in x:\n",
    "        one_hot = [0.] * 10\n",
    "        one_hot[label] = 1\n",
    "        one_hot_x.append(one_hot)\n",
    "    return np.array(one_hot_x).astype(np.float16)\n",
    "\n",
    "\"\"\"\n",
    "DON'T MODIFY ANYTHING IN THIS CELL THAT IS BELOW THIS LINE\n",
    "\"\"\"\n",
    "tests.test_one_hot_encode(one_hot_encode)"
   ]
  },
  {
   "cell_type": "markdown",
   "metadata": {},
   "source": [
    "### Randomize Data\n",
    "As you saw from exploring the data above, the order of the samples are randomized.  It doesn't hurt to randomize it again, but you don't need to for this dataset."
   ]
  },
  {
   "cell_type": "markdown",
   "metadata": {},
   "source": [
    "## Preprocess all the data and save it\n",
    "Running the code cell below will preprocess all the CIFAR-10 data and save it to file. The code below also uses 10% of the training data for validation."
   ]
  },
  {
   "cell_type": "code",
   "execution_count": null,
   "metadata": {
    "collapsed": false
   },
   "outputs": [],
   "source": [
    "\"\"\"\n",
    "DON'T MODIFY ANYTHING IN THIS CELL\n",
    "\"\"\"\n",
    "# Preprocess Training, Validation, and Testing Data\n",
    "helper.preprocess_and_save_data(cifar10_dataset_folder_path, normalize, one_hot_encode)"
   ]
  },
  {
   "cell_type": "markdown",
   "metadata": {},
   "source": [
    "# Check Point\n",
    "This is your first checkpoint.  If you ever decide to come back to this notebook or have to restart the notebook, you can start from here.  The preprocessed data has been saved to disk."
   ]
  },
  {
   "cell_type": "code",
   "execution_count": 1,
   "metadata": {
    "collapsed": true
   },
   "outputs": [],
   "source": [
    "\"\"\"\n",
    "DON'T MODIFY ANYTHING IN THIS CELL\n",
    "\"\"\"\n",
    "import pickle\n",
    "import problem_unittests as tests\n",
    "import helper\n",
    "import numpy as np\n",
    "\n",
    "# Load the Preprocessed Validation data\n",
    "valid_features, valid_labels = pickle.load(open('preprocess_validation.p', mode='rb'))"
   ]
  },
  {
   "cell_type": "markdown",
   "metadata": {},
   "source": [
    "## Build the network\n",
    "For the neural network, you'll build each layer into a function.  Most of the code you've seen has been outside of functions. To test your code more thoroughly, we require that you put each layer in a function.  This allows us to give you better feedback and test for simple mistakes using our unittests before you submit your project.\n",
    "\n",
    ">**Note:** If you're finding it hard to dedicate enough time for this course each week, we've provided a small shortcut to this part of the project. In the next couple of problems, you'll have the option to use classes from the [TensorFlow Layers](https://www.tensorflow.org/api_docs/python/tf/layers) or [TensorFlow Layers (contrib)](https://www.tensorflow.org/api_guides/python/contrib.layers) packages to build each layer, except the layers you build in the \"Convolutional and Max Pooling Layer\" section.  TF Layers is similar to Keras's and TFLearn's abstraction to layers, so it's easy to pickup.\n",
    "\n",
    ">However, if you would like to get the most out of this course, try to solve all the problems _without_ using anything from the TF Layers packages. You **can** still use classes from other packages that happen to have the same name as ones you find in TF Layers! For example, instead of using the TF Layers version of the `conv2d` class, [tf.layers.conv2d](https://www.tensorflow.org/api_docs/python/tf/layers/conv2d), you would want to use the TF Neural Network version of `conv2d`, [tf.nn.conv2d](https://www.tensorflow.org/api_docs/python/tf/nn/conv2d). \n",
    "\n",
    "Let's begin!\n",
    "\n",
    "### Input\n",
    "The neural network needs to read the image data, one-hot encoded labels, and dropout keep probability. Implement the following functions\n",
    "* Implement `neural_net_image_input`\n",
    " * Return a [TF Placeholder](https://www.tensorflow.org/api_docs/python/tf/placeholder)\n",
    " * Set the shape using `image_shape` with batch size set to `None`.\n",
    " * Name the TensorFlow placeholder \"x\" using the TensorFlow `name` parameter in the [TF Placeholder](https://www.tensorflow.org/api_docs/python/tf/placeholder).\n",
    "* Implement `neural_net_label_input`\n",
    " * Return a [TF Placeholder](https://www.tensorflow.org/api_docs/python/tf/placeholder)\n",
    " * Set the shape using `n_classes` with batch size set to `None`.\n",
    " * Name the TensorFlow placeholder \"y\" using the TensorFlow `name` parameter in the [TF Placeholder](https://www.tensorflow.org/api_docs/python/tf/placeholder).\n",
    "* Implement `neural_net_keep_prob_input`\n",
    " * Return a [TF Placeholder](https://www.tensorflow.org/api_docs/python/tf/placeholder) for dropout keep probability.\n",
    " * Name the TensorFlow placeholder \"keep_prob\" using the TensorFlow `name` parameter in the [TF Placeholder](https://www.tensorflow.org/api_docs/python/tf/placeholder).\n",
    "\n",
    "These names will be used at the end of the project to load your saved model.\n",
    "\n",
    "Note: `None` for shapes in TensorFlow allow for a dynamic size."
   ]
  },
  {
   "cell_type": "code",
   "execution_count": 2,
   "metadata": {
    "collapsed": false
   },
   "outputs": [
    {
     "name": "stdout",
     "output_type": "stream",
     "text": [
      "Image Input Tests Passed.\n",
      "Label Input Tests Passed.\n",
      "Keep Prob Tests Passed.\n"
     ]
    }
   ],
   "source": [
    "import tensorflow as tf\n",
    "\n",
    "def neural_net_image_input(image_shape):\n",
    "    \"\"\"\n",
    "    Return a Tensor for a bach of image input\n",
    "    : image_shape: Shape of the images\n",
    "    : return: Tensor for image input.\n",
    "    \"\"\"\n",
    "    # TODO: Implement Function\n",
    "    return tf.placeholder(tf.float32, shape=[None, image_shape[0], image_shape[1], image_shape[2]], name='x')\n",
    "\n",
    "\n",
    "def neural_net_label_input(n_classes):\n",
    "    \"\"\"\n",
    "    Return a Tensor for a batch of label input\n",
    "    : n_classes: Number of classes\n",
    "    : return: Tensor for label input.\n",
    "    \"\"\"\n",
    "    # TODO: Implement Function\n",
    "    return tf.placeholder(tf.float32, shape=[None, n_classes], name='y')\n",
    "\n",
    "\n",
    "def neural_net_keep_prob_input():\n",
    "    \"\"\"\n",
    "    Return a Tensor for keep probability\n",
    "    : return: Tensor for keep probability.\n",
    "    \"\"\"\n",
    "    # TODO: Implement Function\n",
    "    return tf.placeholder(tf.float32, name='keep_prob')\n",
    "\n",
    "\n",
    "\"\"\"\n",
    "DON'T MODIFY ANYTHING IN THIS CELL THAT IS BELOW THIS LINE\n",
    "\"\"\"\n",
    "tf.reset_default_graph()\n",
    "tests.test_nn_image_inputs(neural_net_image_input)\n",
    "tests.test_nn_label_inputs(neural_net_label_input)\n",
    "tests.test_nn_keep_prob_inputs(neural_net_keep_prob_input)"
   ]
  },
  {
   "cell_type": "markdown",
   "metadata": {},
   "source": [
    "### Convolution and Max Pooling Layer\n",
    "Convolution layers have a lot of success with images. For this code cell, you should implement the function `conv2d_maxpool` to apply convolution then max pooling:\n",
    "* Create the weight and bias using `conv_ksize`, `conv_num_outputs` and the shape of `x_tensor`.\n",
    "* Apply a convolution to `x_tensor` using weight and `conv_strides`.\n",
    " * We recommend you use same padding, but you're welcome to use any padding.\n",
    "* Add bias\n",
    "* Add a nonlinear activation to the convolution.\n",
    "* Apply Max Pooling using `pool_ksize` and `pool_strides`.\n",
    " * We recommend you use same padding, but you're welcome to use any padding.\n",
    "\n",
    "**Note:** You **can't** use [TensorFlow Layers](https://www.tensorflow.org/api_docs/python/tf/layers) or [TensorFlow Layers (contrib)](https://www.tensorflow.org/api_guides/python/contrib.layers) for **this** layer, but you can still use TensorFlow's [Neural Network](https://www.tensorflow.org/api_docs/python/tf/nn) package. You may still use the shortcut option for all the **other** layers."
   ]
  },
  {
   "cell_type": "code",
   "execution_count": 3,
   "metadata": {
    "collapsed": false,
    "scrolled": false
   },
   "outputs": [
    {
     "name": "stdout",
     "output_type": "stream",
     "text": [
      "Tests Passed\n"
     ]
    }
   ],
   "source": [
    "def conv2d_maxpool(x_tensor, conv_num_outputs, conv_ksize, conv_strides, pool_ksize, pool_strides):\n",
    "    \"\"\"\n",
    "    Apply convolution then max pooling to x_tensor\n",
    "    :param x_tensor: TensorFlow Tensor\n",
    "    :param conv_num_outputs: Number of outputs for the convolutional layer\n",
    "    :param conv_ksize: kernal size 2-D Tuple for the convolutional layer\n",
    "    :param conv_strides: Stride 2-D Tuple for convolution\n",
    "    :param pool_ksize: kernal size 2-D Tuple for pool\n",
    "    :param pool_strides: Stride 2-D Tuple for pool\n",
    "    : return: A tensor that represents convolution and max pooling of x_tensor\n",
    "    \"\"\"\n",
    "    # TODO: Implement Function\n",
    "    w_conv = tf.Variable(tf.truncated_normal([conv_ksize[0], conv_ksize[1],\n",
    "                                              x_tensor.get_shape().as_list()[-1], conv_num_outputs]))\n",
    "    b_conv = tf.Variable(tf.zeros(conv_num_outputs))\n",
    "    conv = tf.nn.conv2d(x_tensor, w_conv, [1, conv_strides[0], conv_strides[1], 1], padding='SAME')\n",
    "    conv = tf.nn.bias_add(conv, b_conv)\n",
    "    conv = tf.nn.relu(conv)\n",
    "    max_pool = tf.nn.max_pool(conv, [1, pool_ksize[0], pool_ksize[1], 1], [1, pool_strides[0], pool_strides[1], 1],\n",
    "                             padding='SAME')\n",
    "    return max_pool \n",
    "\n",
    "\n",
    "\"\"\"\n",
    "DON'T MODIFY ANYTHING IN THIS CELL THAT IS BELOW THIS LINE\n",
    "\"\"\"\n",
    "tests.test_con_pool(conv2d_maxpool)"
   ]
  },
  {
   "cell_type": "markdown",
   "metadata": {},
   "source": [
    "### Flatten Layer\n",
    "Implement the `flatten` function to change the dimension of `x_tensor` from a 4-D tensor to a 2-D tensor.  The output should be the shape (*Batch Size*, *Flattened Image Size*). Shortcut option: you can use classes from the [TensorFlow Layers](https://www.tensorflow.org/api_docs/python/tf/layers) or [TensorFlow Layers (contrib)](https://www.tensorflow.org/api_guides/python/contrib.layers) packages for this layer. For more of a challenge, only use other TensorFlow packages."
   ]
  },
  {
   "cell_type": "code",
   "execution_count": 4,
   "metadata": {
    "collapsed": false
   },
   "outputs": [
    {
     "name": "stdout",
     "output_type": "stream",
     "text": [
      "Tests Passed\n"
     ]
    }
   ],
   "source": [
    "def flatten(x_tensor):\n",
    "    \"\"\"\n",
    "    Flatten x_tensor to (Batch Size, Flattened Image Size)\n",
    "    : x_tensor: A tensor of size (Batch Size, ...), where ... are the image dimensions.\n",
    "    : return: A tensor of size (Batch Size, Flattened Image Size).\n",
    "    \"\"\"\n",
    "    # TODO: Implement Function\n",
    "    shape = x_tensor.get_shape().as_list()\n",
    "    dim = np.prod(shape[1:])\n",
    "    return tf.reshape(x_tensor, [-1, dim])\n",
    "\n",
    "\n",
    "\"\"\"\n",
    "DON'T MODIFY ANYTHING IN THIS CELL THAT IS BELOW THIS LINE\n",
    "\"\"\"\n",
    "tests.test_flatten(flatten)"
   ]
  },
  {
   "cell_type": "markdown",
   "metadata": {},
   "source": [
    "### Fully-Connected Layer\n",
    "Implement the `fully_conn` function to apply a fully connected layer to `x_tensor` with the shape (*Batch Size*, *num_outputs*). Shortcut option: you can use classes from the [TensorFlow Layers](https://www.tensorflow.org/api_docs/python/tf/layers) or [TensorFlow Layers (contrib)](https://www.tensorflow.org/api_guides/python/contrib.layers) packages for this layer. For more of a challenge, only use other TensorFlow packages."
   ]
  },
  {
   "cell_type": "code",
   "execution_count": 5,
   "metadata": {
    "collapsed": false
   },
   "outputs": [
    {
     "name": "stdout",
     "output_type": "stream",
     "text": [
      "Tests Passed\n"
     ]
    }
   ],
   "source": [
    "def fully_conn(x_tensor, num_outputs):\n",
    "    \"\"\"\n",
    "    Apply a fully connected layer to x_tensor using weight and bias\n",
    "    : x_tensor: A 2-D tensor where the first dimension is batch size.\n",
    "    : num_outputs: The number of output that the new tensor should be.\n",
    "    : return: A 2-D tensor where the second dimension is num_outputs.\n",
    "    \"\"\"\n",
    "    # TODO: Implement Function\n",
    "    w_fc = tf.Variable(tf.truncated_normal([x_tensor.get_shape().as_list()[1], num_outputs]))\n",
    "    b_fc = tf.Variable(tf.zeros(num_outputs))\n",
    "    fc = tf.add(tf.matmul(x_tensor, w_fc), b_fc)\n",
    "    fc = tf.nn.relu(fc)\n",
    "    return fc\n",
    "\n",
    "\n",
    "\"\"\"\n",
    "DON'T MODIFY ANYTHING IN THIS CELL THAT IS BELOW THIS LINE\n",
    "\"\"\"\n",
    "tests.test_fully_conn(fully_conn)"
   ]
  },
  {
   "cell_type": "markdown",
   "metadata": {},
   "source": [
    "### Output Layer\n",
    "Implement the `output` function to apply a fully connected layer to `x_tensor` with the shape (*Batch Size*, *num_outputs*). Shortcut option: you can use classes from the [TensorFlow Layers](https://www.tensorflow.org/api_docs/python/tf/layers) or [TensorFlow Layers (contrib)](https://www.tensorflow.org/api_guides/python/contrib.layers) packages for this layer. For more of a challenge, only use other TensorFlow packages.\n",
    "\n",
    "**Note:** Activation, softmax, or cross entropy should **not** be applied to this."
   ]
  },
  {
   "cell_type": "code",
   "execution_count": 6,
   "metadata": {
    "collapsed": false
   },
   "outputs": [
    {
     "name": "stdout",
     "output_type": "stream",
     "text": [
      "Tests Passed\n"
     ]
    }
   ],
   "source": [
    "def output(x_tensor, num_outputs):\n",
    "    \"\"\"\n",
    "    Apply a output layer to x_tensor using weight and bias\n",
    "    : x_tensor: A 2-D tensor where the first dimension is batch size.\n",
    "    : num_outputs: The number of output that the new tensor should be.\n",
    "    : return: A 2-D tensor where the second dimension is num_outputs.\n",
    "    \"\"\"\n",
    "    # TODO: Implement Function\n",
    "    w_o = tf.Variable(tf.truncated_normal([x_tensor.get_shape().as_list()[1], num_outputs]))\n",
    "    b_o = tf.Variable(tf.zeros(num_outputs))\n",
    "    output = tf.add(tf.matmul(x_tensor, w_o), b_o)\n",
    "    return output\n",
    "\n",
    "\n",
    "\"\"\"\n",
    "DON'T MODIFY ANYTHING IN THIS CELL THAT IS BELOW THIS LINE\n",
    "\"\"\"\n",
    "tests.test_output(output)"
   ]
  },
  {
   "cell_type": "markdown",
   "metadata": {},
   "source": [
    "### Create Convolutional Model\n",
    "Implement the function `conv_net` to create a convolutional neural network model. The function takes in a batch of images, `x`, and outputs logits.  Use the layers you created above to create this model:\n",
    "\n",
    "* Apply 1, 2, or 3 Convolution and Max Pool layers\n",
    "* Apply a Flatten Layer\n",
    "* Apply 1, 2, or 3 Fully Connected Layers\n",
    "* Apply an Output Layer\n",
    "* Return the output\n",
    "* Apply [TensorFlow's Dropout](https://www.tensorflow.org/api_docs/python/tf/nn/dropout) to one or more layers in the model using `keep_prob`. "
   ]
  },
  {
   "cell_type": "code",
   "execution_count": 7,
   "metadata": {
    "collapsed": false
   },
   "outputs": [
    {
     "name": "stdout",
     "output_type": "stream",
     "text": [
      "Neural Network Built!\n"
     ]
    }
   ],
   "source": [
    "def conv_net(x, keep_prob):\n",
    "    \"\"\"\n",
    "    Create a convolutional neural network model\n",
    "    : x: Placeholder tensor that holds image data.\n",
    "    : keep_prob: Placeholder tensor that hold dropout keep probability.\n",
    "    : return: Tensor that represents logits\n",
    "    \"\"\"\n",
    "    # TODO: Apply 1, 2, or 3 Convolution and Max Pool layers\n",
    "    #    Play around with different number of outputs, kernel size and stride\n",
    "    # Function Definition from Above:\n",
    "    #    conv2d_maxpool(x_tensor, conv_num_outputs, conv_ksize, conv_strides, pool_ksize, pool_strides)\n",
    "    conv_1 = conv2d_maxpool(x, conv_num_outputs=32, conv_ksize=(5, 5), conv_strides=(1, 1),\n",
    "                           pool_ksize=(2, 2), pool_strides=(2, 2))\n",
    "    conv_2 = conv2d_maxpool(conv_1, conv_num_outputs=64, conv_ksize=(3, 3), conv_strides=(1, 1),\n",
    "                           pool_ksize=(2, 2), pool_strides=(2, 2))\n",
    "#     conv_3 = conv2d_maxpool(conv_2, conv_num_outputs=256, conv_ksize=(3, 3), conv_strides=(1, 1),\n",
    "#                        pool_ksize=(2, 2), pool_strides=(2, 2))\n",
    "\n",
    "    # TODO: Apply a Flatten Layer\n",
    "    # Function Definition from Above:\n",
    "    #   flatten(x_tensor)\n",
    "    fc_1 = flatten(conv_2)\n",
    "    \n",
    "\n",
    "    # TODO: Apply 1, 2, or 3 Fully Connected Layers\n",
    "    #    Play around with different number of outputs\n",
    "    # Function Definition from Above:\n",
    "    #   fully_conn(x_tensor, num_outputs)\n",
    "    fc_1 = fully_conn(fc_1, 1024)\n",
    "    fc_1 = tf.nn.dropout(fc_1, keep_prob)\n",
    "#     fc_2 = fully_conn(fc_1, 1024)\n",
    "#     fc_2 = tf.nn.dropout(fc_2, keep_prob)\n",
    "#     fc_3 = fully_conn(fc_2, 512)\n",
    "#     fc_2 = tf.nn.dropout(fc_2, keep_prob)\n",
    "    \n",
    "    # TODO: Apply an Output Layer\n",
    "    #    Set this to the number of classes\n",
    "    # Function Definition from Above:\n",
    "    #   output(x_tensor, num_outputs)\n",
    "    logits = output(fc_1, 10)\n",
    "    \n",
    "    # TODO: return output\n",
    "    return logits\n",
    "\n",
    "\n",
    "\"\"\"\n",
    "DON'T MODIFY ANYTHING IN THIS CELL THAT IS BELOW THIS LINE\n",
    "\"\"\"\n",
    "\n",
    "##############################\n",
    "## Build the Neural Network ##\n",
    "##############################\n",
    "\n",
    "# Remove previous weights, bias, inputs, etc..\n",
    "tf.reset_default_graph()\n",
    "\n",
    "# Inputs\n",
    "x = neural_net_image_input((32, 32, 3))\n",
    "y = neural_net_label_input(10)\n",
    "keep_prob = neural_net_keep_prob_input()\n",
    "\n",
    "# Model\n",
    "logits = conv_net(x, keep_prob)\n",
    "\n",
    "# Name logits Tensor, so that is can be loaded from disk after training\n",
    "logits = tf.identity(logits, name='logits')\n",
    "\n",
    "# Loss and Optimizer\n",
    "cost = tf.reduce_mean(tf.nn.softmax_cross_entropy_with_logits(logits=logits, labels=y))\n",
    "optimizer = tf.train.AdamOptimizer().minimize(cost)\n",
    "\n",
    "# Accuracy\n",
    "correct_pred = tf.equal(tf.argmax(logits, 1), tf.argmax(y, 1))\n",
    "accuracy = tf.reduce_mean(tf.cast(correct_pred, tf.float32), name='accuracy')\n",
    "\n",
    "tests.test_conv_net(conv_net)"
   ]
  },
  {
   "cell_type": "markdown",
   "metadata": {},
   "source": [
    "## Train the Neural Network\n",
    "### Single Optimization\n",
    "Implement the function `train_neural_network` to do a single optimization.  The optimization should use `optimizer` to optimize in `session` with a `feed_dict` of the following:\n",
    "* `x` for image input\n",
    "* `y` for labels\n",
    "* `keep_prob` for keep probability for dropout\n",
    "\n",
    "This function will be called for each batch, so `tf.global_variables_initializer()` has already been called.\n",
    "\n",
    "Note: Nothing needs to be returned. This function is only optimizing the neural network."
   ]
  },
  {
   "cell_type": "code",
   "execution_count": 8,
   "metadata": {
    "collapsed": false
   },
   "outputs": [
    {
     "name": "stdout",
     "output_type": "stream",
     "text": [
      "Tests Passed\n"
     ]
    }
   ],
   "source": [
    "def train_neural_network(session, optimizer, keep_probability, feature_batch, label_batch):\n",
    "    \"\"\"\n",
    "    Optimize the session on a batch of images and labels\n",
    "    : session: Current TensorFlow session\n",
    "    : optimizer: TensorFlow optimizer function\n",
    "    : keep_probability: keep probability\n",
    "    : feature_batch: Batch of Numpy image data\n",
    "    : label_batch: Batch of Numpy label data\n",
    "    \"\"\"\n",
    "    # TODO: Implement Function\n",
    "    session.run(optimizer, feed_dict={x: feature_batch, y: label_batch,\n",
    "                                     keep_prob: keep_probability})\n",
    "\n",
    "\n",
    "\"\"\"\n",
    "DON'T MODIFY ANYTHING IN THIS CELL THAT IS BELOW THIS LINE\n",
    "\"\"\"\n",
    "tests.test_train_nn(train_neural_network)"
   ]
  },
  {
   "cell_type": "markdown",
   "metadata": {},
   "source": [
    "### Show Stats\n",
    "Implement the function `print_stats` to print loss and validation accuracy.  Use the global variables `valid_features` and `valid_labels` to calculate validation accuracy.  Use a keep probability of `1.0` to calculate the loss and validation accuracy."
   ]
  },
  {
   "cell_type": "code",
   "execution_count": 9,
   "metadata": {
    "collapsed": true
   },
   "outputs": [],
   "source": [
    "def print_stats(session, feature_batch, label_batch, cost, accuracy):\n",
    "    \"\"\"\n",
    "    Print information about loss and validation accuracy\n",
    "    : session: Current TensorFlow session\n",
    "    : feature_batch: Batch of Numpy image data\n",
    "    : label_batch: Batch of Numpy label data\n",
    "    : cost: TensorFlow cost function\n",
    "    : accuracy: TensorFlow accuracy function\n",
    "    \"\"\"\n",
    "    # TODO: Implement Function\n",
    "    feed_dict={x: feature_batch, y: label_batch, keep_prob: 1.}\n",
    "    _cost = session.run(cost, feed_dict)\n",
    "    _accuracy = session.run(accuracy, feed_dict)\n",
    "    print('Cost: {:>10.4f}, Train Accuracy: {:.4f}'.format(_cost, _accuracy))"
   ]
  },
  {
   "cell_type": "markdown",
   "metadata": {},
   "source": [
    "### Hyperparameters\n",
    "Tune the following parameters:\n",
    "* Set `epochs` to the number of iterations until the network stops learning or start overfitting\n",
    "* Set `batch_size` to the highest number that your machine has memory for.  Most people set them to common sizes of memory:\n",
    " * 64\n",
    " * 128\n",
    " * 256\n",
    " * ...\n",
    "* Set `keep_probability` to the probability of keeping a node using dropout"
   ]
  },
  {
   "cell_type": "code",
   "execution_count": 27,
   "metadata": {
    "collapsed": false
   },
   "outputs": [],
   "source": [
    "# TODO: Tune Parameters\n",
    "epochs = 50\n",
    "batch_size = 1024\n",
    "keep_probability = 1"
   ]
  },
  {
   "cell_type": "markdown",
   "metadata": {},
   "source": [
    "### Train on a Single CIFAR-10 Batch\n",
    "Instead of training the neural network on all the CIFAR-10 batches of data, let's use a single batch. This should save time while you iterate on the model to get a better accuracy.  Once the final validation accuracy is 50% or greater, run the model on all the data in the next section."
   ]
  },
  {
   "cell_type": "code",
   "execution_count": 28,
   "metadata": {
    "collapsed": false,
    "scrolled": false
   },
   "outputs": [
    {
     "name": "stdout",
     "output_type": "stream",
     "text": [
      "Checking the Training on a Single Batch...\n",
      "Epoch  1, CIFAR-10 Batch 1:  Cost: 16519.7773, Train Accuracy: 0.1361\n",
      "Epoch  2, CIFAR-10 Batch 1:  Cost: 12543.8682, Train Accuracy: 0.1671\n",
      "Epoch  3, CIFAR-10 Batch 1:  Cost: 10250.6152, Train Accuracy: 0.1844\n",
      "Epoch  4, CIFAR-10 Batch 1:  Cost:  8633.6895, Train Accuracy: 0.2067\n",
      "Epoch  5, CIFAR-10 Batch 1:  Cost:  7609.4326, Train Accuracy: 0.2191\n",
      "Epoch  6, CIFAR-10 Batch 1:  Cost:  6766.9927, Train Accuracy: 0.2450\n",
      "Epoch  7, CIFAR-10 Batch 1:  Cost:  6196.6982, Train Accuracy: 0.2723\n",
      "Epoch  8, CIFAR-10 Batch 1:  Cost:  5733.7168, Train Accuracy: 0.2958\n",
      "Epoch  9, CIFAR-10 Batch 1:  Cost:  5306.3608, Train Accuracy: 0.3007\n",
      "Epoch 10, CIFAR-10 Batch 1:  Cost:  4917.7285, Train Accuracy: 0.3119\n",
      "Epoch 11, CIFAR-10 Batch 1:  Cost:  4569.3804, Train Accuracy: 0.3267\n",
      "Epoch 12, CIFAR-10 Batch 1:  Cost:  4290.5718, Train Accuracy: 0.3280\n",
      "Epoch 13, CIFAR-10 Batch 1:  Cost:  3996.9224, Train Accuracy: 0.3502\n",
      "Epoch 14, CIFAR-10 Batch 1:  Cost:  3745.3633, Train Accuracy: 0.3478\n",
      "Epoch 15, CIFAR-10 Batch 1:  Cost:  3479.4907, Train Accuracy: 0.3651\n",
      "Epoch 16, CIFAR-10 Batch 1:  Cost:  3307.6484, Train Accuracy: 0.3738\n",
      "Epoch 17, CIFAR-10 Batch 1:  Cost:  3144.2051, Train Accuracy: 0.3861\n",
      "Epoch 18, CIFAR-10 Batch 1:  Cost:  2973.3313, Train Accuracy: 0.4035\n",
      "Epoch 19, CIFAR-10 Batch 1:  Cost:  2840.1741, Train Accuracy: 0.4109\n",
      "Epoch 20, CIFAR-10 Batch 1:  Cost:  2694.6174, Train Accuracy: 0.4418\n",
      "Epoch 21, CIFAR-10 Batch 1:  Cost:  2574.7468, Train Accuracy: 0.4493\n",
      "Epoch 22, CIFAR-10 Batch 1:  Cost:  2486.9639, Train Accuracy: 0.4443\n",
      "Epoch 23, CIFAR-10 Batch 1:  Cost:  2430.2004, Train Accuracy: 0.4839\n",
      "Epoch 24, CIFAR-10 Batch 1:  Cost:  2513.0320, Train Accuracy: 0.4629\n",
      "Epoch 25, CIFAR-10 Batch 1:  Cost:  2494.0464, Train Accuracy: 0.4431\n",
      "Epoch 26, CIFAR-10 Batch 1:  Cost:  2102.7676, Train Accuracy: 0.4913\n",
      "Epoch 27, CIFAR-10 Batch 1:  Cost:  2000.3610, Train Accuracy: 0.5012\n",
      "Epoch 28, CIFAR-10 Batch 1:  Cost:  1964.8732, Train Accuracy: 0.5062\n",
      "Epoch 29, CIFAR-10 Batch 1:  Cost:  1977.4592, Train Accuracy: 0.5000\n",
      "Epoch 30, CIFAR-10 Batch 1:  Cost:  1883.0808, Train Accuracy: 0.5186\n",
      "Epoch 31, CIFAR-10 Batch 1:  Cost:  1779.3652, Train Accuracy: 0.5359\n",
      "Epoch 32, CIFAR-10 Batch 1:  Cost:  1655.2865, Train Accuracy: 0.5408\n",
      "Epoch 33, CIFAR-10 Batch 1:  Cost:  1609.6898, Train Accuracy: 0.5520\n",
      "Epoch 34, CIFAR-10 Batch 1:  Cost:  1624.4891, Train Accuracy: 0.5619\n",
      "Epoch 35, CIFAR-10 Batch 1:  Cost:  1623.4429, Train Accuracy: 0.5495\n",
      "Epoch 36, CIFAR-10 Batch 1:  Cost:  1537.9458, Train Accuracy: 0.5569\n",
      "Epoch 37, CIFAR-10 Batch 1:  Cost:  1516.7250, Train Accuracy: 0.5483\n",
      "Epoch 38, CIFAR-10 Batch 1:  Cost:  1464.3607, Train Accuracy: 0.5606\n",
      "Epoch 39, CIFAR-10 Batch 1:  Cost:  1371.3152, Train Accuracy: 0.5891\n",
      "Epoch 40, CIFAR-10 Batch 1:  Cost:  1261.0189, Train Accuracy: 0.6040\n",
      "Epoch 41, CIFAR-10 Batch 1:  Cost:  1317.7833, Train Accuracy: 0.6002\n",
      "Epoch 42, CIFAR-10 Batch 1:  Cost:  1657.0488, Train Accuracy: 0.5483\n",
      "Epoch 43, CIFAR-10 Batch 1:  Cost:  1597.1746, Train Accuracy: 0.5681\n",
      "Epoch 44, CIFAR-10 Batch 1:  Cost:  1167.5916, Train Accuracy: 0.6200\n",
      "Epoch 45, CIFAR-10 Batch 1:  Cost:  1027.1851, Train Accuracy: 0.6473\n",
      "Epoch 46, CIFAR-10 Batch 1:  Cost:  1018.4986, Train Accuracy: 0.6399\n",
      "Epoch 47, CIFAR-10 Batch 1:  Cost:   937.8331, Train Accuracy: 0.6584\n",
      "Epoch 48, CIFAR-10 Batch 1:  Cost:   894.3123, Train Accuracy: 0.6696\n",
      "Epoch 49, CIFAR-10 Batch 1:  Cost:   871.8882, Train Accuracy: 0.6646\n",
      "Epoch 50, CIFAR-10 Batch 1:  Cost:   849.0182, Train Accuracy: 0.6745\n"
     ]
    }
   ],
   "source": [
    "\"\"\"\n",
    "DON'T MODIFY ANYTHING IN THIS CELL\n",
    "\"\"\"\n",
    "print('Checking the Training on a Single Batch...')\n",
    "with tf.Session() as sess:\n",
    "    # Initializing the variables\n",
    "    sess.run(tf.global_variables_initializer())\n",
    "    \n",
    "    # Training cycle\n",
    "    for epoch in range(epochs):\n",
    "        batch_i = 1\n",
    "        for batch_features, batch_labels in helper.load_preprocess_training_batch(batch_i, batch_size):\n",
    "            train_neural_network(sess, optimizer, keep_probability, batch_features, batch_labels)\n",
    "        print('Epoch {:>2}, CIFAR-10 Batch {}:  '.format(epoch + 1, batch_i), end='')\n",
    "        print_stats(sess, batch_features, batch_labels, cost, accuracy)"
   ]
  },
  {
   "cell_type": "markdown",
   "metadata": {},
   "source": [
    "### Fully Train the Model\n",
    "Now that you got a good accuracy with a single CIFAR-10 batch, try it with all five batches."
   ]
  },
  {
   "cell_type": "code",
   "execution_count": 29,
   "metadata": {
    "collapsed": false,
    "scrolled": false
   },
   "outputs": [
    {
     "name": "stdout",
     "output_type": "stream",
     "text": [
      "Training...\n",
      "Epoch  1, CIFAR-10 Batch 1:  Cost: 15226.7832, Train Accuracy: 0.1337\n",
      "Epoch  1, CIFAR-10 Batch 2:  Cost: 11988.4375, Train Accuracy: 0.1646\n",
      "Epoch  1, CIFAR-10 Batch 3:  Cost:  9572.2822, Train Accuracy: 0.2166\n",
      "Epoch  1, CIFAR-10 Batch 4:  Cost:  7795.6299, Train Accuracy: 0.2426\n",
      "Epoch  1, CIFAR-10 Batch 5:  Cost:  6997.6245, Train Accuracy: 0.2290\n",
      "Epoch  2, CIFAR-10 Batch 1:  Cost:  6585.2163, Train Accuracy: 0.2748\n",
      "Epoch  2, CIFAR-10 Batch 2:  Cost:  6797.0752, Train Accuracy: 0.2339\n",
      "Epoch  2, CIFAR-10 Batch 3:  Cost:  6150.3428, Train Accuracy: 0.2785\n",
      "Epoch  2, CIFAR-10 Batch 4:  Cost:  5106.1289, Train Accuracy: 0.2933\n",
      "Epoch  2, CIFAR-10 Batch 5:  Cost:  5093.5342, Train Accuracy: 0.3156\n",
      "Epoch  3, CIFAR-10 Batch 1:  Cost:  4894.0840, Train Accuracy: 0.3181\n",
      "Epoch  3, CIFAR-10 Batch 2:  Cost:  5264.9819, Train Accuracy: 0.2797\n",
      "Epoch  3, CIFAR-10 Batch 3:  Cost:  4905.0566, Train Accuracy: 0.3045\n",
      "Epoch  3, CIFAR-10 Batch 4:  Cost:  4221.9346, Train Accuracy: 0.3181\n",
      "Epoch  3, CIFAR-10 Batch 5:  Cost:  4169.7363, Train Accuracy: 0.3416\n",
      "Epoch  4, CIFAR-10 Batch 1:  Cost:  3958.4629, Train Accuracy: 0.3614\n",
      "Epoch  4, CIFAR-10 Batch 2:  Cost:  4324.0693, Train Accuracy: 0.3119\n",
      "Epoch  4, CIFAR-10 Batch 3:  Cost:  4049.5227, Train Accuracy: 0.3403\n",
      "Epoch  4, CIFAR-10 Batch 4:  Cost:  3567.9739, Train Accuracy: 0.3502\n",
      "Epoch  4, CIFAR-10 Batch 5:  Cost:  3468.2649, Train Accuracy: 0.3713\n",
      "Epoch  5, CIFAR-10 Batch 1:  Cost:  3402.4524, Train Accuracy: 0.3874\n",
      "Epoch  5, CIFAR-10 Batch 2:  Cost:  3656.4592, Train Accuracy: 0.3589\n",
      "Epoch  5, CIFAR-10 Batch 3:  Cost:  3473.0337, Train Accuracy: 0.3800\n",
      "Epoch  5, CIFAR-10 Batch 4:  Cost:  3102.1147, Train Accuracy: 0.3663\n",
      "Epoch  5, CIFAR-10 Batch 5:  Cost:  3007.5295, Train Accuracy: 0.3960\n",
      "Epoch  6, CIFAR-10 Batch 1:  Cost:  2957.9729, Train Accuracy: 0.4196\n",
      "Epoch  6, CIFAR-10 Batch 2:  Cost:  3170.6318, Train Accuracy: 0.3936\n",
      "Epoch  6, CIFAR-10 Batch 3:  Cost:  3078.9009, Train Accuracy: 0.3948\n",
      "Epoch  6, CIFAR-10 Batch 4:  Cost:  2779.5444, Train Accuracy: 0.3812\n",
      "Epoch  6, CIFAR-10 Batch 5:  Cost:  2656.1758, Train Accuracy: 0.4022\n",
      "Epoch  7, CIFAR-10 Batch 1:  Cost:  2658.2480, Train Accuracy: 0.4146\n",
      "Epoch  7, CIFAR-10 Batch 2:  Cost:  2832.5835, Train Accuracy: 0.4059\n",
      "Epoch  7, CIFAR-10 Batch 3:  Cost:  2758.1877, Train Accuracy: 0.4084\n",
      "Epoch  7, CIFAR-10 Batch 4:  Cost:  2493.4050, Train Accuracy: 0.4097\n",
      "Epoch  7, CIFAR-10 Batch 5:  Cost:  2413.9312, Train Accuracy: 0.4245\n",
      "Epoch  8, CIFAR-10 Batch 1:  Cost:  2411.8499, Train Accuracy: 0.4245\n",
      "Epoch  8, CIFAR-10 Batch 2:  Cost:  2578.1406, Train Accuracy: 0.4245\n",
      "Epoch  8, CIFAR-10 Batch 3:  Cost:  2479.3003, Train Accuracy: 0.4257\n",
      "Epoch  8, CIFAR-10 Batch 4:  Cost:  2235.4004, Train Accuracy: 0.4220\n",
      "Epoch  8, CIFAR-10 Batch 5:  Cost:  2202.8867, Train Accuracy: 0.4356\n",
      "Epoch  9, CIFAR-10 Batch 1:  Cost:  2277.2070, Train Accuracy: 0.4431\n",
      "Epoch  9, CIFAR-10 Batch 2:  Cost:  2366.1162, Train Accuracy: 0.4455\n",
      "Epoch  9, CIFAR-10 Batch 3:  Cost:  2287.4998, Train Accuracy: 0.4319\n",
      "Epoch  9, CIFAR-10 Batch 4:  Cost:  2051.3896, Train Accuracy: 0.4295\n",
      "Epoch  9, CIFAR-10 Batch 5:  Cost:  2014.2054, Train Accuracy: 0.4592\n",
      "Epoch 10, CIFAR-10 Batch 1:  Cost:  2112.1875, Train Accuracy: 0.4530\n",
      "Epoch 10, CIFAR-10 Batch 2:  Cost:  2173.5686, Train Accuracy: 0.4641\n",
      "Epoch 10, CIFAR-10 Batch 3:  Cost:  2106.4048, Train Accuracy: 0.4542\n",
      "Epoch 10, CIFAR-10 Batch 4:  Cost:  1898.2745, Train Accuracy: 0.4517\n",
      "Epoch 10, CIFAR-10 Batch 5:  Cost:  1831.3129, Train Accuracy: 0.4616\n",
      "Epoch 11, CIFAR-10 Batch 1:  Cost:  1911.9827, Train Accuracy: 0.4851\n",
      "Epoch 11, CIFAR-10 Batch 2:  Cost:  2014.4054, Train Accuracy: 0.4740\n",
      "Epoch 11, CIFAR-10 Batch 3:  Cost:  1900.9854, Train Accuracy: 0.4765\n",
      "Epoch 11, CIFAR-10 Batch 4:  Cost:  1705.9714, Train Accuracy: 0.4802\n",
      "Epoch 11, CIFAR-10 Batch 5:  Cost:  1711.0360, Train Accuracy: 0.4827\n",
      "Epoch 12, CIFAR-10 Batch 1:  Cost:  1695.2595, Train Accuracy: 0.4889\n",
      "Epoch 12, CIFAR-10 Batch 2:  Cost:  1841.3323, Train Accuracy: 0.4752\n",
      "Epoch 12, CIFAR-10 Batch 3:  Cost:  1767.7375, Train Accuracy: 0.4728\n",
      "Epoch 12, CIFAR-10 Batch 4:  Cost:  1574.2158, Train Accuracy: 0.5000\n",
      "Epoch 12, CIFAR-10 Batch 5:  Cost:  1580.6643, Train Accuracy: 0.4975\n",
      "Epoch 13, CIFAR-10 Batch 1:  Cost:  1564.5811, Train Accuracy: 0.5050\n",
      "Epoch 13, CIFAR-10 Batch 2:  Cost:  1670.6051, Train Accuracy: 0.4926\n",
      "Epoch 13, CIFAR-10 Batch 3:  Cost:  1620.5055, Train Accuracy: 0.4950\n",
      "Epoch 13, CIFAR-10 Batch 4:  Cost:  1460.2803, Train Accuracy: 0.5012\n",
      "Epoch 13, CIFAR-10 Batch 5:  Cost:  1463.9344, Train Accuracy: 0.5124\n",
      "Epoch 14, CIFAR-10 Batch 1:  Cost:  1472.4126, Train Accuracy: 0.5074\n",
      "Epoch 14, CIFAR-10 Batch 2:  Cost:  1535.9272, Train Accuracy: 0.5099\n",
      "Epoch 14, CIFAR-10 Batch 3:  Cost:  1521.4648, Train Accuracy: 0.5149\n",
      "Epoch 14, CIFAR-10 Batch 4:  Cost:  1341.5127, Train Accuracy: 0.5173\n",
      "Epoch 14, CIFAR-10 Batch 5:  Cost:  1351.3916, Train Accuracy: 0.5210\n",
      "Epoch 15, CIFAR-10 Batch 1:  Cost:  1384.2158, Train Accuracy: 0.5347\n",
      "Epoch 15, CIFAR-10 Batch 2:  Cost:  1439.4827, Train Accuracy: 0.5223\n",
      "Epoch 15, CIFAR-10 Batch 3:  Cost:  1418.2444, Train Accuracy: 0.5111\n",
      "Epoch 15, CIFAR-10 Batch 4:  Cost:  1246.8994, Train Accuracy: 0.5248\n",
      "Epoch 15, CIFAR-10 Batch 5:  Cost:  1258.8055, Train Accuracy: 0.5272\n",
      "Epoch 16, CIFAR-10 Batch 1:  Cost:  1309.3990, Train Accuracy: 0.5297\n",
      "Epoch 16, CIFAR-10 Batch 2:  Cost:  1360.4358, Train Accuracy: 0.5359\n",
      "Epoch 16, CIFAR-10 Batch 3:  Cost:  1367.2118, Train Accuracy: 0.5210\n",
      "Epoch 16, CIFAR-10 Batch 4:  Cost:  1172.6666, Train Accuracy: 0.5421\n",
      "Epoch 16, CIFAR-10 Batch 5:  Cost:  1185.5271, Train Accuracy: 0.5408\n",
      "Epoch 17, CIFAR-10 Batch 1:  Cost:  1239.5577, Train Accuracy: 0.5384\n",
      "Epoch 17, CIFAR-10 Batch 2:  Cost:  1251.9519, Train Accuracy: 0.5309\n",
      "Epoch 17, CIFAR-10 Batch 3:  Cost:  1263.2957, Train Accuracy: 0.5396\n",
      "Epoch 17, CIFAR-10 Batch 4:  Cost:  1130.1791, Train Accuracy: 0.5545\n",
      "Epoch 17, CIFAR-10 Batch 5:  Cost:  1122.6692, Train Accuracy: 0.5470\n",
      "Epoch 18, CIFAR-10 Batch 1:  Cost:  1153.0634, Train Accuracy: 0.5470\n",
      "Epoch 18, CIFAR-10 Batch 2:  Cost:  1167.4725, Train Accuracy: 0.5582\n",
      "Epoch 18, CIFAR-10 Batch 3:  Cost:  1186.1730, Train Accuracy: 0.5458\n",
      "Epoch 18, CIFAR-10 Batch 4:  Cost:  1083.5059, Train Accuracy: 0.5668\n",
      "Epoch 18, CIFAR-10 Batch 5:  Cost:  1074.8666, Train Accuracy: 0.5582\n",
      "Epoch 19, CIFAR-10 Batch 1:  Cost:  1085.9836, Train Accuracy: 0.5693\n",
      "Epoch 19, CIFAR-10 Batch 2:  Cost:  1121.4629, Train Accuracy: 0.5681\n",
      "Epoch 19, CIFAR-10 Batch 3:  Cost:  1109.3848, Train Accuracy: 0.5557\n",
      "Epoch 19, CIFAR-10 Batch 4:  Cost:  1007.5889, Train Accuracy: 0.5829\n",
      "Epoch 19, CIFAR-10 Batch 5:  Cost:  1033.1765, Train Accuracy: 0.5693\n",
      "Epoch 20, CIFAR-10 Batch 1:  Cost:  1091.9738, Train Accuracy: 0.5631\n",
      "Epoch 20, CIFAR-10 Batch 2:  Cost:  1086.0669, Train Accuracy: 0.5507\n",
      "Epoch 20, CIFAR-10 Batch 3:  Cost:  1040.4646, Train Accuracy: 0.5743\n",
      "Epoch 20, CIFAR-10 Batch 4:  Cost:   950.6243, Train Accuracy: 0.5891\n",
      "Epoch 20, CIFAR-10 Batch 5:  Cost:   924.6493, Train Accuracy: 0.5891\n",
      "Epoch 21, CIFAR-10 Batch 1:  Cost:   994.7207, Train Accuracy: 0.5792\n",
      "Epoch 21, CIFAR-10 Batch 2:  Cost:  1030.4435, Train Accuracy: 0.5804\n",
      "Epoch 21, CIFAR-10 Batch 3:  Cost:   994.7900, Train Accuracy: 0.5619\n",
      "Epoch 21, CIFAR-10 Batch 4:  Cost:   893.3987, Train Accuracy: 0.5903\n",
      "Epoch 21, CIFAR-10 Batch 5:  Cost:   858.7999, Train Accuracy: 0.6040\n",
      "Epoch 22, CIFAR-10 Batch 1:  Cost:   907.4716, Train Accuracy: 0.5817\n",
      "Epoch 22, CIFAR-10 Batch 2:  Cost:   973.3963, Train Accuracy: 0.5903\n",
      "Epoch 22, CIFAR-10 Batch 3:  Cost:   954.6844, Train Accuracy: 0.5730\n",
      "Epoch 22, CIFAR-10 Batch 4:  Cost:   866.2040, Train Accuracy: 0.5879\n",
      "Epoch 22, CIFAR-10 Batch 5:  Cost:   839.5839, Train Accuracy: 0.6200\n",
      "Epoch 23, CIFAR-10 Batch 1:  Cost:   879.4980, Train Accuracy: 0.5879\n",
      "Epoch 23, CIFAR-10 Batch 2:  Cost:   897.5289, Train Accuracy: 0.6114\n",
      "Epoch 23, CIFAR-10 Batch 3:  Cost:   903.4874, Train Accuracy: 0.5891\n",
      "Epoch 23, CIFAR-10 Batch 4:  Cost:   843.9127, Train Accuracy: 0.5891\n",
      "Epoch 23, CIFAR-10 Batch 5:  Cost:   865.5366, Train Accuracy: 0.6064\n",
      "Epoch 24, CIFAR-10 Batch 1:  Cost:   868.1416, Train Accuracy: 0.5953\n",
      "Epoch 24, CIFAR-10 Batch 2:  Cost:   857.1403, Train Accuracy: 0.6151\n",
      "Epoch 24, CIFAR-10 Batch 3:  Cost:   819.0673, Train Accuracy: 0.6077\n",
      "Epoch 24, CIFAR-10 Batch 4:  Cost:   859.5602, Train Accuracy: 0.5718\n",
      "Epoch 24, CIFAR-10 Batch 5:  Cost:   856.3247, Train Accuracy: 0.5965\n",
      "Epoch 25, CIFAR-10 Batch 1:  Cost:   969.2971, Train Accuracy: 0.5668\n",
      "Epoch 25, CIFAR-10 Batch 2:  Cost:   884.0048, Train Accuracy: 0.5941\n",
      "Epoch 25, CIFAR-10 Batch 3:  Cost:   876.2513, Train Accuracy: 0.5903\n",
      "Epoch 25, CIFAR-10 Batch 4:  Cost:   829.7259, Train Accuracy: 0.5990\n",
      "Epoch 25, CIFAR-10 Batch 5:  Cost:   783.4439, Train Accuracy: 0.6163\n",
      "Epoch 26, CIFAR-10 Batch 1:  Cost:   884.4303, Train Accuracy: 0.5866\n",
      "Epoch 26, CIFAR-10 Batch 2:  Cost:   801.5023, Train Accuracy: 0.6114\n",
      "Epoch 26, CIFAR-10 Batch 3:  Cost:   797.6431, Train Accuracy: 0.6151\n",
      "Epoch 26, CIFAR-10 Batch 4:  Cost:   726.7487, Train Accuracy: 0.6300\n",
      "Epoch 26, CIFAR-10 Batch 5:  Cost:   694.1393, Train Accuracy: 0.6374\n",
      "Epoch 27, CIFAR-10 Batch 1:  Cost:   756.1031, Train Accuracy: 0.6151\n",
      "Epoch 27, CIFAR-10 Batch 2:  Cost:   771.2972, Train Accuracy: 0.6163\n",
      "Epoch 27, CIFAR-10 Batch 3:  Cost:   783.5071, Train Accuracy: 0.6002\n",
      "Epoch 27, CIFAR-10 Batch 4:  Cost:   777.7526, Train Accuracy: 0.6040\n",
      "Epoch 27, CIFAR-10 Batch 5:  Cost:   738.2522, Train Accuracy: 0.6176\n",
      "Epoch 28, CIFAR-10 Batch 1:  Cost:   796.7861, Train Accuracy: 0.5953\n",
      "Epoch 28, CIFAR-10 Batch 2:  Cost:   758.8724, Train Accuracy: 0.6238\n",
      "Epoch 28, CIFAR-10 Batch 3:  Cost:   742.2637, Train Accuracy: 0.6151\n",
      "Epoch 28, CIFAR-10 Batch 4:  Cost:   708.2584, Train Accuracy: 0.6114\n",
      "Epoch 28, CIFAR-10 Batch 5:  Cost:   690.5290, Train Accuracy: 0.6399\n",
      "Epoch 29, CIFAR-10 Batch 1:  Cost:   684.1985, Train Accuracy: 0.6312\n",
      "Epoch 29, CIFAR-10 Batch 2:  Cost:   778.7599, Train Accuracy: 0.6200\n",
      "Epoch 29, CIFAR-10 Batch 3:  Cost:   718.8466, Train Accuracy: 0.6287\n",
      "Epoch 29, CIFAR-10 Batch 4:  Cost:   633.3394, Train Accuracy: 0.6399\n",
      "Epoch 29, CIFAR-10 Batch 5:  Cost:   636.2557, Train Accuracy: 0.6460\n",
      "Epoch 30, CIFAR-10 Batch 1:  Cost:   640.2748, Train Accuracy: 0.6399\n",
      "Epoch 30, CIFAR-10 Batch 2:  Cost:   723.7025, Train Accuracy: 0.6312\n",
      "Epoch 30, CIFAR-10 Batch 3:  Cost:   650.0305, Train Accuracy: 0.6498\n",
      "Epoch 30, CIFAR-10 Batch 4:  Cost:   590.4302, Train Accuracy: 0.6621\n",
      "Epoch 30, CIFAR-10 Batch 5:  Cost:   609.4932, Train Accuracy: 0.6609\n",
      "Epoch 31, CIFAR-10 Batch 1:  Cost:   606.2426, Train Accuracy: 0.6374\n",
      "Epoch 31, CIFAR-10 Batch 2:  Cost:   692.1124, Train Accuracy: 0.6411\n",
      "Epoch 31, CIFAR-10 Batch 3:  Cost:   624.8038, Train Accuracy: 0.6473\n",
      "Epoch 31, CIFAR-10 Batch 4:  Cost:   571.6917, Train Accuracy: 0.6683\n",
      "Epoch 31, CIFAR-10 Batch 5:  Cost:   568.4394, Train Accuracy: 0.6733\n",
      "Epoch 32, CIFAR-10 Batch 1:  Cost:   556.1372, Train Accuracy: 0.6510\n",
      "Epoch 32, CIFAR-10 Batch 2:  Cost:   633.7539, Train Accuracy: 0.6720\n",
      "Epoch 32, CIFAR-10 Batch 3:  Cost:   566.8325, Train Accuracy: 0.6646\n",
      "Epoch 32, CIFAR-10 Batch 4:  Cost:   546.6678, Train Accuracy: 0.6795\n",
      "Epoch 32, CIFAR-10 Batch 5:  Cost:   544.6282, Train Accuracy: 0.6819\n",
      "Epoch 33, CIFAR-10 Batch 1:  Cost:   523.7616, Train Accuracy: 0.6634\n",
      "Epoch 33, CIFAR-10 Batch 2:  Cost:   601.7885, Train Accuracy: 0.6696\n",
      "Epoch 33, CIFAR-10 Batch 3:  Cost:   536.6444, Train Accuracy: 0.6782\n",
      "Epoch 33, CIFAR-10 Batch 4:  Cost:   539.6991, Train Accuracy: 0.6708\n",
      "Epoch 33, CIFAR-10 Batch 5:  Cost:   534.6113, Train Accuracy: 0.6757\n",
      "Epoch 34, CIFAR-10 Batch 1:  Cost:   489.1724, Train Accuracy: 0.6881\n",
      "Epoch 34, CIFAR-10 Batch 2:  Cost:   588.1030, Train Accuracy: 0.6547\n",
      "Epoch 34, CIFAR-10 Batch 3:  Cost:   506.6564, Train Accuracy: 0.6733\n",
      "Epoch 34, CIFAR-10 Batch 4:  Cost:   578.0595, Train Accuracy: 0.6349\n",
      "Epoch 34, CIFAR-10 Batch 5:  Cost:   515.9892, Train Accuracy: 0.6745\n",
      "Epoch 35, CIFAR-10 Batch 1:  Cost:   475.8661, Train Accuracy: 0.6819\n",
      "Epoch 35, CIFAR-10 Batch 2:  Cost:   593.7703, Train Accuracy: 0.6510\n",
      "Epoch 35, CIFAR-10 Batch 3:  Cost:   482.7505, Train Accuracy: 0.6733\n",
      "Epoch 35, CIFAR-10 Batch 4:  Cost:   585.0567, Train Accuracy: 0.6361\n",
      "Epoch 35, CIFAR-10 Batch 5:  Cost:   474.3214, Train Accuracy: 0.6795\n",
      "Epoch 36, CIFAR-10 Batch 1:  Cost:   538.5631, Train Accuracy: 0.6473\n",
      "Epoch 36, CIFAR-10 Batch 2:  Cost:   490.8358, Train Accuracy: 0.7042\n",
      "Epoch 36, CIFAR-10 Batch 3:  Cost:   482.8380, Train Accuracy: 0.6819\n",
      "Epoch 36, CIFAR-10 Batch 4:  Cost:   503.4099, Train Accuracy: 0.6733\n",
      "Epoch 36, CIFAR-10 Batch 5:  Cost:   456.3479, Train Accuracy: 0.6869\n",
      "Epoch 37, CIFAR-10 Batch 1:  Cost:   474.6255, Train Accuracy: 0.6795\n",
      "Epoch 37, CIFAR-10 Batch 2:  Cost:   504.1973, Train Accuracy: 0.6980\n",
      "Epoch 37, CIFAR-10 Batch 3:  Cost:   462.9866, Train Accuracy: 0.6807\n",
      "Epoch 37, CIFAR-10 Batch 4:  Cost:   461.5184, Train Accuracy: 0.6832\n",
      "Epoch 37, CIFAR-10 Batch 5:  Cost:   456.4595, Train Accuracy: 0.6955\n",
      "Epoch 38, CIFAR-10 Batch 1:  Cost:   437.9626, Train Accuracy: 0.6881\n",
      "Epoch 38, CIFAR-10 Batch 2:  Cost:   496.0798, Train Accuracy: 0.7116\n",
      "Epoch 38, CIFAR-10 Batch 3:  Cost:   411.4307, Train Accuracy: 0.7116\n",
      "Epoch 38, CIFAR-10 Batch 4:  Cost:   448.7583, Train Accuracy: 0.6807\n",
      "Epoch 38, CIFAR-10 Batch 5:  Cost:   422.2934, Train Accuracy: 0.7092\n",
      "Epoch 39, CIFAR-10 Batch 1:  Cost:   435.8687, Train Accuracy: 0.6683\n",
      "Epoch 39, CIFAR-10 Batch 2:  Cost:   475.2108, Train Accuracy: 0.7129\n",
      "Epoch 39, CIFAR-10 Batch 3:  Cost:   399.1291, Train Accuracy: 0.7153\n",
      "Epoch 39, CIFAR-10 Batch 4:  Cost:   428.4562, Train Accuracy: 0.6807\n",
      "Epoch 39, CIFAR-10 Batch 5:  Cost:   397.5411, Train Accuracy: 0.7054\n",
      "Epoch 40, CIFAR-10 Batch 1:  Cost:   430.7341, Train Accuracy: 0.6658\n",
      "Epoch 40, CIFAR-10 Batch 2:  Cost:   458.5529, Train Accuracy: 0.7153\n",
      "Epoch 40, CIFAR-10 Batch 3:  Cost:   454.3069, Train Accuracy: 0.6745\n",
      "Epoch 40, CIFAR-10 Batch 4:  Cost:   404.8112, Train Accuracy: 0.7017\n",
      "Epoch 40, CIFAR-10 Batch 5:  Cost:   356.7931, Train Accuracy: 0.7252\n",
      "Epoch 41, CIFAR-10 Batch 1:  Cost:   387.4253, Train Accuracy: 0.6894\n",
      "Epoch 41, CIFAR-10 Batch 2:  Cost:   439.0748, Train Accuracy: 0.7166\n",
      "Epoch 41, CIFAR-10 Batch 3:  Cost:   463.1885, Train Accuracy: 0.6696\n",
      "Epoch 41, CIFAR-10 Batch 4:  Cost:   383.9120, Train Accuracy: 0.7141\n",
      "Epoch 41, CIFAR-10 Batch 5:  Cost:   356.5270, Train Accuracy: 0.7141\n",
      "Epoch 42, CIFAR-10 Batch 1:  Cost:   344.5900, Train Accuracy: 0.7153\n",
      "Epoch 42, CIFAR-10 Batch 2:  Cost:   442.0624, Train Accuracy: 0.7092\n",
      "Epoch 42, CIFAR-10 Batch 3:  Cost:   423.3052, Train Accuracy: 0.7017\n",
      "Epoch 42, CIFAR-10 Batch 4:  Cost:   362.9997, Train Accuracy: 0.7215\n",
      "Epoch 42, CIFAR-10 Batch 5:  Cost:   348.8099, Train Accuracy: 0.7153\n",
      "Epoch 43, CIFAR-10 Batch 1:  Cost:   311.1162, Train Accuracy: 0.7376\n",
      "Epoch 43, CIFAR-10 Batch 2:  Cost:   395.6686, Train Accuracy: 0.7302\n",
      "Epoch 43, CIFAR-10 Batch 3:  Cost:   382.6028, Train Accuracy: 0.7302\n",
      "Epoch 43, CIFAR-10 Batch 4:  Cost:   379.4461, Train Accuracy: 0.6931\n",
      "Epoch 43, CIFAR-10 Batch 5:  Cost:   373.5957, Train Accuracy: 0.7129\n",
      "Epoch 44, CIFAR-10 Batch 1:  Cost:   364.7485, Train Accuracy: 0.7079\n",
      "Epoch 44, CIFAR-10 Batch 2:  Cost:   398.5301, Train Accuracy: 0.7277\n",
      "Epoch 44, CIFAR-10 Batch 3:  Cost:   357.5276, Train Accuracy: 0.7512\n",
      "Epoch 44, CIFAR-10 Batch 4:  Cost:   384.0948, Train Accuracy: 0.6955\n",
      "Epoch 44, CIFAR-10 Batch 5:  Cost:   376.9215, Train Accuracy: 0.7215\n",
      "Epoch 45, CIFAR-10 Batch 1:  Cost:   343.0729, Train Accuracy: 0.7376\n",
      "Epoch 45, CIFAR-10 Batch 2:  Cost:   387.1765, Train Accuracy: 0.7228\n",
      "Epoch 45, CIFAR-10 Batch 3:  Cost:   332.1904, Train Accuracy: 0.7525\n",
      "Epoch 45, CIFAR-10 Batch 4:  Cost:   342.3382, Train Accuracy: 0.7240\n",
      "Epoch 45, CIFAR-10 Batch 5:  Cost:   341.5434, Train Accuracy: 0.7376\n",
      "Epoch 46, CIFAR-10 Batch 1:  Cost:   339.3579, Train Accuracy: 0.7178\n",
      "Epoch 46, CIFAR-10 Batch 2:  Cost:   367.4468, Train Accuracy: 0.7277\n",
      "Epoch 46, CIFAR-10 Batch 3:  Cost:   309.4661, Train Accuracy: 0.7599\n",
      "Epoch 46, CIFAR-10 Batch 4:  Cost:   311.7586, Train Accuracy: 0.7351\n",
      "Epoch 46, CIFAR-10 Batch 5:  Cost:   296.6695, Train Accuracy: 0.7686\n",
      "Epoch 47, CIFAR-10 Batch 1:  Cost:   320.1084, Train Accuracy: 0.7314\n",
      "Epoch 47, CIFAR-10 Batch 2:  Cost:   316.9401, Train Accuracy: 0.7649\n",
      "Epoch 47, CIFAR-10 Batch 3:  Cost:   294.4168, Train Accuracy: 0.7450\n",
      "Epoch 47, CIFAR-10 Batch 4:  Cost:   272.4615, Train Accuracy: 0.7611\n",
      "Epoch 47, CIFAR-10 Batch 5:  Cost:   276.9278, Train Accuracy: 0.7698\n",
      "Epoch 48, CIFAR-10 Batch 1:  Cost:   268.8362, Train Accuracy: 0.7500\n",
      "Epoch 48, CIFAR-10 Batch 2:  Cost:   286.8649, Train Accuracy: 0.7735\n",
      "Epoch 48, CIFAR-10 Batch 3:  Cost:   297.3044, Train Accuracy: 0.7141\n",
      "Epoch 48, CIFAR-10 Batch 4:  Cost:   280.6301, Train Accuracy: 0.7525\n",
      "Epoch 48, CIFAR-10 Batch 5:  Cost:   315.8393, Train Accuracy: 0.7215\n",
      "Epoch 49, CIFAR-10 Batch 1:  Cost:   257.5924, Train Accuracy: 0.7649\n",
      "Epoch 49, CIFAR-10 Batch 2:  Cost:   309.3768, Train Accuracy: 0.7475\n",
      "Epoch 49, CIFAR-10 Batch 3:  Cost:   294.1908, Train Accuracy: 0.7228\n",
      "Epoch 49, CIFAR-10 Batch 4:  Cost:   280.4637, Train Accuracy: 0.7525\n",
      "Epoch 49, CIFAR-10 Batch 5:  Cost:   335.7934, Train Accuracy: 0.7129\n",
      "Epoch 50, CIFAR-10 Batch 1:  Cost:   234.4120, Train Accuracy: 0.8020\n",
      "Epoch 50, CIFAR-10 Batch 2:  Cost:   333.9395, Train Accuracy: 0.7426\n",
      "Epoch 50, CIFAR-10 Batch 3:  Cost:   229.0300, Train Accuracy: 0.8045\n",
      "Epoch 50, CIFAR-10 Batch 4:  Cost:   360.3396, Train Accuracy: 0.7079\n",
      "Epoch 50, CIFAR-10 Batch 5:  Cost:   235.1501, Train Accuracy: 0.7785\n"
     ]
    }
   ],
   "source": [
    "\"\"\"\n",
    "DON'T MODIFY ANYTHING IN THIS CELL\n",
    "\"\"\"\n",
    "save_model_path = './image_classification'\n",
    "\n",
    "print('Training...')\n",
    "with tf.Session() as sess:\n",
    "    # Initializing the variables\n",
    "    sess.run(tf.global_variables_initializer())\n",
    "    \n",
    "    # Training cycle\n",
    "    for epoch in range(epochs):\n",
    "        # Loop over all batches\n",
    "        n_batches = 5\n",
    "        for batch_i in range(1, n_batches + 1):\n",
    "            for batch_features, batch_labels in helper.load_preprocess_training_batch(batch_i, batch_size):\n",
    "                train_neural_network(sess, optimizer, keep_probability, batch_features, batch_labels)\n",
    "            print('Epoch {:>2}, CIFAR-10 Batch {}:  '.format(epoch + 1, batch_i), end='')\n",
    "            print_stats(sess, batch_features, batch_labels, cost, accuracy)\n",
    "            \n",
    "    # Save Model\n",
    "    saver = tf.train.Saver()\n",
    "    save_path = saver.save(sess, save_model_path)"
   ]
  },
  {
   "cell_type": "markdown",
   "metadata": {},
   "source": [
    "# Checkpoint\n",
    "The model has been saved to disk.\n",
    "## Test Model\n",
    "Test your model against the test dataset.  This will be your final accuracy. You should have an accuracy greater than 50%. If you don't, keep tweaking the model architecture and parameters."
   ]
  },
  {
   "cell_type": "code",
   "execution_count": 32,
   "metadata": {
    "collapsed": false
   },
   "outputs": [
    {
     "name": "stdout",
     "output_type": "stream",
     "text": [
      "Testing Accuracy: 0.5119120717048645\n",
      "\n"
     ]
    },
    {
     "data": {
      "image/png": "[encoded data removed]",
      "text/plain": [
       "<matplotlib.figure.Figure at 0x1eb802840b8>"
      ]
     },
     "metadata": {
      "image/png": {
       "height": 319,
       "width": 349
      }
     },
     "output_type": "display_data"
    }
   ],
   "source": [
    "\"\"\"\n",
    "DON'T MODIFY ANYTHING IN THIS CELL\n",
    "\"\"\"\n",
    "%matplotlib inline\n",
    "%config InlineBackend.figure_format = 'retina'\n",
    "\n",
    "import tensorflow as tf\n",
    "import pickle\n",
    "import helper\n",
    "import random\n",
    "\n",
    "# Set batch size if not already set\n",
    "try:\n",
    "    if batch_size:\n",
    "        pass\n",
    "except NameError:\n",
    "    batch_size = 64\n",
    "\n",
    "save_model_path = './image_classification'\n",
    "n_samples = 4\n",
    "top_n_predictions = 3\n",
    "\n",
    "def test_model():\n",
    "    \"\"\"\n",
    "    Test the saved model against the test dataset\n",
    "    \"\"\"\n",
    "\n",
    "    test_features, test_labels = pickle.load(open('preprocess_training.p', mode='rb'))\n",
    "    loaded_graph = tf.Graph()\n",
    "\n",
    "    with tf.Session(graph=loaded_graph) as sess:\n",
    "        # Load model\n",
    "        loader = tf.train.import_meta_graph(save_model_path + '.meta')\n",
    "        loader.restore(sess, save_model_path)\n",
    "\n",
    "        # Get Tensors from loaded model\n",
    "        loaded_x = loaded_graph.get_tensor_by_name('x:0')\n",
    "        loaded_y = loaded_graph.get_tensor_by_name('y:0')\n",
    "        loaded_keep_prob = loaded_graph.get_tensor_by_name('keep_prob:0')\n",
    "        loaded_logits = loaded_graph.get_tensor_by_name('logits:0')\n",
    "        loaded_acc = loaded_graph.get_tensor_by_name('accuracy:0')\n",
    "        \n",
    "        # Get accuracy in batches for memory limitations\n",
    "        test_batch_acc_total = 0\n",
    "        test_batch_count = 0\n",
    "        \n",
    "        for train_feature_batch, train_label_batch in helper.batch_features_labels(test_features, test_labels, batch_size):\n",
    "            test_batch_acc_total += sess.run(\n",
    "                loaded_acc,\n",
    "                feed_dict={loaded_x: train_feature_batch, loaded_y: train_label_batch, loaded_keep_prob: 1.0})\n",
    "            test_batch_count += 1\n",
    "\n",
    "        print('Testing Accuracy: {}\\n'.format(test_batch_acc_total/test_batch_count))\n",
    "\n",
    "        # Print Random Samples\n",
    "        random_test_features, random_test_labels = tuple(zip(*random.sample(list(zip(test_features, test_labels)), n_samples)))\n",
    "        random_test_predictions = sess.run(\n",
    "            tf.nn.top_k(tf.nn.softmax(loaded_logits), top_n_predictions),\n",
    "            feed_dict={loaded_x: random_test_features, loaded_y: random_test_labels, loaded_keep_prob: 1.0})\n",
    "        helper.display_image_predictions(random_test_features, random_test_labels, random_test_predictions)\n",
    "\n",
    "\n",
    "test_model()"
   ]
  },
  {
   "cell_type": "markdown",
   "metadata": {},
   "source": [
    "## Why 50-70% Accuracy?\n",
    "You might be wondering why you can't get an accuracy any higher. First things first, 50% isn't bad for a simple CNN.  Pure guessing would get you 10% accuracy. However, you might notice people are getting scores [well above 70%](http://rodrigob.github.io/are_we_there_yet/build/classification_datasets_results.html#43494641522d3130).  That's because we haven't taught you all there is to know about neural networks. We still need to cover a few more techniques.\n",
    "## Submitting This Project\n",
    "When submitting this project, make sure to run all the cells before saving the notebook.  Save the notebook file as \"dlnd_image_classification.ipynb\" and save it as a HTML file under \"File\" -> \"Download as\".  Include the \"helper.py\" and \"problem_unittests.py\" files in your submission."
   ]
  },
  {
   "cell_type": "code",
   "execution_count": null,
   "metadata": {
    "collapsed": true
   },
   "outputs": [],
   "source": []
  },
  {
   "cell_type": "code",
   "execution_count": null,
   "metadata": {
    "collapsed": true
   },
   "outputs": [],
   "source": []
  }
 ],
 "metadata": {
  "kernelspec": {
   "display_name": "Python 3",
   "language": "python",
   "name": "python3"
  },
  "language_info": {
   "codemirror_mode": {
    "name": "ipython",
    "version": 3
   },
   "file_extension": ".py",
   "mimetype": "text/x-python",
   "name": "python",
   "nbconvert_exporter": "python",
   "pygments_lexer": "ipython3",
   "version": "3.5.2"
  }
 },
 "nbformat": 4,
 "nbformat_minor": 0
}
