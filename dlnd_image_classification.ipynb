{
 "cells": [
  {
   "cell_type": "markdown",
   "metadata": {
    "collapsed": true,
    "deletable": true,
    "editable": true
   },
   "source": [
    "# Image Classification\n",
    "In this project, you'll classify images from the [CIFAR-10 dataset](https://www.cs.toronto.edu/~kriz/cifar.html).  The dataset consists of airplanes, dogs, cats, and other objects. You'll preprocess the images, then train a convolutional neural network on all the samples. The images need to be normalized and the labels need to be one-hot encoded.  You'll get to apply what you learned and build a convolutional, max pooling, dropout, and fully connected layers.  At the end, you'll get to see your neural network's predictions on the sample images.\n",
    "## Get the Data\n",
    "Run the following cell to download the [CIFAR-10 dataset for python](https://www.cs.toronto.edu/~kriz/cifar-10-python.tar.gz)."
   ]
  },
  {
   "cell_type": "code",
   "execution_count": 1,
   "metadata": {
    "collapsed": false,
    "deletable": true,
    "editable": true
   },
   "outputs": [
    {
     "name": "stderr",
     "output_type": "stream",
     "text": [
      "CIFAR-10 Dataset: 171MB [01:44, 1.64MB/s]                               \n"
     ]
    },
    {
     "name": "stdout",
     "output_type": "stream",
     "text": [
      "All files found!\n"
     ]
    }
   ],
   "source": [
    "\"\"\"\n",
    "DON'T MODIFY ANYTHING IN THIS CELL THAT IS BELOW THIS LINE\n",
    "\"\"\"\n",
    "from urllib.request import urlretrieve\n",
    "from os.path import isfile, isdir\n",
    "from tqdm import tqdm\n",
    "import problem_unittests as tests\n",
    "import tarfile\n",
    "\n",
    "cifar10_dataset_folder_path = 'cifar-10-batches-py'\n",
    "\n",
    "class DLProgress(tqdm):\n",
    "    last_block = 0\n",
    "\n",
    "    def hook(self, block_num=1, block_size=1, total_size=None):\n",
    "        self.total = total_size\n",
    "        self.update((block_num - self.last_block) * block_size)\n",
    "        self.last_block = block_num\n",
    "\n",
    "if not isfile('cifar-10-python.tar.gz'):\n",
    "    with DLProgress(unit='B', unit_scale=True, miniters=1, desc='CIFAR-10 Dataset') as pbar:\n",
    "        urlretrieve(\n",
    "            'https://www.cs.toronto.edu/~kriz/cifar-10-python.tar.gz',\n",
    "            'cifar-10-python.tar.gz',\n",
    "            pbar.hook)\n",
    "\n",
    "if not isdir(cifar10_dataset_folder_path):\n",
    "    with tarfile.open('cifar-10-python.tar.gz') as tar:\n",
    "        tar.extractall()\n",
    "        tar.close()\n",
    "\n",
    "\n",
    "tests.test_folder_path(cifar10_dataset_folder_path)"
   ]
  },
  {
   "cell_type": "markdown",
   "metadata": {
    "deletable": true,
    "editable": true
   },
   "source": [
    "## Explore the Data\n",
    "The dataset is broken into batches to prevent your machine from running out of memory.  The CIFAR-10 dataset consists of 5 batches, named `data_batch_1`, `data_batch_2`, etc.. Each batch contains the labels and images that are one of the following:\n",
    "* airplane\n",
    "* automobile\n",
    "* bird\n",
    "* cat\n",
    "* deer\n",
    "* dog\n",
    "* frog\n",
    "* horse\n",
    "* ship\n",
    "* truck\n",
    "\n",
    "Understanding a dataset is part of making predictions on the data.  Play around with the code cell below by changing the `batch_id` and `sample_id`. The `batch_id` is the id for a batch (1-5). The `sample_id` is the id for a image and label pair in the batch.\n",
    "\n",
    "Ask yourself \"What are all possible labels?\", \"What is the range of values for the image data?\", \"Are the labels in order or random?\".  Answers to questions like these will help you preprocess the data and end up with better predictions."
   ]
  },
  {
   "cell_type": "code",
   "execution_count": 2,
   "metadata": {
    "collapsed": false,
    "deletable": true,
    "editable": true
   },
   "outputs": [
    {
     "name": "stdout",
     "output_type": "stream",
     "text": [
      "\n",
      "Stats of batch 1:\n",
      "Samples: 10000\n",
      "Label Counts: {0: 1005, 1: 974, 2: 1032, 3: 1016, 4: 999, 5: 937, 6: 1030, 7: 1001, 8: 1025, 9: 981}\n",
      "First 20 Labels: [6, 9, 9, 4, 1, 1, 2, 7, 8, 3, 4, 7, 7, 2, 9, 9, 9, 3, 2, 6]\n",
      "\n",
      "Example of Image 8:\n",
      "Image - Min Value: 8 Max Value: 252\n",
      "Image - Shape: (32, 32, 3)\n",
      "Label - Label Id: 8 Name: ship\n"
     ]
    },
    {
     "data": {
      "image/png": "[encoded data removed]",
      "text/plain": [
       "<matplotlib.figure.Figure at 0x7f6086fe79e8>"
      ]
     },
     "metadata": {
      "image/png": {
       "height": 250,
       "width": 253
      }
     },
     "output_type": "display_data"
    }
   ],
   "source": [
    "%matplotlib inline\n",
    "%config InlineBackend.figure_format = 'retina'\n",
    "\n",
    "import helper\n",
    "import numpy as np\n",
    "\n",
    "# Explore the dataset\n",
    "batch_id = 1\n",
    "sample_id = 8\n",
    "helper.display_stats(cifar10_dataset_folder_path, batch_id, sample_id)"
   ]
  },
  {
   "cell_type": "markdown",
   "metadata": {
    "deletable": true,
    "editable": true
   },
   "source": [
    "## Implement Preprocess Functions\n",
    "### Normalize\n",
    "In the cell below, implement the `normalize` function to take in image data, `x`, and return it as a normalized Numpy array. The values should be in the range of 0 to 1, inclusive.  The return object should be the same shape as `x`."
   ]
  },
  {
   "cell_type": "code",
   "execution_count": 3,
   "metadata": {
    "collapsed": false,
    "deletable": true,
    "editable": true
   },
   "outputs": [
    {
     "name": "stdout",
     "output_type": "stream",
     "text": [
      "Tests Passed\n"
     ]
    }
   ],
   "source": [
    "def normalize(x):\n",
    "    \"\"\"\n",
    "    Normalize a list of sample image data in the range of 0 to 1\n",
    "    : x: List of image data.  The image shape is (32, 32, 3)\n",
    "    : return: Numpy array of normalize data\n",
    "    \"\"\"\n",
    "    # TODO: Implement Function\n",
    "    return np.array(x) / 255.\n",
    "\n",
    "\n",
    "\"\"\"\n",
    "DON'T MODIFY ANYTHING IN THIS CELL THAT IS BELOW THIS LINE\n",
    "\"\"\"\n",
    "tests.test_normalize(normalize)"
   ]
  },
  {
   "cell_type": "markdown",
   "metadata": {
    "deletable": true,
    "editable": true
   },
   "source": [
    "### One-hot encode\n",
    "Just like the previous code cell, you'll be implementing a function for preprocessing.  This time, you'll implement the `one_hot_encode` function. The input, `x`, are a list of labels.  Implement the function to return the list of labels as One-Hot encoded Numpy array.  The possible values for labels are 0 to 9. The one-hot encoding function should return the same encoding for each value between each call to `one_hot_encode`.  Make sure to save the map of encodings outside the function.\n",
    "\n",
    "Hint: Don't reinvent the wheel."
   ]
  },
  {
   "cell_type": "code",
   "execution_count": 4,
   "metadata": {
    "collapsed": false,
    "deletable": true,
    "editable": true
   },
   "outputs": [
    {
     "name": "stdout",
     "output_type": "stream",
     "text": [
      "Tests Passed\n"
     ]
    }
   ],
   "source": [
    "def one_hot_encode(x):\n",
    "    \"\"\"\n",
    "    One hot encode a list of sample labels. Return a one-hot encoded vector for each label.\n",
    "    : x: List of sample Labels\n",
    "    : return: Numpy array of one-hot encoded labels\n",
    "    \"\"\"\n",
    "    # TODO: Implement Function\n",
    "    one_hot_x = []\n",
    "    for label in x:\n",
    "        one_hot = [0.] * 10\n",
    "        one_hot[label] = 1\n",
    "        one_hot_x.append(one_hot)\n",
    "    return np.array(one_hot_x).astype(np.float16)\n",
    "\n",
    "\"\"\"\n",
    "DON'T MODIFY ANYTHING IN THIS CELL THAT IS BELOW THIS LINE\n",
    "\"\"\"\n",
    "tests.test_one_hot_encode(one_hot_encode)"
   ]
  },
  {
   "cell_type": "markdown",
   "metadata": {
    "deletable": true,
    "editable": true
   },
   "source": [
    "### Randomize Data\n",
    "As you saw from exploring the data above, the order of the samples are randomized.  It doesn't hurt to randomize it again, but you don't need to for this dataset."
   ]
  },
  {
   "cell_type": "markdown",
   "metadata": {
    "deletable": true,
    "editable": true
   },
   "source": [
    "## Preprocess all the data and save it\n",
    "Running the code cell below will preprocess all the CIFAR-10 data and save it to file. The code below also uses 10% of the training data for validation."
   ]
  },
  {
   "cell_type": "code",
   "execution_count": 5,
   "metadata": {
    "collapsed": false,
    "deletable": true,
    "editable": true
   },
   "outputs": [],
   "source": [
    "\"\"\"\n",
    "DON'T MODIFY ANYTHING IN THIS CELL\n",
    "\"\"\"\n",
    "# Preprocess Training, Validation, and Testing Data\n",
    "helper.preprocess_and_save_data(cifar10_dataset_folder_path, normalize, one_hot_encode)"
   ]
  },
  {
   "cell_type": "markdown",
   "metadata": {
    "deletable": true,
    "editable": true
   },
   "source": [
    "# Check Point\n",
    "This is your first checkpoint.  If you ever decide to come back to this notebook or have to restart the notebook, you can start from here.  The preprocessed data has been saved to disk."
   ]
  },
  {
   "cell_type": "code",
   "execution_count": 6,
   "metadata": {
    "collapsed": true,
    "deletable": true,
    "editable": true
   },
   "outputs": [],
   "source": [
    "\"\"\"\n",
    "DON'T MODIFY ANYTHING IN THIS CELL\n",
    "\"\"\"\n",
    "import pickle\n",
    "import problem_unittests as tests\n",
    "import helper\n",
    "import numpy as np\n",
    "\n",
    "# Load the Preprocessed Validation data\n",
    "valid_features, valid_labels = pickle.load(open('preprocess_validation.p', mode='rb'))"
   ]
  },
  {
   "cell_type": "markdown",
   "metadata": {
    "deletable": true,
    "editable": true
   },
   "source": [
    "## Build the network\n",
    "For the neural network, you'll build each layer into a function.  Most of the code you've seen has been outside of functions. To test your code more thoroughly, we require that you put each layer in a function.  This allows us to give you better feedback and test for simple mistakes using our unittests before you submit your project.\n",
    "\n",
    ">**Note:** If you're finding it hard to dedicate enough time for this course each week, we've provided a small shortcut to this part of the project. In the next couple of problems, you'll have the option to use classes from the [TensorFlow Layers](https://www.tensorflow.org/api_docs/python/tf/layers) or [TensorFlow Layers (contrib)](https://www.tensorflow.org/api_guides/python/contrib.layers) packages to build each layer, except the layers you build in the \"Convolutional and Max Pooling Layer\" section.  TF Layers is similar to Keras's and TFLearn's abstraction to layers, so it's easy to pickup.\n",
    "\n",
    ">However, if you would like to get the most out of this course, try to solve all the problems _without_ using anything from the TF Layers packages. You **can** still use classes from other packages that happen to have the same name as ones you find in TF Layers! For example, instead of using the TF Layers version of the `conv2d` class, [tf.layers.conv2d](https://www.tensorflow.org/api_docs/python/tf/layers/conv2d), you would want to use the TF Neural Network version of `conv2d`, [tf.nn.conv2d](https://www.tensorflow.org/api_docs/python/tf/nn/conv2d). \n",
    "\n",
    "Let's begin!\n",
    "\n",
    "### Input\n",
    "The neural network needs to read the image data, one-hot encoded labels, and dropout keep probability. Implement the following functions\n",
    "* Implement `neural_net_image_input`\n",
    " * Return a [TF Placeholder](https://www.tensorflow.org/api_docs/python/tf/placeholder)\n",
    " * Set the shape using `image_shape` with batch size set to `None`.\n",
    " * Name the TensorFlow placeholder \"x\" using the TensorFlow `name` parameter in the [TF Placeholder](https://www.tensorflow.org/api_docs/python/tf/placeholder).\n",
    "* Implement `neural_net_label_input`\n",
    " * Return a [TF Placeholder](https://www.tensorflow.org/api_docs/python/tf/placeholder)\n",
    " * Set the shape using `n_classes` with batch size set to `None`.\n",
    " * Name the TensorFlow placeholder \"y\" using the TensorFlow `name` parameter in the [TF Placeholder](https://www.tensorflow.org/api_docs/python/tf/placeholder).\n",
    "* Implement `neural_net_keep_prob_input`\n",
    " * Return a [TF Placeholder](https://www.tensorflow.org/api_docs/python/tf/placeholder) for dropout keep probability.\n",
    " * Name the TensorFlow placeholder \"keep_prob\" using the TensorFlow `name` parameter in the [TF Placeholder](https://www.tensorflow.org/api_docs/python/tf/placeholder).\n",
    "\n",
    "These names will be used at the end of the project to load your saved model.\n",
    "\n",
    "Note: `None` for shapes in TensorFlow allow for a dynamic size."
   ]
  },
  {
   "cell_type": "code",
   "execution_count": 7,
   "metadata": {
    "collapsed": false,
    "deletable": true,
    "editable": true
   },
   "outputs": [
    {
     "name": "stdout",
     "output_type": "stream",
     "text": [
      "Image Input Tests Passed.\n",
      "Label Input Tests Passed.\n",
      "Keep Prob Tests Passed.\n"
     ]
    }
   ],
   "source": [
    "import tensorflow as tf\n",
    "\n",
    "def neural_net_image_input(image_shape):\n",
    "    \"\"\"\n",
    "    Return a Tensor for a bach of image input\n",
    "    : image_shape: Shape of the images\n",
    "    : return: Tensor for image input.\n",
    "    \"\"\"\n",
    "    # TODO: Implement Function\n",
    "    return tf.placeholder(tf.float32, shape=[None, image_shape[0], image_shape[1], image_shape[2]], name='x')\n",
    "\n",
    "\n",
    "def neural_net_label_input(n_classes):\n",
    "    \"\"\"\n",
    "    Return a Tensor for a batch of label input\n",
    "    : n_classes: Number of classes\n",
    "    : return: Tensor for label input.\n",
    "    \"\"\"\n",
    "    # TODO: Implement Function\n",
    "    return tf.placeholder(tf.float32, shape=[None, n_classes], name='y')\n",
    "\n",
    "\n",
    "def neural_net_keep_prob_input():\n",
    "    \"\"\"\n",
    "    Return a Tensor for keep probability\n",
    "    : return: Tensor for keep probability.\n",
    "    \"\"\"\n",
    "    # TODO: Implement Function\n",
    "    return tf.placeholder(tf.float32, name='keep_prob')\n",
    "\n",
    "\n",
    "\"\"\"\n",
    "DON'T MODIFY ANYTHING IN THIS CELL THAT IS BELOW THIS LINE\n",
    "\"\"\"\n",
    "tf.reset_default_graph()\n",
    "tests.test_nn_image_inputs(neural_net_image_input)\n",
    "tests.test_nn_label_inputs(neural_net_label_input)\n",
    "tests.test_nn_keep_prob_inputs(neural_net_keep_prob_input)"
   ]
  },
  {
   "cell_type": "markdown",
   "metadata": {
    "deletable": true,
    "editable": true
   },
   "source": [
    "### Convolution and Max Pooling Layer\n",
    "Convolution layers have a lot of success with images. For this code cell, you should implement the function `conv2d_maxpool` to apply convolution then max pooling:\n",
    "* Create the weight and bias using `conv_ksize`, `conv_num_outputs` and the shape of `x_tensor`.\n",
    "* Apply a convolution to `x_tensor` using weight and `conv_strides`.\n",
    " * We recommend you use same padding, but you're welcome to use any padding.\n",
    "* Add bias\n",
    "* Add a nonlinear activation to the convolution.\n",
    "* Apply Max Pooling using `pool_ksize` and `pool_strides`.\n",
    " * We recommend you use same padding, but you're welcome to use any padding.\n",
    "\n",
    "**Note:** You **can't** use [TensorFlow Layers](https://www.tensorflow.org/api_docs/python/tf/layers) or [TensorFlow Layers (contrib)](https://www.tensorflow.org/api_guides/python/contrib.layers) for **this** layer, but you can still use TensorFlow's [Neural Network](https://www.tensorflow.org/api_docs/python/tf/nn) package. You may still use the shortcut option for all the **other** layers."
   ]
  },
  {
   "cell_type": "code",
   "execution_count": 8,
   "metadata": {
    "collapsed": false,
    "deletable": true,
    "editable": true,
    "scrolled": false
   },
   "outputs": [
    {
     "name": "stdout",
     "output_type": "stream",
     "text": [
      "Tests Passed\n"
     ]
    }
   ],
   "source": [
    "def conv2d_maxpool(x_tensor, conv_num_outputs, conv_ksize, conv_strides, pool_ksize, pool_strides):\n",
    "    \"\"\"\n",
    "    Apply convolution then max pooling to x_tensor\n",
    "    :param x_tensor: TensorFlow Tensor\n",
    "    :param conv_num_outputs: Number of outputs for the convolutional layer\n",
    "    :param conv_ksize: kernal size 2-D Tuple for the convolutional layer\n",
    "    :param conv_strides: Stride 2-D Tuple for convolution\n",
    "    :param pool_ksize: kernal size 2-D Tuple for pool\n",
    "    :param pool_strides: Stride 2-D Tuple for pool\n",
    "    : return: A tensor that represents convolution and max pooling of x_tensor\n",
    "    \"\"\"\n",
    "    # TODO: Implement Function\n",
    "    w_conv = tf.Variable(tf.truncated_normal([conv_ksize[0], conv_ksize[1],\n",
    "                                              x_tensor.get_shape().as_list()[-1], conv_num_outputs], stddev=0.5))\n",
    "    b_conv = tf.Variable(tf.zeros(conv_num_outputs))\n",
    "    conv = tf.nn.conv2d(x_tensor, w_conv, [1, conv_strides[0], conv_strides[1], 1], padding='SAME')\n",
    "    conv = tf.nn.bias_add(conv, b_conv)\n",
    "    conv = tf.nn.relu(conv)\n",
    "    max_pool = tf.nn.max_pool(conv, [1, pool_ksize[0], pool_ksize[1], 1], [1, pool_strides[0], pool_strides[1], 1],\n",
    "                             padding='SAME')\n",
    "    return max_pool \n",
    "\n",
    "\n",
    "\"\"\"\n",
    "DON'T MODIFY ANYTHING IN THIS CELL THAT IS BELOW THIS LINE\n",
    "\"\"\"\n",
    "tests.test_con_pool(conv2d_maxpool)"
   ]
  },
  {
   "cell_type": "markdown",
   "metadata": {
    "deletable": true,
    "editable": true
   },
   "source": [
    "### Flatten Layer\n",
    "Implement the `flatten` function to change the dimension of `x_tensor` from a 4-D tensor to a 2-D tensor.  The output should be the shape (*Batch Size*, *Flattened Image Size*). Shortcut option: you can use classes from the [TensorFlow Layers](https://www.tensorflow.org/api_docs/python/tf/layers) or [TensorFlow Layers (contrib)](https://www.tensorflow.org/api_guides/python/contrib.layers) packages for this layer. For more of a challenge, only use other TensorFlow packages."
   ]
  },
  {
   "cell_type": "code",
   "execution_count": 9,
   "metadata": {
    "collapsed": false,
    "deletable": true,
    "editable": true
   },
   "outputs": [
    {
     "name": "stdout",
     "output_type": "stream",
     "text": [
      "Tests Passed\n"
     ]
    }
   ],
   "source": [
    "def flatten(x_tensor):\n",
    "    \"\"\"\n",
    "    Flatten x_tensor to (Batch Size, Flattened Image Size)\n",
    "    : x_tensor: A tensor of size (Batch Size, ...), where ... are the image dimensions.\n",
    "    : return: A tensor of size (Batch Size, Flattened Image Size).\n",
    "    \"\"\"\n",
    "    # TODO: Implement Function\n",
    "    shape = x_tensor.get_shape().as_list()\n",
    "    dim = np.prod(shape[1:])\n",
    "    return tf.reshape(x_tensor, [-1, dim])\n",
    "\n",
    "\n",
    "\"\"\"\n",
    "DON'T MODIFY ANYTHING IN THIS CELL THAT IS BELOW THIS LINE\n",
    "\"\"\"\n",
    "tests.test_flatten(flatten)"
   ]
  },
  {
   "cell_type": "markdown",
   "metadata": {
    "deletable": true,
    "editable": true
   },
   "source": [
    "### Fully-Connected Layer\n",
    "Implement the `fully_conn` function to apply a fully connected layer to `x_tensor` with the shape (*Batch Size*, *num_outputs*). Shortcut option: you can use classes from the [TensorFlow Layers](https://www.tensorflow.org/api_docs/python/tf/layers) or [TensorFlow Layers (contrib)](https://www.tensorflow.org/api_guides/python/contrib.layers) packages for this layer. For more of a challenge, only use other TensorFlow packages."
   ]
  },
  {
   "cell_type": "code",
   "execution_count": 10,
   "metadata": {
    "collapsed": false,
    "deletable": true,
    "editable": true
   },
   "outputs": [
    {
     "name": "stdout",
     "output_type": "stream",
     "text": [
      "Tests Passed\n"
     ]
    }
   ],
   "source": [
    "def fully_conn(x_tensor, num_outputs):\n",
    "    \"\"\"\n",
    "    Apply a fully connected layer to x_tensor using weight and bias\n",
    "    : x_tensor: A 2-D tensor where the first dimension is batch size.\n",
    "    : num_outputs: The number of output that the new tensor should be.\n",
    "    : return: A 2-D tensor where the second dimension is num_outputs.\n",
    "    \"\"\"\n",
    "    # TODO: Implement Function\n",
    "    w_fc = tf.Variable(tf.truncated_normal([x_tensor.get_shape().as_list()[1], num_outputs], stddev=0.5))\n",
    "    b_fc = tf.Variable(tf.zeros(num_outputs))\n",
    "    fc = tf.add(tf.matmul(x_tensor, w_fc), b_fc)\n",
    "    fc = tf.nn.relu(fc)\n",
    "    return fc\n",
    "\n",
    "\n",
    "\"\"\"\n",
    "DON'T MODIFY ANYTHING IN THIS CELL THAT IS BELOW THIS LINE\n",
    "\"\"\"\n",
    "tests.test_fully_conn(fully_conn)"
   ]
  },
  {
   "cell_type": "markdown",
   "metadata": {
    "deletable": true,
    "editable": true
   },
   "source": [
    "### Output Layer\n",
    "Implement the `output` function to apply a fully connected layer to `x_tensor` with the shape (*Batch Size*, *num_outputs*). Shortcut option: you can use classes from the [TensorFlow Layers](https://www.tensorflow.org/api_docs/python/tf/layers) or [TensorFlow Layers (contrib)](https://www.tensorflow.org/api_guides/python/contrib.layers) packages for this layer. For more of a challenge, only use other TensorFlow packages.\n",
    "\n",
    "**Note:** Activation, softmax, or cross entropy should **not** be applied to this."
   ]
  },
  {
   "cell_type": "code",
   "execution_count": 11,
   "metadata": {
    "collapsed": false,
    "deletable": true,
    "editable": true
   },
   "outputs": [
    {
     "name": "stdout",
     "output_type": "stream",
     "text": [
      "Tests Passed\n"
     ]
    }
   ],
   "source": [
    "def output(x_tensor, num_outputs):\n",
    "    \"\"\"\n",
    "    Apply a output layer to x_tensor using weight and bias\n",
    "    : x_tensor: A 2-D tensor where the first dimension is batch size.\n",
    "    : num_outputs: The number of output that the new tensor should be.\n",
    "    : return: A 2-D tensor where the second dimension is num_outputs.\n",
    "    \"\"\"\n",
    "    # TODO: Implement Function\n",
    "    w_o = tf.Variable(tf.truncated_normal([x_tensor.get_shape().as_list()[1], num_outputs], stddev=0.5))\n",
    "    b_o = tf.Variable(tf.zeros(num_outputs))\n",
    "    output = tf.add(tf.matmul(x_tensor, w_o), b_o)\n",
    "    return output\n",
    "\n",
    "\n",
    "\"\"\"\n",
    "DON'T MODIFY ANYTHING IN THIS CELL THAT IS BELOW THIS LINE\n",
    "\"\"\"\n",
    "tests.test_output(output)"
   ]
  },
  {
   "cell_type": "markdown",
   "metadata": {
    "deletable": true,
    "editable": true
   },
   "source": [
    "### Create Convolutional Model\n",
    "Implement the function `conv_net` to create a convolutional neural network model. The function takes in a batch of images, `x`, and outputs logits.  Use the layers you created above to create this model:\n",
    "\n",
    "* Apply 1, 2, or 3 Convolution and Max Pool layers\n",
    "* Apply a Flatten Layer\n",
    "* Apply 1, 2, or 3 Fully Connected Layers\n",
    "* Apply an Output Layer\n",
    "* Return the output\n",
    "* Apply [TensorFlow's Dropout](https://www.tensorflow.org/api_docs/python/tf/nn/dropout) to one or more layers in the model using `keep_prob`. "
   ]
  },
  {
   "cell_type": "code",
   "execution_count": 139,
   "metadata": {
    "collapsed": false,
    "deletable": true,
    "editable": true
   },
   "outputs": [
    {
     "name": "stdout",
     "output_type": "stream",
     "text": [
      "Neural Network Built!\n"
     ]
    }
   ],
   "source": [
    "def conv_net(x, keep_prob):\n",
    "    \"\"\"\n",
    "    Create a convolutional neural network model\n",
    "    : x: Placeholder tensor that holds image data.\n",
    "    : keep_prob: Placeholder tensor that hold dropout keep probability.\n",
    "    : return: Tensor that represents logits\n",
    "    \"\"\"\n",
    "    # TODO: Apply 1, 2, or 3 Convolution and Max Pool layers\n",
    "    #    Play around with different number of outputs, kernel size and stride\n",
    "    # Function Definition from Above:\n",
    "    #    conv2d_maxpool(x_tensor, conv_num_outputs, conv_ksize, conv_strides, pool_ksize, pool_strides)\n",
    "    conv_1 = conv2d_maxpool(x, conv_num_outputs=16, conv_ksize=(3, 3), conv_strides=(1, 1),\n",
    "                           pool_ksize=(2, 2), pool_strides=(2, 2))\n",
    "    conv_2 = conv2d_maxpool(conv_1, conv_num_outputs=32, conv_ksize=(3, 3), conv_strides=(1, 1),\n",
    "                           pool_ksize=(2, 2), pool_strides=(2, 2))\n",
    "#     conv_3 = conv2d_maxpool(conv_2, conv_num_outputs=128, conv_ksize=(5, 5), conv_strides=(1, 1),\n",
    "#                            pool_ksize=(2, 2), pool_strides=(2, 2))\n",
    "\n",
    "    # TODO: Apply a Flatten Layer\n",
    "    # Function Definition from Above:\n",
    "    #   flatten(x_tensor)\n",
    "    fc_1 = flatten(conv_2)\n",
    "    \n",
    "\n",
    "    # TODO: Apply 1, 2, or 3 Fully Connected Layers\n",
    "    #    Play around with different number of outputs\n",
    "    # Function Definition from Above:\n",
    "    #   fully_conn(x_tensor, num_outputs)\n",
    "#     fc_1 = fully_conn(fc_1, 512)\n",
    "#     fc_1 = tf.nn.dropout(fc_1, keep_prob)\n",
    "#     fc_1 = tf.layers.dropout(fc_1, keep_prob)\n",
    "#     fc_2 = fully_conn(fc_1, 1024)\n",
    "#     fc_2 = tf.layers.dropout(fc_2, keep_prob)\n",
    "    fc_3 = fully_conn(fc_1, 512)\n",
    "#     fc_3 = tf.layers.dropout(fc_3, rate=keep_prob)\n",
    "    fc_3 = tf.nn.dropout(fc_3, keep_prob=keep_prob)\n",
    "#     tf.nn.dropout\n",
    "    \n",
    "    # TODO: Apply an Output Layer\n",
    "    #    Set this to the number of classes\n",
    "    # Function Definition from Above:\n",
    "    #   output(x_tensor, num_outputs)\n",
    "    logits = output(fc_3, 10)\n",
    "    \n",
    "    # TODO: return output\n",
    "    return logits\n",
    "\n",
    "\n",
    "\"\"\"\n",
    "DON'T MODIFY ANYTHING IN THIS CELL THAT IS BELOW THIS LINE\n",
    "\"\"\"\n",
    "\n",
    "##############################\n",
    "## Build the Neural Network ##\n",
    "##############################\n",
    "\n",
    "# Remove previous weights, bias, inputs, etc..\n",
    "tf.reset_default_graph()\n",
    "\n",
    "# Inputs\n",
    "x = neural_net_image_input((32, 32, 3))\n",
    "y = neural_net_label_input(10)\n",
    "keep_prob = neural_net_keep_prob_input()\n",
    "\n",
    "# Model\n",
    "logits = conv_net(x, keep_prob)\n",
    "\n",
    "# Name logits Tensor, so that is can be loaded from disk after training\n",
    "logits = tf.identity(logits, name='logits')\n",
    "\n",
    "# Loss and Optimizer\n",
    "cost = tf.reduce_mean(tf.nn.softmax_cross_entropy_with_logits(logits=logits, labels=y))\n",
    "optimizer = tf.train.AdamOptimizer().minimize(cost)\n",
    "\n",
    "# Accuracy\n",
    "correct_pred = tf.equal(tf.argmax(logits, 1), tf.argmax(y, 1))\n",
    "accuracy = tf.reduce_mean(tf.cast(correct_pred, tf.float32), name='accuracy')\n",
    "\n",
    "tests.test_conv_net(conv_net)"
   ]
  },
  {
   "cell_type": "markdown",
   "metadata": {
    "deletable": true,
    "editable": true
   },
   "source": [
    "## Train the Neural Network\n",
    "### Single Optimization\n",
    "Implement the function `train_neural_network` to do a single optimization.  The optimization should use `optimizer` to optimize in `session` with a `feed_dict` of the following:\n",
    "* `x` for image input\n",
    "* `y` for labels\n",
    "* `keep_prob` for keep probability for dropout\n",
    "\n",
    "This function will be called for each batch, so `tf.global_variables_initializer()` has already been called.\n",
    "\n",
    "Note: Nothing needs to be returned. This function is only optimizing the neural network."
   ]
  },
  {
   "cell_type": "code",
   "execution_count": 140,
   "metadata": {
    "collapsed": false,
    "deletable": true,
    "editable": true
   },
   "outputs": [
    {
     "name": "stdout",
     "output_type": "stream",
     "text": [
      "Tests Passed\n"
     ]
    }
   ],
   "source": [
    "def train_neural_network(session, optimizer, keep_probability, feature_batch, label_batch):\n",
    "    \"\"\"\n",
    "    Optimize the session on a batch of images and labels\n",
    "    : session: Current TensorFlow session\n",
    "    : optimizer: TensorFlow optimizer function\n",
    "    : keep_probability: keep probability\n",
    "    : feature_batch: Batch of Numpy image data\n",
    "    : label_batch: Batch of Numpy label data\n",
    "    \"\"\"\n",
    "    # TODO: Implement Function\n",
    "    session.run(optimizer, feed_dict={x: feature_batch, y: label_batch,\n",
    "                                     keep_prob: keep_probability})\n",
    "\n",
    "\n",
    "\"\"\"\n",
    "DON'T MODIFY ANYTHING IN THIS CELL THAT IS BELOW THIS LINE\n",
    "\"\"\"\n",
    "tests.test_train_nn(train_neural_network)"
   ]
  },
  {
   "cell_type": "markdown",
   "metadata": {
    "deletable": true,
    "editable": true
   },
   "source": [
    "### Show Stats\n",
    "Implement the function `print_stats` to print loss and validation accuracy.  Use the global variables `valid_features` and `valid_labels` to calculate validation accuracy.  Use a keep probability of `1.0` to calculate the loss and validation accuracy."
   ]
  },
  {
   "cell_type": "code",
   "execution_count": 141,
   "metadata": {
    "collapsed": true,
    "deletable": true,
    "editable": true
   },
   "outputs": [],
   "source": [
    "def print_stats(session, feature_batch, label_batch, cost, accuracy):\n",
    "    \"\"\"\n",
    "    Print information about loss and validation accuracy\n",
    "    : session: Current TensorFlow session\n",
    "    : feature_batch: Batch of Numpy image data\n",
    "    : label_batch: Batch of Numpy label data\n",
    "    : cost: TensorFlow cost function\n",
    "    : accuracy: TensorFlow accuracy function\n",
    "    \"\"\"\n",
    "    # TODO: Implement Function\n",
    "    feed_dict={x: feature_batch, y: label_batch, keep_prob: 1.}\n",
    "    train_cost = session.run(cost, feed_dict)\n",
    "    train_accuracy = session.run(accuracy, feed_dict)\n",
    "    feed_dict_val = {x: valid_features, y:valid_labels, keep_prob: 1.}\n",
    "    valid_accuracy = session.run(accuracy, feed_dict_val)\n",
    "    print('Cost: {:>10.4f}, Train Accuracy: {:.4f}, Validation Accuracy: {:.4f}'.format(train_cost, train_accuracy, valid_accuracy))"
   ]
  },
  {
   "cell_type": "markdown",
   "metadata": {
    "deletable": true,
    "editable": true
   },
   "source": [
    "### Hyperparameters\n",
    "Tune the following parameters:\n",
    "* Set `epochs` to the number of iterations until the network stops learning or start overfitting\n",
    "* Set `batch_size` to the highest number that your machine has memory for.  Most people set them to common sizes of memory:\n",
    " * 64\n",
    " * 128\n",
    " * 256\n",
    " * ...\n",
    "* Set `keep_probability` to the probability of keeping a node using dropout"
   ]
  },
  {
   "cell_type": "code",
   "execution_count": 142,
   "metadata": {
    "collapsed": false,
    "deletable": true,
    "editable": true
   },
   "outputs": [],
   "source": [
    "# TODO: Tune Parameters\n",
    "epochs = 100\n",
    "batch_size = 128\n",
    "keep_probability = 0.75"
   ]
  },
  {
   "cell_type": "markdown",
   "metadata": {
    "deletable": true,
    "editable": true
   },
   "source": [
    "### Train on a Single CIFAR-10 Batch\n",
    "Instead of training the neural network on all the CIFAR-10 batches of data, let's use a single batch. This should save time while you iterate on the model to get a better accuracy.  Once the final validation accuracy is 50% or greater, run the model on all the data in the next section."
   ]
  },
  {
   "cell_type": "code",
   "execution_count": 143,
   "metadata": {
    "collapsed": false,
    "deletable": true,
    "editable": true,
    "scrolled": true
   },
   "outputs": [
    {
     "name": "stdout",
     "output_type": "stream",
     "text": [
      "Checking the Training on a Single Batch...\n",
      "Epoch  1, CIFAR-10 Batch 1:  Cost:    72.5911, Train Accuracy: 0.2500, Validation Accuracy: 0.2562\n",
      "Epoch  2, CIFAR-10 Batch 1:  Cost:    34.3137, Train Accuracy: 0.3250, Validation Accuracy: 0.2758\n",
      "Epoch  3, CIFAR-10 Batch 1:  Cost:    20.7908, Train Accuracy: 0.3250, Validation Accuracy: 0.2834\n",
      "Epoch  4, CIFAR-10 Batch 1:  Cost:     9.8247, Train Accuracy: 0.3750, Validation Accuracy: 0.2590\n",
      "Epoch  5, CIFAR-10 Batch 1:  Cost:     4.5134, Train Accuracy: 0.3500, Validation Accuracy: 0.2206\n",
      "Epoch  6, CIFAR-10 Batch 1:  Cost:     2.3936, Train Accuracy: 0.2250, Validation Accuracy: 0.1868\n",
      "Epoch  7, CIFAR-10 Batch 1:  Cost:     1.9353, Train Accuracy: 0.2250, Validation Accuracy: 0.1734\n",
      "Epoch  8, CIFAR-10 Batch 1:  Cost:     1.8481, Train Accuracy: 0.2250, Validation Accuracy: 0.1678\n",
      "Epoch  9, CIFAR-10 Batch 1:  Cost:     1.9203, Train Accuracy: 0.2250, Validation Accuracy: 0.1646\n",
      "Epoch 10, CIFAR-10 Batch 1:  Cost:     1.9182, Train Accuracy: 0.2250, Validation Accuracy: 0.1734\n",
      "Epoch 11, CIFAR-10 Batch 1:  Cost:     1.9115, Train Accuracy: 0.2500, Validation Accuracy: 0.1736\n",
      "Epoch 12, CIFAR-10 Batch 1:  Cost:     1.9270, Train Accuracy: 0.2750, Validation Accuracy: 0.1866\n",
      "Epoch 13, CIFAR-10 Batch 1:  Cost:     1.9281, Train Accuracy: 0.3000, Validation Accuracy: 0.1874\n",
      "Epoch 14, CIFAR-10 Batch 1:  Cost:     1.9477, Train Accuracy: 0.3000, Validation Accuracy: 0.1992\n",
      "Epoch 15, CIFAR-10 Batch 1:  Cost:     1.9309, Train Accuracy: 0.3250, Validation Accuracy: 0.2064\n",
      "Epoch 16, CIFAR-10 Batch 1:  Cost:     1.9068, Train Accuracy: 0.3250, Validation Accuracy: 0.2052\n",
      "Epoch 17, CIFAR-10 Batch 1:  Cost:     1.9098, Train Accuracy: 0.3250, Validation Accuracy: 0.2082\n",
      "Epoch 18, CIFAR-10 Batch 1:  Cost:     1.9474, Train Accuracy: 0.3250, Validation Accuracy: 0.2138\n",
      "Epoch 19, CIFAR-10 Batch 1:  Cost:     1.8935, Train Accuracy: 0.3250, Validation Accuracy: 0.2174\n",
      "Epoch 20, CIFAR-10 Batch 1:  Cost:     1.8764, Train Accuracy: 0.3250, Validation Accuracy: 0.2186\n",
      "Epoch 21, CIFAR-10 Batch 1:  Cost:     1.8866, Train Accuracy: 0.3500, Validation Accuracy: 0.2226\n",
      "Epoch 22, CIFAR-10 Batch 1:  Cost:     1.8531, Train Accuracy: 0.3250, Validation Accuracy: 0.2228\n",
      "Epoch 23, CIFAR-10 Batch 1:  Cost:     1.8203, Train Accuracy: 0.3500, Validation Accuracy: 0.2258\n",
      "Epoch 24, CIFAR-10 Batch 1:  Cost:     1.8189, Train Accuracy: 0.3250, Validation Accuracy: 0.2344\n",
      "Epoch 25, CIFAR-10 Batch 1:  Cost:     1.8141, Train Accuracy: 0.4250, Validation Accuracy: 0.2382\n",
      "Epoch 26, CIFAR-10 Batch 1:  Cost:     1.7778, Train Accuracy: 0.4000, Validation Accuracy: 0.2412\n",
      "Epoch 27, CIFAR-10 Batch 1:  Cost:     1.7604, Train Accuracy: 0.4250, Validation Accuracy: 0.2468\n",
      "Epoch 28, CIFAR-10 Batch 1:  Cost:     1.7585, Train Accuracy: 0.3750, Validation Accuracy: 0.2482\n",
      "Epoch 29, CIFAR-10 Batch 1:  Cost:     1.7129, Train Accuracy: 0.4500, Validation Accuracy: 0.2490\n",
      "Epoch 30, CIFAR-10 Batch 1:  Cost:     1.7101, Train Accuracy: 0.4250, Validation Accuracy: 0.2632\n",
      "Epoch 31, CIFAR-10 Batch 1:  Cost:     1.6929, Train Accuracy: 0.4500, Validation Accuracy: 0.2588\n",
      "Epoch 32, CIFAR-10 Batch 1:  Cost:     1.6567, Train Accuracy: 0.5000, Validation Accuracy: 0.2640\n",
      "Epoch 33, CIFAR-10 Batch 1:  Cost:     1.6793, Train Accuracy: 0.3750, Validation Accuracy: 0.2692\n",
      "Epoch 34, CIFAR-10 Batch 1:  Cost:     1.6342, Train Accuracy: 0.4000, Validation Accuracy: 0.2760\n",
      "Epoch 35, CIFAR-10 Batch 1:  Cost:     1.6273, Train Accuracy: 0.4000, Validation Accuracy: 0.2758\n",
      "Epoch 36, CIFAR-10 Batch 1:  Cost:     1.6123, Train Accuracy: 0.4250, Validation Accuracy: 0.2802\n",
      "Epoch 37, CIFAR-10 Batch 1:  Cost:     1.5763, Train Accuracy: 0.4750, Validation Accuracy: 0.2806\n",
      "Epoch 38, CIFAR-10 Batch 1:  Cost:     1.5621, Train Accuracy: 0.4250, Validation Accuracy: 0.2856\n",
      "Epoch 39, CIFAR-10 Batch 1:  Cost:     1.5471, Train Accuracy: 0.4000, Validation Accuracy: 0.2868\n",
      "Epoch 40, CIFAR-10 Batch 1:  Cost:     1.5298, Train Accuracy: 0.4000, Validation Accuracy: 0.2772\n",
      "Epoch 41, CIFAR-10 Batch 1:  Cost:     1.5544, Train Accuracy: 0.4750, Validation Accuracy: 0.2948\n",
      "Epoch 42, CIFAR-10 Batch 1:  Cost:     1.5111, Train Accuracy: 0.4500, Validation Accuracy: 0.2990\n",
      "Epoch 43, CIFAR-10 Batch 1:  Cost:     1.4971, Train Accuracy: 0.4750, Validation Accuracy: 0.2996\n",
      "Epoch 44, CIFAR-10 Batch 1:  Cost:     1.4845, Train Accuracy: 0.4750, Validation Accuracy: 0.3006\n",
      "Epoch 45, CIFAR-10 Batch 1:  Cost:     1.4867, Train Accuracy: 0.5000, Validation Accuracy: 0.3056\n",
      "Epoch 46, CIFAR-10 Batch 1:  Cost:     1.4877, Train Accuracy: 0.5000, Validation Accuracy: 0.3128\n",
      "Epoch 47, CIFAR-10 Batch 1:  Cost:     1.4862, Train Accuracy: 0.5000, Validation Accuracy: 0.3098\n",
      "Epoch 48, CIFAR-10 Batch 1:  Cost:     1.4642, Train Accuracy: 0.4500, Validation Accuracy: 0.3212\n",
      "Epoch 49, CIFAR-10 Batch 1:  Cost:     1.4058, Train Accuracy: 0.4750, Validation Accuracy: 0.3182\n",
      "Epoch 50, CIFAR-10 Batch 1:  Cost:     1.4405, Train Accuracy: 0.4250, Validation Accuracy: 0.3216\n",
      "Epoch 51, CIFAR-10 Batch 1:  Cost:     1.4206, Train Accuracy: 0.4500, Validation Accuracy: 0.3266\n",
      "Epoch 52, CIFAR-10 Batch 1:  Cost:     1.3747, Train Accuracy: 0.4750, Validation Accuracy: 0.3302\n",
      "Epoch 53, CIFAR-10 Batch 1:  Cost:     1.3758, Train Accuracy: 0.4500, Validation Accuracy: 0.3324\n",
      "Epoch 54, CIFAR-10 Batch 1:  Cost:     1.3393, Train Accuracy: 0.5000, Validation Accuracy: 0.3330\n",
      "Epoch 55, CIFAR-10 Batch 1:  Cost:     1.3305, Train Accuracy: 0.4750, Validation Accuracy: 0.3352\n",
      "Epoch 56, CIFAR-10 Batch 1:  Cost:     1.3265, Train Accuracy: 0.5000, Validation Accuracy: 0.3430\n",
      "Epoch 57, CIFAR-10 Batch 1:  Cost:     1.2805, Train Accuracy: 0.5000, Validation Accuracy: 0.3488\n",
      "Epoch 58, CIFAR-10 Batch 1:  Cost:     1.2756, Train Accuracy: 0.5000, Validation Accuracy: 0.3472\n",
      "Epoch 59, CIFAR-10 Batch 1:  Cost:     1.2805, Train Accuracy: 0.5250, Validation Accuracy: 0.3420\n",
      "Epoch 60, CIFAR-10 Batch 1:  Cost:     1.2595, Train Accuracy: 0.5250, Validation Accuracy: 0.3444\n",
      "Epoch 61, CIFAR-10 Batch 1:  Cost:     1.2194, Train Accuracy: 0.5000, Validation Accuracy: 0.3418\n",
      "Epoch 62, CIFAR-10 Batch 1:  Cost:     1.1966, Train Accuracy: 0.5750, Validation Accuracy: 0.3518\n",
      "Epoch 63, CIFAR-10 Batch 1:  Cost:     1.1948, Train Accuracy: 0.5500, Validation Accuracy: 0.3444\n",
      "Epoch 64, CIFAR-10 Batch 1:  Cost:     1.1970, Train Accuracy: 0.5250, Validation Accuracy: 0.3570\n",
      "Epoch 65, CIFAR-10 Batch 1:  Cost:     1.1289, Train Accuracy: 0.5750, Validation Accuracy: 0.3520\n",
      "Epoch 66, CIFAR-10 Batch 1:  Cost:     1.1977, Train Accuracy: 0.5750, Validation Accuracy: 0.3668\n",
      "Epoch 67, CIFAR-10 Batch 1:  Cost:     1.1440, Train Accuracy: 0.6250, Validation Accuracy: 0.3584\n",
      "Epoch 68, CIFAR-10 Batch 1:  Cost:     1.0894, Train Accuracy: 0.6250, Validation Accuracy: 0.3670\n",
      "Epoch 69, CIFAR-10 Batch 1:  Cost:     1.1587, Train Accuracy: 0.6500, Validation Accuracy: 0.3646\n",
      "Epoch 70, CIFAR-10 Batch 1:  Cost:     1.1125, Train Accuracy: 0.6250, Validation Accuracy: 0.3636\n",
      "Epoch 71, CIFAR-10 Batch 1:  Cost:     1.1253, Train Accuracy: 0.6000, Validation Accuracy: 0.3626\n",
      "Epoch 72, CIFAR-10 Batch 1:  Cost:     1.1231, Train Accuracy: 0.6250, Validation Accuracy: 0.3658\n",
      "Epoch 73, CIFAR-10 Batch 1:  Cost:     1.0730, Train Accuracy: 0.6250, Validation Accuracy: 0.3662\n",
      "Epoch 74, CIFAR-10 Batch 1:  Cost:     1.0191, Train Accuracy: 0.6500, Validation Accuracy: 0.3706\n",
      "Epoch 75, CIFAR-10 Batch 1:  Cost:     0.9977, Train Accuracy: 0.6750, Validation Accuracy: 0.3698\n",
      "Epoch 76, CIFAR-10 Batch 1:  Cost:     0.9756, Train Accuracy: 0.6750, Validation Accuracy: 0.3738\n",
      "Epoch 77, CIFAR-10 Batch 1:  Cost:     0.9827, Train Accuracy: 0.6750, Validation Accuracy: 0.3836\n",
      "Epoch 78, CIFAR-10 Batch 1:  Cost:     0.9904, Train Accuracy: 0.6750, Validation Accuracy: 0.3828\n",
      "Epoch 79, CIFAR-10 Batch 1:  Cost:     0.9265, Train Accuracy: 0.6750, Validation Accuracy: 0.3754\n",
      "Epoch 80, CIFAR-10 Batch 1:  Cost:     0.8994, Train Accuracy: 0.6750, Validation Accuracy: 0.3764\n",
      "Epoch 81, CIFAR-10 Batch 1:  Cost:     0.9133, Train Accuracy: 0.7000, Validation Accuracy: 0.3828\n",
      "Epoch 82, CIFAR-10 Batch 1:  Cost:     0.8863, Train Accuracy: 0.7000, Validation Accuracy: 0.3928\n",
      "Epoch 83, CIFAR-10 Batch 1:  Cost:     0.9833, Train Accuracy: 0.6750, Validation Accuracy: 0.3732\n",
      "Epoch 84, CIFAR-10 Batch 1:  Cost:     0.8942, Train Accuracy: 0.7250, Validation Accuracy: 0.3830\n",
      "Epoch 85, CIFAR-10 Batch 1:  Cost:     0.8812, Train Accuracy: 0.7250, Validation Accuracy: 0.3810\n",
      "Epoch 86, CIFAR-10 Batch 1:  Cost:     0.8509, Train Accuracy: 0.7500, Validation Accuracy: 0.3824\n",
      "Epoch 87, CIFAR-10 Batch 1:  Cost:     0.8677, Train Accuracy: 0.7500, Validation Accuracy: 0.3880\n",
      "Epoch 88, CIFAR-10 Batch 1:  Cost:     0.8441, Train Accuracy: 0.6750, Validation Accuracy: 0.3874\n",
      "Epoch 89, CIFAR-10 Batch 1:  Cost:     0.8635, Train Accuracy: 0.7250, Validation Accuracy: 0.3864\n",
      "Epoch 90, CIFAR-10 Batch 1:  Cost:     0.8116, Train Accuracy: 0.7250, Validation Accuracy: 0.3908\n",
      "Epoch 91, CIFAR-10 Batch 1:  Cost:     0.7670, Train Accuracy: 0.7000, Validation Accuracy: 0.3910\n",
      "Epoch 92, CIFAR-10 Batch 1:  Cost:     0.8072, Train Accuracy: 0.7500, Validation Accuracy: 0.3962\n",
      "Epoch 93, CIFAR-10 Batch 1:  Cost:     0.7612, Train Accuracy: 0.7500, Validation Accuracy: 0.3998\n",
      "Epoch 94, CIFAR-10 Batch 1:  Cost:     0.7337, Train Accuracy: 0.7500, Validation Accuracy: 0.3956\n",
      "Epoch 95, CIFAR-10 Batch 1:  Cost:     0.7394, Train Accuracy: 0.7500, Validation Accuracy: 0.3914\n",
      "Epoch 96, CIFAR-10 Batch 1:  Cost:     0.7533, Train Accuracy: 0.7500, Validation Accuracy: 0.4038\n",
      "Epoch 97, CIFAR-10 Batch 1:  Cost:     0.7196, Train Accuracy: 0.7500, Validation Accuracy: 0.4084\n",
      "Epoch 98, CIFAR-10 Batch 1:  Cost:     0.7077, Train Accuracy: 0.7500, Validation Accuracy: 0.4012\n",
      "Epoch 99, CIFAR-10 Batch 1:  Cost:     0.7246, Train Accuracy: 0.7750, Validation Accuracy: 0.4104\n",
      "Epoch 100, CIFAR-10 Batch 1:  Cost:     0.6956, Train Accuracy: 0.7750, Validation Accuracy: 0.4104\n"
     ]
    }
   ],
   "source": [
    "\"\"\"\n",
    "DON'T MODIFY ANYTHING IN THIS CELL\n",
    "\"\"\"\n",
    "print('Checking the Training on a Single Batch...')\n",
    "with tf.Session() as sess:\n",
    "    # Initializing the variables\n",
    "    sess.run(tf.global_variables_initializer())\n",
    "    \n",
    "    # Training cycle\n",
    "    for epoch in range(epochs):\n",
    "        batch_i = 1\n",
    "        for batch_features, batch_labels in helper.load_preprocess_training_batch(batch_i, batch_size):\n",
    "            train_neural_network(sess, optimizer, keep_probability, batch_features, batch_labels)\n",
    "        print('Epoch {:>2}, CIFAR-10 Batch {}:  '.format(epoch + 1, batch_i), end='')\n",
    "        print_stats(sess, batch_features, batch_labels, cost, accuracy)"
   ]
  },
  {
   "cell_type": "markdown",
   "metadata": {
    "deletable": true,
    "editable": true
   },
   "source": [
    "### Fully Train the Model\n",
    "Now that you got a good accuracy with a single CIFAR-10 batch, try it with all five batches."
   ]
  },
  {
   "cell_type": "code",
   "execution_count": 145,
   "metadata": {
    "collapsed": false,
    "deletable": true,
    "editable": true,
    "scrolled": false
   },
   "outputs": [
    {
     "name": "stdout",
     "output_type": "stream",
     "text": [
      "Training...\n",
      "Epoch  1, CIFAR-10 Batch 1:  Cost:    53.8607, Train Accuracy: 0.1750, Validation Accuracy: 0.2546\n",
      "Epoch  1, CIFAR-10 Batch 2:  Cost:    23.4072, Train Accuracy: 0.2750, Validation Accuracy: 0.2650\n",
      "Epoch  1, CIFAR-10 Batch 3:  Cost:    12.9416, Train Accuracy: 0.3250, Validation Accuracy: 0.2600\n",
      "Epoch  1, CIFAR-10 Batch 4:  Cost:     4.9220, Train Accuracy: 0.2750, Validation Accuracy: 0.2024\n",
      "Epoch  1, CIFAR-10 Batch 5:  Cost:     2.7079, Train Accuracy: 0.1250, Validation Accuracy: 0.1302\n",
      "Epoch  2, CIFAR-10 Batch 1:  Cost:     2.5227, Train Accuracy: 0.1250, Validation Accuracy: 0.1218\n",
      "Epoch  2, CIFAR-10 Batch 2:  Cost:     3.3678, Train Accuracy: 0.0500, Validation Accuracy: 0.1078\n",
      "Epoch  2, CIFAR-10 Batch 3:  Cost:     2.3143, Train Accuracy: 0.0500, Validation Accuracy: 0.1056\n",
      "Epoch  2, CIFAR-10 Batch 4:  Cost:     2.2956, Train Accuracy: 0.1500, Validation Accuracy: 0.1042\n",
      "Epoch  2, CIFAR-10 Batch 5:  Cost:     2.3281, Train Accuracy: 0.1250, Validation Accuracy: 0.1010\n",
      "Epoch  3, CIFAR-10 Batch 1:  Cost:     2.3233, Train Accuracy: 0.1000, Validation Accuracy: 0.1008\n",
      "Epoch  3, CIFAR-10 Batch 2:  Cost:     2.8327, Train Accuracy: 0.0500, Validation Accuracy: 0.1018\n",
      "Epoch  3, CIFAR-10 Batch 3:  Cost:     2.2897, Train Accuracy: 0.0500, Validation Accuracy: 0.1032\n",
      "Epoch  3, CIFAR-10 Batch 4:  Cost:     2.2762, Train Accuracy: 0.1500, Validation Accuracy: 0.1026\n",
      "Epoch  3, CIFAR-10 Batch 5:  Cost:     2.2136, Train Accuracy: 0.1500, Validation Accuracy: 0.1072\n",
      "Epoch  4, CIFAR-10 Batch 1:  Cost:     2.2878, Train Accuracy: 0.1250, Validation Accuracy: 0.1150\n",
      "Epoch  4, CIFAR-10 Batch 2:  Cost:     2.4486, Train Accuracy: 0.0750, Validation Accuracy: 0.1230\n",
      "Epoch  4, CIFAR-10 Batch 3:  Cost:     2.2182, Train Accuracy: 0.1250, Validation Accuracy: 0.1296\n",
      "Epoch  4, CIFAR-10 Batch 4:  Cost:     2.2385, Train Accuracy: 0.1500, Validation Accuracy: 0.1336\n",
      "Epoch  4, CIFAR-10 Batch 5:  Cost:     2.2156, Train Accuracy: 0.1750, Validation Accuracy: 0.1294\n",
      "Epoch  5, CIFAR-10 Batch 1:  Cost:     2.1893, Train Accuracy: 0.1250, Validation Accuracy: 0.1498\n",
      "Epoch  5, CIFAR-10 Batch 2:  Cost:     2.2986, Train Accuracy: 0.1750, Validation Accuracy: 0.1624\n",
      "Epoch  5, CIFAR-10 Batch 3:  Cost:     2.1972, Train Accuracy: 0.1500, Validation Accuracy: 0.1788\n",
      "Epoch  5, CIFAR-10 Batch 4:  Cost:     2.1650, Train Accuracy: 0.2250, Validation Accuracy: 0.1842\n",
      "Epoch  5, CIFAR-10 Batch 5:  Cost:     2.1696, Train Accuracy: 0.1750, Validation Accuracy: 0.1924\n",
      "Epoch  6, CIFAR-10 Batch 1:  Cost:     2.3058, Train Accuracy: 0.1500, Validation Accuracy: 0.1842\n",
      "Epoch  6, CIFAR-10 Batch 2:  Cost:     2.1940, Train Accuracy: 0.1750, Validation Accuracy: 0.2048\n",
      "Epoch  6, CIFAR-10 Batch 3:  Cost:     2.1069, Train Accuracy: 0.1500, Validation Accuracy: 0.2026\n",
      "Epoch  6, CIFAR-10 Batch 4:  Cost:     2.0754, Train Accuracy: 0.2500, Validation Accuracy: 0.2138\n",
      "Epoch  6, CIFAR-10 Batch 5:  Cost:     2.1507, Train Accuracy: 0.1750, Validation Accuracy: 0.2056\n",
      "Epoch  7, CIFAR-10 Batch 1:  Cost:     2.2038, Train Accuracy: 0.1750, Validation Accuracy: 0.2052\n",
      "Epoch  7, CIFAR-10 Batch 2:  Cost:     2.1578, Train Accuracy: 0.2250, Validation Accuracy: 0.2150\n",
      "Epoch  7, CIFAR-10 Batch 3:  Cost:     2.0474, Train Accuracy: 0.1250, Validation Accuracy: 0.2206\n",
      "Epoch  7, CIFAR-10 Batch 4:  Cost:     2.0270, Train Accuracy: 0.3000, Validation Accuracy: 0.2288\n",
      "Epoch  7, CIFAR-10 Batch 5:  Cost:     2.0628, Train Accuracy: 0.2500, Validation Accuracy: 0.2278\n",
      "Epoch  8, CIFAR-10 Batch 1:  Cost:     2.1729, Train Accuracy: 0.2000, Validation Accuracy: 0.2288\n",
      "Epoch  8, CIFAR-10 Batch 2:  Cost:     2.1262, Train Accuracy: 0.2250, Validation Accuracy: 0.2322\n",
      "Epoch  8, CIFAR-10 Batch 3:  Cost:     2.0375, Train Accuracy: 0.1250, Validation Accuracy: 0.2358\n",
      "Epoch  8, CIFAR-10 Batch 4:  Cost:     1.9650, Train Accuracy: 0.3500, Validation Accuracy: 0.2466\n",
      "Epoch  8, CIFAR-10 Batch 5:  Cost:     2.0299, Train Accuracy: 0.2250, Validation Accuracy: 0.2384\n",
      "Epoch  9, CIFAR-10 Batch 1:  Cost:     2.1244, Train Accuracy: 0.2750, Validation Accuracy: 0.2402\n",
      "Epoch  9, CIFAR-10 Batch 2:  Cost:     2.0812, Train Accuracy: 0.2250, Validation Accuracy: 0.2400\n",
      "Epoch  9, CIFAR-10 Batch 3:  Cost:     2.0074, Train Accuracy: 0.1750, Validation Accuracy: 0.2412\n",
      "Epoch  9, CIFAR-10 Batch 4:  Cost:     1.9340, Train Accuracy: 0.3000, Validation Accuracy: 0.2542\n",
      "Epoch  9, CIFAR-10 Batch 5:  Cost:     2.0053, Train Accuracy: 0.2500, Validation Accuracy: 0.2572\n",
      "Epoch 10, CIFAR-10 Batch 1:  Cost:     2.1134, Train Accuracy: 0.2500, Validation Accuracy: 0.2456\n",
      "Epoch 10, CIFAR-10 Batch 2:  Cost:     2.0194, Train Accuracy: 0.2500, Validation Accuracy: 0.2578\n",
      "Epoch 10, CIFAR-10 Batch 3:  Cost:     1.9349, Train Accuracy: 0.1500, Validation Accuracy: 0.2558\n",
      "Epoch 10, CIFAR-10 Batch 4:  Cost:     1.9034, Train Accuracy: 0.3500, Validation Accuracy: 0.2562\n",
      "Epoch 10, CIFAR-10 Batch 5:  Cost:     1.9871, Train Accuracy: 0.2500, Validation Accuracy: 0.2582\n",
      "Epoch 11, CIFAR-10 Batch 1:  Cost:     2.0759, Train Accuracy: 0.2750, Validation Accuracy: 0.2584\n",
      "Epoch 11, CIFAR-10 Batch 2:  Cost:     1.9853, Train Accuracy: 0.2000, Validation Accuracy: 0.2572\n",
      "Epoch 11, CIFAR-10 Batch 3:  Cost:     1.8842, Train Accuracy: 0.2500, Validation Accuracy: 0.2636\n",
      "Epoch 11, CIFAR-10 Batch 4:  Cost:     1.8970, Train Accuracy: 0.3000, Validation Accuracy: 0.2512\n",
      "Epoch 11, CIFAR-10 Batch 5:  Cost:     1.9982, Train Accuracy: 0.2750, Validation Accuracy: 0.2632\n",
      "Epoch 12, CIFAR-10 Batch 1:  Cost:     2.0206, Train Accuracy: 0.1500, Validation Accuracy: 0.2714\n",
      "Epoch 12, CIFAR-10 Batch 2:  Cost:     1.9378, Train Accuracy: 0.2500, Validation Accuracy: 0.2716\n",
      "Epoch 12, CIFAR-10 Batch 3:  Cost:     1.8136, Train Accuracy: 0.2750, Validation Accuracy: 0.2770\n",
      "Epoch 12, CIFAR-10 Batch 4:  Cost:     1.8304, Train Accuracy: 0.3250, Validation Accuracy: 0.2854\n",
      "Epoch 12, CIFAR-10 Batch 5:  Cost:     1.9357, Train Accuracy: 0.4500, Validation Accuracy: 0.2890\n",
      "Epoch 13, CIFAR-10 Batch 1:  Cost:     1.9959, Train Accuracy: 0.3000, Validation Accuracy: 0.3086\n",
      "Epoch 13, CIFAR-10 Batch 2:  Cost:     1.8963, Train Accuracy: 0.3250, Validation Accuracy: 0.3086\n",
      "Epoch 13, CIFAR-10 Batch 3:  Cost:     1.7386, Train Accuracy: 0.2750, Validation Accuracy: 0.2874\n",
      "Epoch 13, CIFAR-10 Batch 4:  Cost:     1.8379, Train Accuracy: 0.3250, Validation Accuracy: 0.3170\n",
      "Epoch 13, CIFAR-10 Batch 5:  Cost:     1.8035, Train Accuracy: 0.4000, Validation Accuracy: 0.3044\n",
      "Epoch 14, CIFAR-10 Batch 1:  Cost:     1.9770, Train Accuracy: 0.3000, Validation Accuracy: 0.3276\n",
      "Epoch 14, CIFAR-10 Batch 2:  Cost:     1.8556, Train Accuracy: 0.4250, Validation Accuracy: 0.3158\n",
      "Epoch 14, CIFAR-10 Batch 3:  Cost:     1.6908, Train Accuracy: 0.2750, Validation Accuracy: 0.3116\n",
      "Epoch 14, CIFAR-10 Batch 4:  Cost:     1.7995, Train Accuracy: 0.3250, Validation Accuracy: 0.3320\n",
      "Epoch 14, CIFAR-10 Batch 5:  Cost:     1.7570, Train Accuracy: 0.3750, Validation Accuracy: 0.3254\n",
      "Epoch 15, CIFAR-10 Batch 1:  Cost:     1.8877, Train Accuracy: 0.3500, Validation Accuracy: 0.3406\n",
      "Epoch 15, CIFAR-10 Batch 2:  Cost:     1.8069, Train Accuracy: 0.4250, Validation Accuracy: 0.3398\n",
      "Epoch 15, CIFAR-10 Batch 3:  Cost:     1.6201, Train Accuracy: 0.3500, Validation Accuracy: 0.3268\n",
      "Epoch 15, CIFAR-10 Batch 4:  Cost:     1.7756, Train Accuracy: 0.3000, Validation Accuracy: 0.3516\n",
      "Epoch 15, CIFAR-10 Batch 5:  Cost:     1.7045, Train Accuracy: 0.4500, Validation Accuracy: 0.3584\n",
      "Epoch 16, CIFAR-10 Batch 1:  Cost:     1.8336, Train Accuracy: 0.2750, Validation Accuracy: 0.3428\n",
      "Epoch 16, CIFAR-10 Batch 2:  Cost:     1.7887, Train Accuracy: 0.3750, Validation Accuracy: 0.3526\n",
      "Epoch 16, CIFAR-10 Batch 3:  Cost:     1.5447, Train Accuracy: 0.5000, Validation Accuracy: 0.3462\n",
      "Epoch 16, CIFAR-10 Batch 4:  Cost:     1.7693, Train Accuracy: 0.3500, Validation Accuracy: 0.3636\n",
      "Epoch 16, CIFAR-10 Batch 5:  Cost:     1.6584, Train Accuracy: 0.4750, Validation Accuracy: 0.3582\n",
      "Epoch 17, CIFAR-10 Batch 1:  Cost:     1.8035, Train Accuracy: 0.3250, Validation Accuracy: 0.3564\n",
      "Epoch 17, CIFAR-10 Batch 2:  Cost:     1.7605, Train Accuracy: 0.3500, Validation Accuracy: 0.3648\n",
      "Epoch 17, CIFAR-10 Batch 3:  Cost:     1.5143, Train Accuracy: 0.5000, Validation Accuracy: 0.3622\n",
      "Epoch 17, CIFAR-10 Batch 4:  Cost:     1.7511, Train Accuracy: 0.3500, Validation Accuracy: 0.3696\n",
      "Epoch 17, CIFAR-10 Batch 5:  Cost:     1.6031, Train Accuracy: 0.4750, Validation Accuracy: 0.3606\n",
      "Epoch 18, CIFAR-10 Batch 1:  Cost:     1.7477, Train Accuracy: 0.3500, Validation Accuracy: 0.3636\n",
      "Epoch 18, CIFAR-10 Batch 2:  Cost:     1.7241, Train Accuracy: 0.3750, Validation Accuracy: 0.3778\n",
      "Epoch 18, CIFAR-10 Batch 3:  Cost:     1.4570, Train Accuracy: 0.5500, Validation Accuracy: 0.3770\n",
      "Epoch 18, CIFAR-10 Batch 4:  Cost:     1.7382, Train Accuracy: 0.3500, Validation Accuracy: 0.3714\n",
      "Epoch 18, CIFAR-10 Batch 5:  Cost:     1.5709, Train Accuracy: 0.4000, Validation Accuracy: 0.3708\n",
      "Epoch 19, CIFAR-10 Batch 1:  Cost:     1.7626, Train Accuracy: 0.3250, Validation Accuracy: 0.3774\n",
      "Epoch 19, CIFAR-10 Batch 2:  Cost:     1.6682, Train Accuracy: 0.3500, Validation Accuracy: 0.3850\n",
      "Epoch 19, CIFAR-10 Batch 3:  Cost:     1.4463, Train Accuracy: 0.4750, Validation Accuracy: 0.3844\n",
      "Epoch 19, CIFAR-10 Batch 4:  Cost:     1.6642, Train Accuracy: 0.4000, Validation Accuracy: 0.3858\n",
      "Epoch 19, CIFAR-10 Batch 5:  Cost:     1.5825, Train Accuracy: 0.3500, Validation Accuracy: 0.3808\n",
      "Epoch 20, CIFAR-10 Batch 1:  Cost:     1.7335, Train Accuracy: 0.4000, Validation Accuracy: 0.3904\n",
      "Epoch 20, CIFAR-10 Batch 2:  Cost:     1.6487, Train Accuracy: 0.4000, Validation Accuracy: 0.3982\n",
      "Epoch 20, CIFAR-10 Batch 3:  Cost:     1.4154, Train Accuracy: 0.5250, Validation Accuracy: 0.4104\n",
      "Epoch 20, CIFAR-10 Batch 4:  Cost:     1.6725, Train Accuracy: 0.3250, Validation Accuracy: 0.4048\n",
      "Epoch 20, CIFAR-10 Batch 5:  Cost:     1.5719, Train Accuracy: 0.4500, Validation Accuracy: 0.4066\n",
      "Epoch 21, CIFAR-10 Batch 1:  Cost:     1.6979, Train Accuracy: 0.4000, Validation Accuracy: 0.4070\n",
      "Epoch 21, CIFAR-10 Batch 2:  Cost:     1.5444, Train Accuracy: 0.4500, Validation Accuracy: 0.4216\n",
      "Epoch 21, CIFAR-10 Batch 3:  Cost:     1.4330, Train Accuracy: 0.5000, Validation Accuracy: 0.4206\n",
      "Epoch 21, CIFAR-10 Batch 4:  Cost:     1.6407, Train Accuracy: 0.3500, Validation Accuracy: 0.4224\n",
      "Epoch 21, CIFAR-10 Batch 5:  Cost:     1.5439, Train Accuracy: 0.4500, Validation Accuracy: 0.4250\n",
      "Epoch 22, CIFAR-10 Batch 1:  Cost:     1.7028, Train Accuracy: 0.3750, Validation Accuracy: 0.4224\n",
      "Epoch 22, CIFAR-10 Batch 2:  Cost:     1.5021, Train Accuracy: 0.4750, Validation Accuracy: 0.4316\n",
      "Epoch 22, CIFAR-10 Batch 3:  Cost:     1.4235, Train Accuracy: 0.4250, Validation Accuracy: 0.4230\n",
      "Epoch 22, CIFAR-10 Batch 4:  Cost:     1.5959, Train Accuracy: 0.3250, Validation Accuracy: 0.4388\n",
      "Epoch 22, CIFAR-10 Batch 5:  Cost:     1.5312, Train Accuracy: 0.4750, Validation Accuracy: 0.4392\n",
      "Epoch 23, CIFAR-10 Batch 1:  Cost:     1.6175, Train Accuracy: 0.3500, Validation Accuracy: 0.4324\n",
      "Epoch 23, CIFAR-10 Batch 2:  Cost:     1.4539, Train Accuracy: 0.5000, Validation Accuracy: 0.4368\n",
      "Epoch 23, CIFAR-10 Batch 3:  Cost:     1.2944, Train Accuracy: 0.4750, Validation Accuracy: 0.4456\n",
      "Epoch 23, CIFAR-10 Batch 4:  Cost:     1.5632, Train Accuracy: 0.4000, Validation Accuracy: 0.4414\n",
      "Epoch 23, CIFAR-10 Batch 5:  Cost:     1.4635, Train Accuracy: 0.4750, Validation Accuracy: 0.4502\n",
      "Epoch 24, CIFAR-10 Batch 1:  Cost:     1.6654, Train Accuracy: 0.4000, Validation Accuracy: 0.4460\n",
      "Epoch 24, CIFAR-10 Batch 2:  Cost:     1.4567, Train Accuracy: 0.5000, Validation Accuracy: 0.4460\n",
      "Epoch 24, CIFAR-10 Batch 3:  Cost:     1.3558, Train Accuracy: 0.5500, Validation Accuracy: 0.4264\n",
      "Epoch 24, CIFAR-10 Batch 4:  Cost:     1.4996, Train Accuracy: 0.4000, Validation Accuracy: 0.4476\n",
      "Epoch 24, CIFAR-10 Batch 5:  Cost:     1.4363, Train Accuracy: 0.4750, Validation Accuracy: 0.4494\n",
      "Epoch 25, CIFAR-10 Batch 1:  Cost:     1.5936, Train Accuracy: 0.4250, Validation Accuracy: 0.4600\n",
      "Epoch 25, CIFAR-10 Batch 2:  Cost:     1.4424, Train Accuracy: 0.5250, Validation Accuracy: 0.4438\n",
      "Epoch 25, CIFAR-10 Batch 3:  Cost:     1.3202, Train Accuracy: 0.5000, Validation Accuracy: 0.4476\n",
      "Epoch 25, CIFAR-10 Batch 4:  Cost:     1.4760, Train Accuracy: 0.4000, Validation Accuracy: 0.4592\n",
      "Epoch 25, CIFAR-10 Batch 5:  Cost:     1.4286, Train Accuracy: 0.4750, Validation Accuracy: 0.4578\n",
      "Epoch 26, CIFAR-10 Batch 1:  Cost:     1.5814, Train Accuracy: 0.4750, Validation Accuracy: 0.4512\n",
      "Epoch 26, CIFAR-10 Batch 2:  Cost:     1.3967, Train Accuracy: 0.5000, Validation Accuracy: 0.4468\n",
      "Epoch 26, CIFAR-10 Batch 3:  Cost:     1.2595, Train Accuracy: 0.6000, Validation Accuracy: 0.4608\n",
      "Epoch 26, CIFAR-10 Batch 4:  Cost:     1.4271, Train Accuracy: 0.4250, Validation Accuracy: 0.4640\n",
      "Epoch 26, CIFAR-10 Batch 5:  Cost:     1.3684, Train Accuracy: 0.5750, Validation Accuracy: 0.4718\n",
      "Epoch 27, CIFAR-10 Batch 1:  Cost:     1.5135, Train Accuracy: 0.4250, Validation Accuracy: 0.4596\n",
      "Epoch 27, CIFAR-10 Batch 2:  Cost:     1.3554, Train Accuracy: 0.5000, Validation Accuracy: 0.4640\n",
      "Epoch 27, CIFAR-10 Batch 3:  Cost:     1.2497, Train Accuracy: 0.5250, Validation Accuracy: 0.4562\n",
      "Epoch 27, CIFAR-10 Batch 4:  Cost:     1.4236, Train Accuracy: 0.4500, Validation Accuracy: 0.4692\n",
      "Epoch 27, CIFAR-10 Batch 5:  Cost:     1.3913, Train Accuracy: 0.4000, Validation Accuracy: 0.4696\n",
      "Epoch 28, CIFAR-10 Batch 1:  Cost:     1.5208, Train Accuracy: 0.5000, Validation Accuracy: 0.4818\n",
      "Epoch 28, CIFAR-10 Batch 2:  Cost:     1.3219, Train Accuracy: 0.5750, Validation Accuracy: 0.4698\n",
      "Epoch 28, CIFAR-10 Batch 3:  Cost:     1.2721, Train Accuracy: 0.5500, Validation Accuracy: 0.4668\n",
      "Epoch 28, CIFAR-10 Batch 4:  Cost:     1.3748, Train Accuracy: 0.4250, Validation Accuracy: 0.4802\n",
      "Epoch 28, CIFAR-10 Batch 5:  Cost:     1.3361, Train Accuracy: 0.5250, Validation Accuracy: 0.4708\n",
      "Epoch 29, CIFAR-10 Batch 1:  Cost:     1.4471, Train Accuracy: 0.4750, Validation Accuracy: 0.4868\n",
      "Epoch 29, CIFAR-10 Batch 2:  Cost:     1.3056, Train Accuracy: 0.5250, Validation Accuracy: 0.4680\n",
      "Epoch 29, CIFAR-10 Batch 3:  Cost:     1.2417, Train Accuracy: 0.5500, Validation Accuracy: 0.4848\n",
      "Epoch 29, CIFAR-10 Batch 4:  Cost:     1.3723, Train Accuracy: 0.4500, Validation Accuracy: 0.4840\n",
      "Epoch 29, CIFAR-10 Batch 5:  Cost:     1.3378, Train Accuracy: 0.5250, Validation Accuracy: 0.4872\n",
      "Epoch 30, CIFAR-10 Batch 1:  Cost:     1.4655, Train Accuracy: 0.4250, Validation Accuracy: 0.4936\n",
      "Epoch 30, CIFAR-10 Batch 2:  Cost:     1.2206, Train Accuracy: 0.5250, Validation Accuracy: 0.4912\n",
      "Epoch 30, CIFAR-10 Batch 3:  Cost:     1.1168, Train Accuracy: 0.5750, Validation Accuracy: 0.4830\n",
      "Epoch 30, CIFAR-10 Batch 4:  Cost:     1.3639, Train Accuracy: 0.4500, Validation Accuracy: 0.5004\n",
      "Epoch 30, CIFAR-10 Batch 5:  Cost:     1.2945, Train Accuracy: 0.5750, Validation Accuracy: 0.4962\n",
      "Epoch 31, CIFAR-10 Batch 1:  Cost:     1.3690, Train Accuracy: 0.5000, Validation Accuracy: 0.4936\n",
      "Epoch 31, CIFAR-10 Batch 2:  Cost:     1.2042, Train Accuracy: 0.5500, Validation Accuracy: 0.4900\n",
      "Epoch 31, CIFAR-10 Batch 3:  Cost:     1.1044, Train Accuracy: 0.5000, Validation Accuracy: 0.4946\n",
      "Epoch 31, CIFAR-10 Batch 4:  Cost:     1.3153, Train Accuracy: 0.4500, Validation Accuracy: 0.5134\n",
      "Epoch 31, CIFAR-10 Batch 5:  Cost:     1.2533, Train Accuracy: 0.5500, Validation Accuracy: 0.4984\n",
      "Epoch 32, CIFAR-10 Batch 1:  Cost:     1.3317, Train Accuracy: 0.5500, Validation Accuracy: 0.5086\n",
      "Epoch 32, CIFAR-10 Batch 2:  Cost:     1.2446, Train Accuracy: 0.5250, Validation Accuracy: 0.5004\n",
      "Epoch 32, CIFAR-10 Batch 3:  Cost:     1.1083, Train Accuracy: 0.5250, Validation Accuracy: 0.4912\n",
      "Epoch 32, CIFAR-10 Batch 4:  Cost:     1.3056, Train Accuracy: 0.4750, Validation Accuracy: 0.5154\n",
      "Epoch 32, CIFAR-10 Batch 5:  Cost:     1.2754, Train Accuracy: 0.5750, Validation Accuracy: 0.4952\n",
      "Epoch 33, CIFAR-10 Batch 1:  Cost:     1.2008, Train Accuracy: 0.6250, Validation Accuracy: 0.5094\n",
      "Epoch 33, CIFAR-10 Batch 2:  Cost:     1.1762, Train Accuracy: 0.5250, Validation Accuracy: 0.4988\n",
      "Epoch 33, CIFAR-10 Batch 3:  Cost:     1.0435, Train Accuracy: 0.6250, Validation Accuracy: 0.5164\n",
      "Epoch 33, CIFAR-10 Batch 4:  Cost:     1.3406, Train Accuracy: 0.5000, Validation Accuracy: 0.5228\n",
      "Epoch 33, CIFAR-10 Batch 5:  Cost:     1.2180, Train Accuracy: 0.6000, Validation Accuracy: 0.5022\n",
      "Epoch 34, CIFAR-10 Batch 1:  Cost:     1.2314, Train Accuracy: 0.5250, Validation Accuracy: 0.5208\n",
      "Epoch 34, CIFAR-10 Batch 2:  Cost:     1.1420, Train Accuracy: 0.5500, Validation Accuracy: 0.5218\n",
      "Epoch 34, CIFAR-10 Batch 3:  Cost:     1.0044, Train Accuracy: 0.5750, Validation Accuracy: 0.5178\n",
      "Epoch 34, CIFAR-10 Batch 4:  Cost:     1.2768, Train Accuracy: 0.4750, Validation Accuracy: 0.5330\n",
      "Epoch 34, CIFAR-10 Batch 5:  Cost:     1.1977, Train Accuracy: 0.6250, Validation Accuracy: 0.5136\n",
      "Epoch 35, CIFAR-10 Batch 1:  Cost:     1.1714, Train Accuracy: 0.5500, Validation Accuracy: 0.5256\n",
      "Epoch 35, CIFAR-10 Batch 2:  Cost:     1.0691, Train Accuracy: 0.5750, Validation Accuracy: 0.5274\n",
      "Epoch 35, CIFAR-10 Batch 3:  Cost:     0.9849, Train Accuracy: 0.6250, Validation Accuracy: 0.5236\n",
      "Epoch 35, CIFAR-10 Batch 4:  Cost:     1.2304, Train Accuracy: 0.4500, Validation Accuracy: 0.5308\n",
      "Epoch 35, CIFAR-10 Batch 5:  Cost:     1.1663, Train Accuracy: 0.6000, Validation Accuracy: 0.5166\n",
      "Epoch 36, CIFAR-10 Batch 1:  Cost:     1.1584, Train Accuracy: 0.6500, Validation Accuracy: 0.5298\n",
      "Epoch 36, CIFAR-10 Batch 2:  Cost:     1.0539, Train Accuracy: 0.5750, Validation Accuracy: 0.5270\n",
      "Epoch 36, CIFAR-10 Batch 3:  Cost:     0.9566, Train Accuracy: 0.6750, Validation Accuracy: 0.5326\n",
      "Epoch 36, CIFAR-10 Batch 4:  Cost:     1.2224, Train Accuracy: 0.5000, Validation Accuracy: 0.5432\n",
      "Epoch 36, CIFAR-10 Batch 5:  Cost:     1.1648, Train Accuracy: 0.6500, Validation Accuracy: 0.5282\n",
      "Epoch 37, CIFAR-10 Batch 1:  Cost:     1.0758, Train Accuracy: 0.6750, Validation Accuracy: 0.5416\n",
      "Epoch 37, CIFAR-10 Batch 2:  Cost:     1.0270, Train Accuracy: 0.6500, Validation Accuracy: 0.5346\n",
      "Epoch 37, CIFAR-10 Batch 3:  Cost:     0.9267, Train Accuracy: 0.7000, Validation Accuracy: 0.5394\n",
      "Epoch 37, CIFAR-10 Batch 4:  Cost:     1.1709, Train Accuracy: 0.5250, Validation Accuracy: 0.5506\n",
      "Epoch 37, CIFAR-10 Batch 5:  Cost:     1.1524, Train Accuracy: 0.5750, Validation Accuracy: 0.5142\n",
      "Epoch 38, CIFAR-10 Batch 1:  Cost:     1.0643, Train Accuracy: 0.7000, Validation Accuracy: 0.5376\n",
      "Epoch 38, CIFAR-10 Batch 2:  Cost:     1.0162, Train Accuracy: 0.6500, Validation Accuracy: 0.5338\n",
      "Epoch 38, CIFAR-10 Batch 3:  Cost:     0.8996, Train Accuracy: 0.6750, Validation Accuracy: 0.5468\n",
      "Epoch 38, CIFAR-10 Batch 4:  Cost:     1.1790, Train Accuracy: 0.4750, Validation Accuracy: 0.5506\n",
      "Epoch 38, CIFAR-10 Batch 5:  Cost:     1.1117, Train Accuracy: 0.6250, Validation Accuracy: 0.5330\n",
      "Epoch 39, CIFAR-10 Batch 1:  Cost:     1.0456, Train Accuracy: 0.6750, Validation Accuracy: 0.5386\n",
      "Epoch 39, CIFAR-10 Batch 2:  Cost:     0.9751, Train Accuracy: 0.6000, Validation Accuracy: 0.5524\n",
      "Epoch 39, CIFAR-10 Batch 3:  Cost:     0.9124, Train Accuracy: 0.7250, Validation Accuracy: 0.5530\n",
      "Epoch 39, CIFAR-10 Batch 4:  Cost:     1.1304, Train Accuracy: 0.5750, Validation Accuracy: 0.5550\n",
      "Epoch 39, CIFAR-10 Batch 5:  Cost:     1.0989, Train Accuracy: 0.6000, Validation Accuracy: 0.5418\n",
      "Epoch 40, CIFAR-10 Batch 1:  Cost:     1.0209, Train Accuracy: 0.6500, Validation Accuracy: 0.5556\n",
      "Epoch 40, CIFAR-10 Batch 2:  Cost:     0.9604, Train Accuracy: 0.6500, Validation Accuracy: 0.5546\n",
      "Epoch 40, CIFAR-10 Batch 3:  Cost:     0.9331, Train Accuracy: 0.7000, Validation Accuracy: 0.5386\n",
      "Epoch 40, CIFAR-10 Batch 4:  Cost:     1.0739, Train Accuracy: 0.6250, Validation Accuracy: 0.5542\n",
      "Epoch 40, CIFAR-10 Batch 5:  Cost:     1.0611, Train Accuracy: 0.6750, Validation Accuracy: 0.5456\n",
      "Epoch 41, CIFAR-10 Batch 1:  Cost:     1.0244, Train Accuracy: 0.6750, Validation Accuracy: 0.5390\n",
      "Epoch 41, CIFAR-10 Batch 2:  Cost:     0.9141, Train Accuracy: 0.6500, Validation Accuracy: 0.5562\n",
      "Epoch 41, CIFAR-10 Batch 3:  Cost:     0.8547, Train Accuracy: 0.7250, Validation Accuracy: 0.5560\n",
      "Epoch 41, CIFAR-10 Batch 4:  Cost:     1.0507, Train Accuracy: 0.5750, Validation Accuracy: 0.5618\n",
      "Epoch 41, CIFAR-10 Batch 5:  Cost:     1.1281, Train Accuracy: 0.6000, Validation Accuracy: 0.5536\n",
      "Epoch 42, CIFAR-10 Batch 1:  Cost:     1.0037, Train Accuracy: 0.6250, Validation Accuracy: 0.5494\n",
      "Epoch 42, CIFAR-10 Batch 2:  Cost:     0.8820, Train Accuracy: 0.7000, Validation Accuracy: 0.5594\n",
      "Epoch 42, CIFAR-10 Batch 3:  Cost:     0.8103, Train Accuracy: 0.7750, Validation Accuracy: 0.5574\n",
      "Epoch 42, CIFAR-10 Batch 4:  Cost:     1.0286, Train Accuracy: 0.5750, Validation Accuracy: 0.5680\n",
      "Epoch 42, CIFAR-10 Batch 5:  Cost:     1.0303, Train Accuracy: 0.6500, Validation Accuracy: 0.5530\n",
      "Epoch 43, CIFAR-10 Batch 1:  Cost:     0.9409, Train Accuracy: 0.6500, Validation Accuracy: 0.5582\n",
      "Epoch 43, CIFAR-10 Batch 2:  Cost:     0.8951, Train Accuracy: 0.6750, Validation Accuracy: 0.5732\n",
      "Epoch 43, CIFAR-10 Batch 3:  Cost:     0.8219, Train Accuracy: 0.7500, Validation Accuracy: 0.5602\n",
      "Epoch 43, CIFAR-10 Batch 4:  Cost:     1.0386, Train Accuracy: 0.5750, Validation Accuracy: 0.5702\n",
      "Epoch 43, CIFAR-10 Batch 5:  Cost:     1.0074, Train Accuracy: 0.7000, Validation Accuracy: 0.5702\n",
      "Epoch 44, CIFAR-10 Batch 1:  Cost:     0.9285, Train Accuracy: 0.6750, Validation Accuracy: 0.5582\n",
      "Epoch 44, CIFAR-10 Batch 2:  Cost:     0.8565, Train Accuracy: 0.6750, Validation Accuracy: 0.5724\n",
      "Epoch 44, CIFAR-10 Batch 3:  Cost:     0.8176, Train Accuracy: 0.8500, Validation Accuracy: 0.5588\n",
      "Epoch 44, CIFAR-10 Batch 4:  Cost:     1.0100, Train Accuracy: 0.6000, Validation Accuracy: 0.5734\n",
      "Epoch 44, CIFAR-10 Batch 5:  Cost:     0.9923, Train Accuracy: 0.6750, Validation Accuracy: 0.5624\n",
      "Epoch 45, CIFAR-10 Batch 1:  Cost:     0.8753, Train Accuracy: 0.7000, Validation Accuracy: 0.5562\n",
      "Epoch 45, CIFAR-10 Batch 2:  Cost:     0.8636, Train Accuracy: 0.6750, Validation Accuracy: 0.5734\n",
      "Epoch 45, CIFAR-10 Batch 3:  Cost:     0.7789, Train Accuracy: 0.7750, Validation Accuracy: 0.5728\n",
      "Epoch 45, CIFAR-10 Batch 4:  Cost:     1.0022, Train Accuracy: 0.6250, Validation Accuracy: 0.5780\n",
      "Epoch 45, CIFAR-10 Batch 5:  Cost:     0.9667, Train Accuracy: 0.6750, Validation Accuracy: 0.5764\n",
      "Epoch 46, CIFAR-10 Batch 1:  Cost:     0.8432, Train Accuracy: 0.7250, Validation Accuracy: 0.5658\n",
      "Epoch 46, CIFAR-10 Batch 2:  Cost:     0.9384, Train Accuracy: 0.6750, Validation Accuracy: 0.5778\n",
      "Epoch 46, CIFAR-10 Batch 3:  Cost:     0.7758, Train Accuracy: 0.7500, Validation Accuracy: 0.5684\n",
      "Epoch 46, CIFAR-10 Batch 4:  Cost:     0.9384, Train Accuracy: 0.6250, Validation Accuracy: 0.5796\n",
      "Epoch 46, CIFAR-10 Batch 5:  Cost:     0.9745, Train Accuracy: 0.6500, Validation Accuracy: 0.5762\n",
      "Epoch 47, CIFAR-10 Batch 1:  Cost:     0.8627, Train Accuracy: 0.6500, Validation Accuracy: 0.5696\n",
      "Epoch 47, CIFAR-10 Batch 2:  Cost:     0.8232, Train Accuracy: 0.6750, Validation Accuracy: 0.5768\n",
      "Epoch 47, CIFAR-10 Batch 3:  Cost:     0.7709, Train Accuracy: 0.7750, Validation Accuracy: 0.5700\n",
      "Epoch 47, CIFAR-10 Batch 4:  Cost:     0.9538, Train Accuracy: 0.6750, Validation Accuracy: 0.5790\n",
      "Epoch 47, CIFAR-10 Batch 5:  Cost:     0.9325, Train Accuracy: 0.6500, Validation Accuracy: 0.5788\n",
      "Epoch 48, CIFAR-10 Batch 1:  Cost:     0.8452, Train Accuracy: 0.7500, Validation Accuracy: 0.5652\n",
      "Epoch 48, CIFAR-10 Batch 2:  Cost:     0.7836, Train Accuracy: 0.7000, Validation Accuracy: 0.5704\n",
      "Epoch 48, CIFAR-10 Batch 3:  Cost:     0.7354, Train Accuracy: 0.7750, Validation Accuracy: 0.5764\n",
      "Epoch 48, CIFAR-10 Batch 4:  Cost:     0.9057, Train Accuracy: 0.6250, Validation Accuracy: 0.5832\n",
      "Epoch 48, CIFAR-10 Batch 5:  Cost:     0.9003, Train Accuracy: 0.7000, Validation Accuracy: 0.5822\n",
      "Epoch 49, CIFAR-10 Batch 1:  Cost:     0.8024, Train Accuracy: 0.7500, Validation Accuracy: 0.5748\n",
      "Epoch 49, CIFAR-10 Batch 2:  Cost:     0.7564, Train Accuracy: 0.6750, Validation Accuracy: 0.5890\n",
      "Epoch 49, CIFAR-10 Batch 3:  Cost:     0.8037, Train Accuracy: 0.7250, Validation Accuracy: 0.5700\n",
      "Epoch 49, CIFAR-10 Batch 4:  Cost:     0.9075, Train Accuracy: 0.6750, Validation Accuracy: 0.5742\n",
      "Epoch 49, CIFAR-10 Batch 5:  Cost:     0.8985, Train Accuracy: 0.7000, Validation Accuracy: 0.5936\n",
      "Epoch 50, CIFAR-10 Batch 1:  Cost:     0.7524, Train Accuracy: 0.7250, Validation Accuracy: 0.5812\n",
      "Epoch 50, CIFAR-10 Batch 2:  Cost:     0.7603, Train Accuracy: 0.7000, Validation Accuracy: 0.5852\n",
      "Epoch 50, CIFAR-10 Batch 3:  Cost:     0.7114, Train Accuracy: 0.7750, Validation Accuracy: 0.5800\n",
      "Epoch 50, CIFAR-10 Batch 4:  Cost:     0.8913, Train Accuracy: 0.6500, Validation Accuracy: 0.5858\n",
      "Epoch 50, CIFAR-10 Batch 5:  Cost:     0.8946, Train Accuracy: 0.7000, Validation Accuracy: 0.5906\n",
      "Epoch 51, CIFAR-10 Batch 1:  Cost:     0.9282, Train Accuracy: 0.7000, Validation Accuracy: 0.5840\n",
      "Epoch 51, CIFAR-10 Batch 2:  Cost:     0.7259, Train Accuracy: 0.7500, Validation Accuracy: 0.5898\n",
      "Epoch 51, CIFAR-10 Batch 3:  Cost:     0.6815, Train Accuracy: 0.8250, Validation Accuracy: 0.5840\n",
      "Epoch 51, CIFAR-10 Batch 4:  Cost:     0.8327, Train Accuracy: 0.6250, Validation Accuracy: 0.5972\n",
      "Epoch 51, CIFAR-10 Batch 5:  Cost:     0.8909, Train Accuracy: 0.7250, Validation Accuracy: 0.5956\n",
      "Epoch 52, CIFAR-10 Batch 1:  Cost:     0.7269, Train Accuracy: 0.7750, Validation Accuracy: 0.5810\n",
      "Epoch 52, CIFAR-10 Batch 2:  Cost:     0.7119, Train Accuracy: 0.7250, Validation Accuracy: 0.5854\n",
      "Epoch 52, CIFAR-10 Batch 3:  Cost:     0.7104, Train Accuracy: 0.8000, Validation Accuracy: 0.5790\n",
      "Epoch 52, CIFAR-10 Batch 4:  Cost:     0.8281, Train Accuracy: 0.6500, Validation Accuracy: 0.5996\n",
      "Epoch 52, CIFAR-10 Batch 5:  Cost:     0.8718, Train Accuracy: 0.7250, Validation Accuracy: 0.5916\n",
      "Epoch 53, CIFAR-10 Batch 1:  Cost:     0.7640, Train Accuracy: 0.7000, Validation Accuracy: 0.5884\n",
      "Epoch 53, CIFAR-10 Batch 2:  Cost:     0.7207, Train Accuracy: 0.7250, Validation Accuracy: 0.5894\n",
      "Epoch 53, CIFAR-10 Batch 3:  Cost:     0.7045, Train Accuracy: 0.8250, Validation Accuracy: 0.5778\n",
      "Epoch 53, CIFAR-10 Batch 4:  Cost:     0.8253, Train Accuracy: 0.7250, Validation Accuracy: 0.5928\n",
      "Epoch 53, CIFAR-10 Batch 5:  Cost:     0.8902, Train Accuracy: 0.7000, Validation Accuracy: 0.5992\n",
      "Epoch 54, CIFAR-10 Batch 1:  Cost:     0.7237, Train Accuracy: 0.7750, Validation Accuracy: 0.5792\n",
      "Epoch 54, CIFAR-10 Batch 2:  Cost:     0.6785, Train Accuracy: 0.7000, Validation Accuracy: 0.5982\n",
      "Epoch 54, CIFAR-10 Batch 3:  Cost:     0.7045, Train Accuracy: 0.7750, Validation Accuracy: 0.5930\n",
      "Epoch 54, CIFAR-10 Batch 4:  Cost:     0.8089, Train Accuracy: 0.7000, Validation Accuracy: 0.6002\n",
      "Epoch 54, CIFAR-10 Batch 5:  Cost:     0.8326, Train Accuracy: 0.6750, Validation Accuracy: 0.5980\n",
      "Epoch 55, CIFAR-10 Batch 1:  Cost:     0.7005, Train Accuracy: 0.7500, Validation Accuracy: 0.5880\n",
      "Epoch 55, CIFAR-10 Batch 2:  Cost:     0.6702, Train Accuracy: 0.7500, Validation Accuracy: 0.6016\n",
      "Epoch 55, CIFAR-10 Batch 3:  Cost:     0.6423, Train Accuracy: 0.8250, Validation Accuracy: 0.5918\n",
      "Epoch 55, CIFAR-10 Batch 4:  Cost:     0.8064, Train Accuracy: 0.7250, Validation Accuracy: 0.5930\n",
      "Epoch 55, CIFAR-10 Batch 5:  Cost:     0.8560, Train Accuracy: 0.7500, Validation Accuracy: 0.6034\n",
      "Epoch 56, CIFAR-10 Batch 1:  Cost:     0.7201, Train Accuracy: 0.7750, Validation Accuracy: 0.5818\n",
      "Epoch 56, CIFAR-10 Batch 2:  Cost:     0.6391, Train Accuracy: 0.7250, Validation Accuracy: 0.5984\n",
      "Epoch 56, CIFAR-10 Batch 3:  Cost:     0.6701, Train Accuracy: 0.8250, Validation Accuracy: 0.5894\n",
      "Epoch 56, CIFAR-10 Batch 4:  Cost:     0.7615, Train Accuracy: 0.6750, Validation Accuracy: 0.6026\n",
      "Epoch 56, CIFAR-10 Batch 5:  Cost:     0.8603, Train Accuracy: 0.7500, Validation Accuracy: 0.6022\n",
      "Epoch 57, CIFAR-10 Batch 1:  Cost:     0.6925, Train Accuracy: 0.7750, Validation Accuracy: 0.5846\n",
      "Epoch 57, CIFAR-10 Batch 2:  Cost:     0.6432, Train Accuracy: 0.7750, Validation Accuracy: 0.6026\n",
      "Epoch 57, CIFAR-10 Batch 3:  Cost:     0.6608, Train Accuracy: 0.8750, Validation Accuracy: 0.5824\n",
      "Epoch 57, CIFAR-10 Batch 4:  Cost:     0.7645, Train Accuracy: 0.7000, Validation Accuracy: 0.5958\n",
      "Epoch 57, CIFAR-10 Batch 5:  Cost:     0.8189, Train Accuracy: 0.7000, Validation Accuracy: 0.6002\n",
      "Epoch 58, CIFAR-10 Batch 1:  Cost:     0.6625, Train Accuracy: 0.7750, Validation Accuracy: 0.5872\n",
      "Epoch 58, CIFAR-10 Batch 2:  Cost:     0.6259, Train Accuracy: 0.8000, Validation Accuracy: 0.6072\n",
      "Epoch 58, CIFAR-10 Batch 3:  Cost:     0.6157, Train Accuracy: 0.8500, Validation Accuracy: 0.5956\n",
      "Epoch 58, CIFAR-10 Batch 4:  Cost:     0.7656, Train Accuracy: 0.6750, Validation Accuracy: 0.5944\n",
      "Epoch 58, CIFAR-10 Batch 5:  Cost:     0.7923, Train Accuracy: 0.7750, Validation Accuracy: 0.6018\n",
      "Epoch 59, CIFAR-10 Batch 1:  Cost:     0.6652, Train Accuracy: 0.7750, Validation Accuracy: 0.5940\n",
      "Epoch 59, CIFAR-10 Batch 2:  Cost:     0.5731, Train Accuracy: 0.8750, Validation Accuracy: 0.6038\n",
      "Epoch 59, CIFAR-10 Batch 3:  Cost:     0.5892, Train Accuracy: 0.8250, Validation Accuracy: 0.5952\n",
      "Epoch 59, CIFAR-10 Batch 4:  Cost:     0.7183, Train Accuracy: 0.7500, Validation Accuracy: 0.6016\n",
      "Epoch 59, CIFAR-10 Batch 5:  Cost:     0.7975, Train Accuracy: 0.7000, Validation Accuracy: 0.6096\n",
      "Epoch 60, CIFAR-10 Batch 1:  Cost:     0.6370, Train Accuracy: 0.7500, Validation Accuracy: 0.6000\n",
      "Epoch 60, CIFAR-10 Batch 2:  Cost:     0.5719, Train Accuracy: 0.8250, Validation Accuracy: 0.6118\n",
      "Epoch 60, CIFAR-10 Batch 3:  Cost:     0.5479, Train Accuracy: 0.8500, Validation Accuracy: 0.5992\n",
      "Epoch 60, CIFAR-10 Batch 4:  Cost:     0.6557, Train Accuracy: 0.7750, Validation Accuracy: 0.6046\n",
      "Epoch 60, CIFAR-10 Batch 5:  Cost:     0.7804, Train Accuracy: 0.7500, Validation Accuracy: 0.6112\n",
      "Epoch 61, CIFAR-10 Batch 1:  Cost:     0.6581, Train Accuracy: 0.7750, Validation Accuracy: 0.5940\n",
      "Epoch 61, CIFAR-10 Batch 2:  Cost:     0.5848, Train Accuracy: 0.8250, Validation Accuracy: 0.6084\n",
      "Epoch 61, CIFAR-10 Batch 3:  Cost:     0.5331, Train Accuracy: 0.8500, Validation Accuracy: 0.6098\n",
      "Epoch 61, CIFAR-10 Batch 4:  Cost:     0.6720, Train Accuracy: 0.7500, Validation Accuracy: 0.6074\n",
      "Epoch 61, CIFAR-10 Batch 5:  Cost:     0.7314, Train Accuracy: 0.7750, Validation Accuracy: 0.6114\n",
      "Epoch 62, CIFAR-10 Batch 1:  Cost:     0.6127, Train Accuracy: 0.7500, Validation Accuracy: 0.5878\n",
      "Epoch 62, CIFAR-10 Batch 2:  Cost:     0.5549, Train Accuracy: 0.8000, Validation Accuracy: 0.6102\n",
      "Epoch 62, CIFAR-10 Batch 3:  Cost:     0.5380, Train Accuracy: 0.8500, Validation Accuracy: 0.6080\n",
      "Epoch 62, CIFAR-10 Batch 4:  Cost:     0.6579, Train Accuracy: 0.7750, Validation Accuracy: 0.6098\n",
      "Epoch 62, CIFAR-10 Batch 5:  Cost:     0.7396, Train Accuracy: 0.7750, Validation Accuracy: 0.6024\n",
      "Epoch 63, CIFAR-10 Batch 1:  Cost:     0.6151, Train Accuracy: 0.7500, Validation Accuracy: 0.5994\n",
      "Epoch 63, CIFAR-10 Batch 2:  Cost:     0.5450, Train Accuracy: 0.8250, Validation Accuracy: 0.6104\n",
      "Epoch 63, CIFAR-10 Batch 3:  Cost:     0.5472, Train Accuracy: 0.8500, Validation Accuracy: 0.6046\n",
      "Epoch 63, CIFAR-10 Batch 4:  Cost:     0.6585, Train Accuracy: 0.7500, Validation Accuracy: 0.6058\n",
      "Epoch 63, CIFAR-10 Batch 5:  Cost:     0.7648, Train Accuracy: 0.7250, Validation Accuracy: 0.6030\n",
      "Epoch 64, CIFAR-10 Batch 1:  Cost:     0.5940, Train Accuracy: 0.8000, Validation Accuracy: 0.6008\n",
      "Epoch 64, CIFAR-10 Batch 2:  Cost:     0.5301, Train Accuracy: 0.8250, Validation Accuracy: 0.6134\n",
      "Epoch 64, CIFAR-10 Batch 3:  Cost:     0.5677, Train Accuracy: 0.8500, Validation Accuracy: 0.5980\n",
      "Epoch 64, CIFAR-10 Batch 4:  Cost:     0.6284, Train Accuracy: 0.7250, Validation Accuracy: 0.6144\n",
      "Epoch 64, CIFAR-10 Batch 5:  Cost:     0.7088, Train Accuracy: 0.8000, Validation Accuracy: 0.6126\n",
      "Epoch 65, CIFAR-10 Batch 1:  Cost:     0.5996, Train Accuracy: 0.8000, Validation Accuracy: 0.5978\n",
      "Epoch 65, CIFAR-10 Batch 2:  Cost:     0.5558, Train Accuracy: 0.8250, Validation Accuracy: 0.6124\n",
      "Epoch 65, CIFAR-10 Batch 3:  Cost:     0.5673, Train Accuracy: 0.8250, Validation Accuracy: 0.6048\n",
      "Epoch 65, CIFAR-10 Batch 4:  Cost:     0.6206, Train Accuracy: 0.8250, Validation Accuracy: 0.6110\n",
      "Epoch 65, CIFAR-10 Batch 5:  Cost:     0.7294, Train Accuracy: 0.7750, Validation Accuracy: 0.6018\n",
      "Epoch 66, CIFAR-10 Batch 1:  Cost:     0.5782, Train Accuracy: 0.8000, Validation Accuracy: 0.5996\n",
      "Epoch 66, CIFAR-10 Batch 2:  Cost:     0.5608, Train Accuracy: 0.8000, Validation Accuracy: 0.6112\n",
      "Epoch 66, CIFAR-10 Batch 3:  Cost:     0.5426, Train Accuracy: 0.9000, Validation Accuracy: 0.6054\n",
      "Epoch 66, CIFAR-10 Batch 4:  Cost:     0.6271, Train Accuracy: 0.7500, Validation Accuracy: 0.6084\n",
      "Epoch 66, CIFAR-10 Batch 5:  Cost:     0.6882, Train Accuracy: 0.8000, Validation Accuracy: 0.6100\n",
      "Epoch 67, CIFAR-10 Batch 1:  Cost:     0.5574, Train Accuracy: 0.8000, Validation Accuracy: 0.6060\n",
      "Epoch 67, CIFAR-10 Batch 2:  Cost:     0.5370, Train Accuracy: 0.8250, Validation Accuracy: 0.6112\n",
      "Epoch 67, CIFAR-10 Batch 3:  Cost:     0.5512, Train Accuracy: 0.8500, Validation Accuracy: 0.6028\n",
      "Epoch 67, CIFAR-10 Batch 4:  Cost:     0.6013, Train Accuracy: 0.7750, Validation Accuracy: 0.6104\n",
      "Epoch 67, CIFAR-10 Batch 5:  Cost:     0.6684, Train Accuracy: 0.8250, Validation Accuracy: 0.6142\n",
      "Epoch 68, CIFAR-10 Batch 1:  Cost:     0.5624, Train Accuracy: 0.8000, Validation Accuracy: 0.6072\n",
      "Epoch 68, CIFAR-10 Batch 2:  Cost:     0.5146, Train Accuracy: 0.8250, Validation Accuracy: 0.6138\n",
      "Epoch 68, CIFAR-10 Batch 3:  Cost:     0.5371, Train Accuracy: 0.8500, Validation Accuracy: 0.5998\n",
      "Epoch 68, CIFAR-10 Batch 4:  Cost:     0.5959, Train Accuracy: 0.7750, Validation Accuracy: 0.6186\n",
      "Epoch 68, CIFAR-10 Batch 5:  Cost:     0.6559, Train Accuracy: 0.8500, Validation Accuracy: 0.6148\n",
      "Epoch 69, CIFAR-10 Batch 1:  Cost:     0.5525, Train Accuracy: 0.8500, Validation Accuracy: 0.6056\n",
      "Epoch 69, CIFAR-10 Batch 2:  Cost:     0.4899, Train Accuracy: 0.8500, Validation Accuracy: 0.6162\n",
      "Epoch 69, CIFAR-10 Batch 3:  Cost:     0.5124, Train Accuracy: 0.8750, Validation Accuracy: 0.6036\n",
      "Epoch 69, CIFAR-10 Batch 4:  Cost:     0.5938, Train Accuracy: 0.7750, Validation Accuracy: 0.6148\n",
      "Epoch 69, CIFAR-10 Batch 5:  Cost:     0.6451, Train Accuracy: 0.8750, Validation Accuracy: 0.6152\n",
      "Epoch 70, CIFAR-10 Batch 1:  Cost:     0.5930, Train Accuracy: 0.8000, Validation Accuracy: 0.5994\n",
      "Epoch 70, CIFAR-10 Batch 2:  Cost:     0.4976, Train Accuracy: 0.8750, Validation Accuracy: 0.6034\n",
      "Epoch 70, CIFAR-10 Batch 3:  Cost:     0.5011, Train Accuracy: 0.8500, Validation Accuracy: 0.6130\n",
      "Epoch 70, CIFAR-10 Batch 4:  Cost:     0.5750, Train Accuracy: 0.8000, Validation Accuracy: 0.6162\n",
      "Epoch 70, CIFAR-10 Batch 5:  Cost:     0.6240, Train Accuracy: 0.8750, Validation Accuracy: 0.6166\n",
      "Epoch 71, CIFAR-10 Batch 1:  Cost:     0.5498, Train Accuracy: 0.8000, Validation Accuracy: 0.5986\n",
      "Epoch 71, CIFAR-10 Batch 2:  Cost:     0.4786, Train Accuracy: 0.8750, Validation Accuracy: 0.6186\n",
      "Epoch 71, CIFAR-10 Batch 3:  Cost:     0.5054, Train Accuracy: 0.8250, Validation Accuracy: 0.6120\n",
      "Epoch 71, CIFAR-10 Batch 4:  Cost:     0.5900, Train Accuracy: 0.8000, Validation Accuracy: 0.6186\n",
      "Epoch 71, CIFAR-10 Batch 5:  Cost:     0.6256, Train Accuracy: 0.8250, Validation Accuracy: 0.6118\n",
      "Epoch 72, CIFAR-10 Batch 1:  Cost:     0.5481, Train Accuracy: 0.8000, Validation Accuracy: 0.6026\n",
      "Epoch 72, CIFAR-10 Batch 2:  Cost:     0.4764, Train Accuracy: 0.9000, Validation Accuracy: 0.6148\n",
      "Epoch 72, CIFAR-10 Batch 3:  Cost:     0.4982, Train Accuracy: 0.8500, Validation Accuracy: 0.6140\n",
      "Epoch 72, CIFAR-10 Batch 4:  Cost:     0.5919, Train Accuracy: 0.8250, Validation Accuracy: 0.6178\n",
      "Epoch 72, CIFAR-10 Batch 5:  Cost:     0.6048, Train Accuracy: 0.8250, Validation Accuracy: 0.6154\n",
      "Epoch 73, CIFAR-10 Batch 1:  Cost:     0.5217, Train Accuracy: 0.8250, Validation Accuracy: 0.6042\n",
      "Epoch 73, CIFAR-10 Batch 2:  Cost:     0.4783, Train Accuracy: 0.8500, Validation Accuracy: 0.6124\n",
      "Epoch 73, CIFAR-10 Batch 3:  Cost:     0.4608, Train Accuracy: 0.8500, Validation Accuracy: 0.6170\n",
      "Epoch 73, CIFAR-10 Batch 4:  Cost:     0.5498, Train Accuracy: 0.8000, Validation Accuracy: 0.6104\n",
      "Epoch 73, CIFAR-10 Batch 5:  Cost:     0.6188, Train Accuracy: 0.8750, Validation Accuracy: 0.6144\n",
      "Epoch 74, CIFAR-10 Batch 1:  Cost:     0.5444, Train Accuracy: 0.8000, Validation Accuracy: 0.5908\n",
      "Epoch 74, CIFAR-10 Batch 2:  Cost:     0.4576, Train Accuracy: 0.8750, Validation Accuracy: 0.6072\n",
      "Epoch 74, CIFAR-10 Batch 3:  Cost:     0.4590, Train Accuracy: 0.8500, Validation Accuracy: 0.6212\n",
      "Epoch 74, CIFAR-10 Batch 4:  Cost:     0.5603, Train Accuracy: 0.8000, Validation Accuracy: 0.6206\n",
      "Epoch 74, CIFAR-10 Batch 5:  Cost:     0.6048, Train Accuracy: 0.8000, Validation Accuracy: 0.6164\n",
      "Epoch 75, CIFAR-10 Batch 1:  Cost:     0.5322, Train Accuracy: 0.8250, Validation Accuracy: 0.5908\n",
      "Epoch 75, CIFAR-10 Batch 2:  Cost:     0.4584, Train Accuracy: 0.8500, Validation Accuracy: 0.6094\n",
      "Epoch 75, CIFAR-10 Batch 3:  Cost:     0.4622, Train Accuracy: 0.8500, Validation Accuracy: 0.6182\n",
      "Epoch 75, CIFAR-10 Batch 4:  Cost:     0.5560, Train Accuracy: 0.8250, Validation Accuracy: 0.6168\n",
      "Epoch 75, CIFAR-10 Batch 5:  Cost:     0.5852, Train Accuracy: 0.8250, Validation Accuracy: 0.6108\n",
      "Epoch 76, CIFAR-10 Batch 1:  Cost:     0.5172, Train Accuracy: 0.8000, Validation Accuracy: 0.6010\n",
      "Epoch 76, CIFAR-10 Batch 2:  Cost:     0.4681, Train Accuracy: 0.8750, Validation Accuracy: 0.6056\n",
      "Epoch 76, CIFAR-10 Batch 3:  Cost:     0.4686, Train Accuracy: 0.8750, Validation Accuracy: 0.6194\n",
      "Epoch 76, CIFAR-10 Batch 4:  Cost:     0.5281, Train Accuracy: 0.8250, Validation Accuracy: 0.6148\n",
      "Epoch 76, CIFAR-10 Batch 5:  Cost:     0.5722, Train Accuracy: 0.8250, Validation Accuracy: 0.6126\n",
      "Epoch 77, CIFAR-10 Batch 1:  Cost:     0.5253, Train Accuracy: 0.8000, Validation Accuracy: 0.5974\n",
      "Epoch 77, CIFAR-10 Batch 2:  Cost:     0.4435, Train Accuracy: 0.8750, Validation Accuracy: 0.6102\n",
      "Epoch 77, CIFAR-10 Batch 3:  Cost:     0.4638, Train Accuracy: 0.8500, Validation Accuracy: 0.6170\n",
      "Epoch 77, CIFAR-10 Batch 4:  Cost:     0.5351, Train Accuracy: 0.8500, Validation Accuracy: 0.6162\n",
      "Epoch 77, CIFAR-10 Batch 5:  Cost:     0.5917, Train Accuracy: 0.8000, Validation Accuracy: 0.6154\n",
      "Epoch 78, CIFAR-10 Batch 1:  Cost:     0.5209, Train Accuracy: 0.8250, Validation Accuracy: 0.6002\n",
      "Epoch 78, CIFAR-10 Batch 2:  Cost:     0.4321, Train Accuracy: 0.8750, Validation Accuracy: 0.6218\n",
      "Epoch 78, CIFAR-10 Batch 3:  Cost:     0.4563, Train Accuracy: 0.8500, Validation Accuracy: 0.6152\n",
      "Epoch 78, CIFAR-10 Batch 4:  Cost:     0.5229, Train Accuracy: 0.8250, Validation Accuracy: 0.6162\n",
      "Epoch 78, CIFAR-10 Batch 5:  Cost:     0.5699, Train Accuracy: 0.8000, Validation Accuracy: 0.6200\n",
      "Epoch 79, CIFAR-10 Batch 1:  Cost:     0.5001, Train Accuracy: 0.8500, Validation Accuracy: 0.6072\n",
      "Epoch 79, CIFAR-10 Batch 2:  Cost:     0.4495, Train Accuracy: 0.8500, Validation Accuracy: 0.6154\n",
      "Epoch 79, CIFAR-10 Batch 3:  Cost:     0.4433, Train Accuracy: 0.9000, Validation Accuracy: 0.6238\n",
      "Epoch 79, CIFAR-10 Batch 4:  Cost:     0.4881, Train Accuracy: 0.8250, Validation Accuracy: 0.6172\n",
      "Epoch 79, CIFAR-10 Batch 5:  Cost:     0.5484, Train Accuracy: 0.8500, Validation Accuracy: 0.6132\n",
      "Epoch 80, CIFAR-10 Batch 1:  Cost:     0.5218, Train Accuracy: 0.8500, Validation Accuracy: 0.5988\n",
      "Epoch 80, CIFAR-10 Batch 2:  Cost:     0.4616, Train Accuracy: 0.8500, Validation Accuracy: 0.6182\n",
      "Epoch 80, CIFAR-10 Batch 3:  Cost:     0.4219, Train Accuracy: 0.8750, Validation Accuracy: 0.6218\n",
      "Epoch 80, CIFAR-10 Batch 4:  Cost:     0.5355, Train Accuracy: 0.7750, Validation Accuracy: 0.6134\n",
      "Epoch 80, CIFAR-10 Batch 5:  Cost:     0.5625, Train Accuracy: 0.8500, Validation Accuracy: 0.6214\n",
      "Epoch 81, CIFAR-10 Batch 1:  Cost:     0.4977, Train Accuracy: 0.8500, Validation Accuracy: 0.5914\n",
      "Epoch 81, CIFAR-10 Batch 2:  Cost:     0.4284, Train Accuracy: 0.8750, Validation Accuracy: 0.6218\n",
      "Epoch 81, CIFAR-10 Batch 3:  Cost:     0.4326, Train Accuracy: 0.8500, Validation Accuracy: 0.6228\n",
      "Epoch 81, CIFAR-10 Batch 4:  Cost:     0.4891, Train Accuracy: 0.8500, Validation Accuracy: 0.6220\n",
      "Epoch 81, CIFAR-10 Batch 5:  Cost:     0.5302, Train Accuracy: 0.8500, Validation Accuracy: 0.6212\n",
      "Epoch 82, CIFAR-10 Batch 1:  Cost:     0.4853, Train Accuracy: 0.8250, Validation Accuracy: 0.6078\n",
      "Epoch 82, CIFAR-10 Batch 2:  Cost:     0.4163, Train Accuracy: 0.8750, Validation Accuracy: 0.6222\n",
      "Epoch 82, CIFAR-10 Batch 3:  Cost:     0.4347, Train Accuracy: 0.8750, Validation Accuracy: 0.6166\n",
      "Epoch 82, CIFAR-10 Batch 4:  Cost:     0.4747, Train Accuracy: 0.8500, Validation Accuracy: 0.6200\n",
      "Epoch 82, CIFAR-10 Batch 5:  Cost:     0.5711, Train Accuracy: 0.8000, Validation Accuracy: 0.6192\n",
      "Epoch 83, CIFAR-10 Batch 1:  Cost:     0.4974, Train Accuracy: 0.8500, Validation Accuracy: 0.5918\n",
      "Epoch 83, CIFAR-10 Batch 2:  Cost:     0.4195, Train Accuracy: 0.9000, Validation Accuracy: 0.6184\n",
      "Epoch 83, CIFAR-10 Batch 3:  Cost:     0.3898, Train Accuracy: 0.8750, Validation Accuracy: 0.6152\n",
      "Epoch 83, CIFAR-10 Batch 4:  Cost:     0.4829, Train Accuracy: 0.8250, Validation Accuracy: 0.6180\n",
      "Epoch 83, CIFAR-10 Batch 5:  Cost:     0.5453, Train Accuracy: 0.8500, Validation Accuracy: 0.6174\n",
      "Epoch 84, CIFAR-10 Batch 1:  Cost:     0.4856, Train Accuracy: 0.8250, Validation Accuracy: 0.5902\n",
      "Epoch 84, CIFAR-10 Batch 2:  Cost:     0.4065, Train Accuracy: 0.8500, Validation Accuracy: 0.6184\n",
      "Epoch 84, CIFAR-10 Batch 3:  Cost:     0.3859, Train Accuracy: 0.9000, Validation Accuracy: 0.6154\n",
      "Epoch 84, CIFAR-10 Batch 4:  Cost:     0.4652, Train Accuracy: 0.8250, Validation Accuracy: 0.6132\n",
      "Epoch 84, CIFAR-10 Batch 5:  Cost:     0.5178, Train Accuracy: 0.8500, Validation Accuracy: 0.6146\n",
      "Epoch 85, CIFAR-10 Batch 1:  Cost:     0.4737, Train Accuracy: 0.8500, Validation Accuracy: 0.6062\n",
      "Epoch 85, CIFAR-10 Batch 2:  Cost:     0.4076, Train Accuracy: 0.8750, Validation Accuracy: 0.6142\n",
      "Epoch 85, CIFAR-10 Batch 3:  Cost:     0.4023, Train Accuracy: 0.8500, Validation Accuracy: 0.6174\n",
      "Epoch 85, CIFAR-10 Batch 4:  Cost:     0.4608, Train Accuracy: 0.8750, Validation Accuracy: 0.6090\n",
      "Epoch 85, CIFAR-10 Batch 5:  Cost:     0.5367, Train Accuracy: 0.8500, Validation Accuracy: 0.6186\n",
      "Epoch 86, CIFAR-10 Batch 1:  Cost:     0.4770, Train Accuracy: 0.8250, Validation Accuracy: 0.6096\n",
      "Epoch 86, CIFAR-10 Batch 2:  Cost:     0.4009, Train Accuracy: 0.8750, Validation Accuracy: 0.6202\n",
      "Epoch 86, CIFAR-10 Batch 3:  Cost:     0.3865, Train Accuracy: 0.9000, Validation Accuracy: 0.6200\n",
      "Epoch 86, CIFAR-10 Batch 4:  Cost:     0.4280, Train Accuracy: 0.8250, Validation Accuracy: 0.6124\n",
      "Epoch 86, CIFAR-10 Batch 5:  Cost:     0.4934, Train Accuracy: 0.8500, Validation Accuracy: 0.6172\n",
      "Epoch 87, CIFAR-10 Batch 1:  Cost:     0.4768, Train Accuracy: 0.8250, Validation Accuracy: 0.6072\n",
      "Epoch 87, CIFAR-10 Batch 2:  Cost:     0.3918, Train Accuracy: 0.8500, Validation Accuracy: 0.6182\n",
      "Epoch 87, CIFAR-10 Batch 3:  Cost:     0.3700, Train Accuracy: 0.8750, Validation Accuracy: 0.6132\n",
      "Epoch 87, CIFAR-10 Batch 4:  Cost:     0.4402, Train Accuracy: 0.8000, Validation Accuracy: 0.6094\n",
      "Epoch 87, CIFAR-10 Batch 5:  Cost:     0.4893, Train Accuracy: 0.8250, Validation Accuracy: 0.6202\n",
      "Epoch 88, CIFAR-10 Batch 1:  Cost:     0.4511, Train Accuracy: 0.8000, Validation Accuracy: 0.6086\n",
      "Epoch 88, CIFAR-10 Batch 2:  Cost:     0.3872, Train Accuracy: 0.8500, Validation Accuracy: 0.6162\n",
      "Epoch 88, CIFAR-10 Batch 3:  Cost:     0.3598, Train Accuracy: 0.9000, Validation Accuracy: 0.6180\n",
      "Epoch 88, CIFAR-10 Batch 4:  Cost:     0.4172, Train Accuracy: 0.8750, Validation Accuracy: 0.6158\n",
      "Epoch 88, CIFAR-10 Batch 5:  Cost:     0.4829, Train Accuracy: 0.8250, Validation Accuracy: 0.6212\n",
      "Epoch 89, CIFAR-10 Batch 1:  Cost:     0.4588, Train Accuracy: 0.8500, Validation Accuracy: 0.6106\n",
      "Epoch 89, CIFAR-10 Batch 2:  Cost:     0.4163, Train Accuracy: 0.8250, Validation Accuracy: 0.6192\n",
      "Epoch 89, CIFAR-10 Batch 3:  Cost:     0.3515, Train Accuracy: 0.8500, Validation Accuracy: 0.6160\n",
      "Epoch 89, CIFAR-10 Batch 4:  Cost:     0.4233, Train Accuracy: 0.8750, Validation Accuracy: 0.6178\n",
      "Epoch 89, CIFAR-10 Batch 5:  Cost:     0.5153, Train Accuracy: 0.8000, Validation Accuracy: 0.6114\n",
      "Epoch 90, CIFAR-10 Batch 1:  Cost:     0.4646, Train Accuracy: 0.8500, Validation Accuracy: 0.6030\n",
      "Epoch 90, CIFAR-10 Batch 2:  Cost:     0.3868, Train Accuracy: 0.8750, Validation Accuracy: 0.6136\n",
      "Epoch 90, CIFAR-10 Batch 3:  Cost:     0.3413, Train Accuracy: 0.9000, Validation Accuracy: 0.6196\n",
      "Epoch 90, CIFAR-10 Batch 4:  Cost:     0.3951, Train Accuracy: 0.8750, Validation Accuracy: 0.6142\n",
      "Epoch 90, CIFAR-10 Batch 5:  Cost:     0.4885, Train Accuracy: 0.8500, Validation Accuracy: 0.6174\n",
      "Epoch 91, CIFAR-10 Batch 1:  Cost:     0.4702, Train Accuracy: 0.8750, Validation Accuracy: 0.6146\n",
      "Epoch 91, CIFAR-10 Batch 2:  Cost:     0.4020, Train Accuracy: 0.9000, Validation Accuracy: 0.6110\n",
      "Epoch 91, CIFAR-10 Batch 3:  Cost:     0.3263, Train Accuracy: 0.9000, Validation Accuracy: 0.6110\n",
      "Epoch 91, CIFAR-10 Batch 4:  Cost:     0.4048, Train Accuracy: 0.9000, Validation Accuracy: 0.6112\n",
      "Epoch 91, CIFAR-10 Batch 5:  Cost:     0.4684, Train Accuracy: 0.8000, Validation Accuracy: 0.6228\n",
      "Epoch 92, CIFAR-10 Batch 1:  Cost:     0.4409, Train Accuracy: 0.8500, Validation Accuracy: 0.6176\n",
      "Epoch 92, CIFAR-10 Batch 2:  Cost:     0.3529, Train Accuracy: 0.9250, Validation Accuracy: 0.6028\n",
      "Epoch 92, CIFAR-10 Batch 3:  Cost:     0.3353, Train Accuracy: 0.9000, Validation Accuracy: 0.6226\n",
      "Epoch 92, CIFAR-10 Batch 4:  Cost:     0.4034, Train Accuracy: 0.9000, Validation Accuracy: 0.6072\n",
      "Epoch 92, CIFAR-10 Batch 5:  Cost:     0.4819, Train Accuracy: 0.8500, Validation Accuracy: 0.6244\n",
      "Epoch 93, CIFAR-10 Batch 1:  Cost:     0.4330, Train Accuracy: 0.8250, Validation Accuracy: 0.6178\n",
      "Epoch 93, CIFAR-10 Batch 2:  Cost:     0.3681, Train Accuracy: 0.9250, Validation Accuracy: 0.6124\n",
      "Epoch 93, CIFAR-10 Batch 3:  Cost:     0.3478, Train Accuracy: 0.9000, Validation Accuracy: 0.6218\n",
      "Epoch 93, CIFAR-10 Batch 4:  Cost:     0.3789, Train Accuracy: 0.9000, Validation Accuracy: 0.6096\n",
      "Epoch 93, CIFAR-10 Batch 5:  Cost:     0.4711, Train Accuracy: 0.8750, Validation Accuracy: 0.6204\n",
      "Epoch 94, CIFAR-10 Batch 1:  Cost:     0.4041, Train Accuracy: 0.8750, Validation Accuracy: 0.6148\n",
      "Epoch 94, CIFAR-10 Batch 2:  Cost:     0.3627, Train Accuracy: 0.8750, Validation Accuracy: 0.6152\n",
      "Epoch 94, CIFAR-10 Batch 3:  Cost:     0.3478, Train Accuracy: 0.9000, Validation Accuracy: 0.6218\n",
      "Epoch 94, CIFAR-10 Batch 4:  Cost:     0.4108, Train Accuracy: 0.8500, Validation Accuracy: 0.5994\n",
      "Epoch 94, CIFAR-10 Batch 5:  Cost:     0.4733, Train Accuracy: 0.8750, Validation Accuracy: 0.6168\n",
      "Epoch 95, CIFAR-10 Batch 1:  Cost:     0.4266, Train Accuracy: 0.8750, Validation Accuracy: 0.6224\n",
      "Epoch 95, CIFAR-10 Batch 2:  Cost:     0.3267, Train Accuracy: 0.9000, Validation Accuracy: 0.6190\n",
      "Epoch 95, CIFAR-10 Batch 3:  Cost:     0.3872, Train Accuracy: 0.9000, Validation Accuracy: 0.6110\n",
      "Epoch 95, CIFAR-10 Batch 4:  Cost:     0.3716, Train Accuracy: 0.8750, Validation Accuracy: 0.5990\n",
      "Epoch 95, CIFAR-10 Batch 5:  Cost:     0.4558, Train Accuracy: 0.8500, Validation Accuracy: 0.6188\n",
      "Epoch 96, CIFAR-10 Batch 1:  Cost:     0.4256, Train Accuracy: 0.8750, Validation Accuracy: 0.6164\n",
      "Epoch 96, CIFAR-10 Batch 2:  Cost:     0.3284, Train Accuracy: 0.9250, Validation Accuracy: 0.6148\n",
      "Epoch 96, CIFAR-10 Batch 3:  Cost:     0.3320, Train Accuracy: 0.9000, Validation Accuracy: 0.6144\n",
      "Epoch 96, CIFAR-10 Batch 4:  Cost:     0.3717, Train Accuracy: 0.8750, Validation Accuracy: 0.6014\n",
      "Epoch 96, CIFAR-10 Batch 5:  Cost:     0.4655, Train Accuracy: 0.8500, Validation Accuracy: 0.6136\n",
      "Epoch 97, CIFAR-10 Batch 1:  Cost:     0.4321, Train Accuracy: 0.8250, Validation Accuracy: 0.6212\n",
      "Epoch 97, CIFAR-10 Batch 2:  Cost:     0.3336, Train Accuracy: 0.9000, Validation Accuracy: 0.6074\n",
      "Epoch 97, CIFAR-10 Batch 3:  Cost:     0.3232, Train Accuracy: 0.9000, Validation Accuracy: 0.6110\n",
      "Epoch 97, CIFAR-10 Batch 4:  Cost:     0.3558, Train Accuracy: 0.9000, Validation Accuracy: 0.6064\n",
      "Epoch 97, CIFAR-10 Batch 5:  Cost:     0.4682, Train Accuracy: 0.8750, Validation Accuracy: 0.6152\n",
      "Epoch 98, CIFAR-10 Batch 1:  Cost:     0.4129, Train Accuracy: 0.8750, Validation Accuracy: 0.6140\n",
      "Epoch 98, CIFAR-10 Batch 2:  Cost:     0.3327, Train Accuracy: 0.9250, Validation Accuracy: 0.6120\n",
      "Epoch 98, CIFAR-10 Batch 3:  Cost:     0.3131, Train Accuracy: 0.8750, Validation Accuracy: 0.6116\n",
      "Epoch 98, CIFAR-10 Batch 4:  Cost:     0.3425, Train Accuracy: 0.9250, Validation Accuracy: 0.5974\n",
      "Epoch 98, CIFAR-10 Batch 5:  Cost:     0.4177, Train Accuracy: 0.9250, Validation Accuracy: 0.6250\n",
      "Epoch 99, CIFAR-10 Batch 1:  Cost:     0.4157, Train Accuracy: 0.8750, Validation Accuracy: 0.6180\n",
      "Epoch 99, CIFAR-10 Batch 2:  Cost:     0.3237, Train Accuracy: 0.9000, Validation Accuracy: 0.6126\n",
      "Epoch 99, CIFAR-10 Batch 3:  Cost:     0.3465, Train Accuracy: 0.8750, Validation Accuracy: 0.6110\n",
      "Epoch 99, CIFAR-10 Batch 4:  Cost:     0.3660, Train Accuracy: 0.9250, Validation Accuracy: 0.5946\n",
      "Epoch 99, CIFAR-10 Batch 5:  Cost:     0.4700, Train Accuracy: 0.8750, Validation Accuracy: 0.6184\n",
      "Epoch 100, CIFAR-10 Batch 1:  Cost:     0.4025, Train Accuracy: 0.8500, Validation Accuracy: 0.6222\n",
      "Epoch 100, CIFAR-10 Batch 2:  Cost:     0.3473, Train Accuracy: 0.9000, Validation Accuracy: 0.6056\n",
      "Epoch 100, CIFAR-10 Batch 3:  Cost:     0.3530, Train Accuracy: 0.8750, Validation Accuracy: 0.5950\n",
      "Epoch 100, CIFAR-10 Batch 4:  Cost:     0.3488, Train Accuracy: 0.9000, Validation Accuracy: 0.6090\n",
      "Epoch 100, CIFAR-10 Batch 5:  Cost:     0.4170, Train Accuracy: 0.9000, Validation Accuracy: 0.6198\n"
     ]
    }
   ],
   "source": [
    "\"\"\"\n",
    "DON'T MODIFY ANYTHING IN THIS CELL\n",
    "\"\"\"\n",
    "save_model_path = './image_classification'\n",
    "\n",
    "print('Training...')\n",
    "with tf.Session() as sess:\n",
    "    # Initializing the variables\n",
    "    sess.run(tf.global_variables_initializer())\n",
    "    \n",
    "    # Training cycle\n",
    "    for epoch in range(epochs):\n",
    "        # Loop over all batches\n",
    "        n_batches = 5\n",
    "        for batch_i in range(1, n_batches + 1):\n",
    "            for batch_features, batch_labels in helper.load_preprocess_training_batch(batch_i, batch_size):\n",
    "                train_neural_network(sess, optimizer, keep_probability, batch_features, batch_labels)\n",
    "            print('Epoch {:>2}, CIFAR-10 Batch {}:  '.format(epoch + 1, batch_i), end='')\n",
    "            print_stats(sess, batch_features, batch_labels, cost, accuracy)\n",
    "            \n",
    "    # Save Model\n",
    "    saver = tf.train.Saver()\n",
    "    save_path = saver.save(sess, save_model_path)"
   ]
  },
  {
   "cell_type": "markdown",
   "metadata": {
    "deletable": true,
    "editable": true
   },
   "source": [
    "# Checkpoint\n",
    "The model has been saved to disk.\n",
    "## Test Model\n",
    "Test your model against the test dataset.  This will be your final accuracy. You should have an accuracy greater than 50%. If you don't, keep tweaking the model architecture and parameters."
   ]
  },
  {
   "cell_type": "code",
   "execution_count": 147,
   "metadata": {
    "collapsed": false,
    "deletable": true,
    "editable": true
   },
   "outputs": [
    {
     "name": "stdout",
     "output_type": "stream",
     "text": [
      "Testing Accuracy: 0.6169897151898734\n",
      "\n"
     ]
    },
    {
     "data": {
      "image/png": "[encoded data removed]",
      "text/plain": [
       "<matplotlib.figure.Figure at 0x7f603c521160>"
      ]
     },
     "metadata": {
      "image/png": {
       "height": 319,
       "width": 355
      }
     },
     "output_type": "display_data"
    }
   ],
   "source": [
    "\"\"\"\n",
    "DON'T MODIFY ANYTHING IN THIS CELL\n",
    "\"\"\"\n",
    "%matplotlib inline\n",
    "%config InlineBackend.figure_format = 'retina'\n",
    "\n",
    "import tensorflow as tf\n",
    "import pickle\n",
    "import helper\n",
    "import random\n",
    "\n",
    "# Set batch size if not already set\n",
    "try:\n",
    "    if batch_size:\n",
    "        pass\n",
    "except NameError:\n",
    "    batch_size = 64\n",
    "\n",
    "save_model_path = './image_classification'\n",
    "n_samples = 4\n",
    "top_n_predictions = 3\n",
    "\n",
    "def test_model():\n",
    "    \"\"\"\n",
    "    Test the saved model against the test dataset\n",
    "    \"\"\"\n",
    "\n",
    "    test_features, test_labels = pickle.load(open('preprocess_training.p', mode='rb'))\n",
    "    loaded_graph = tf.Graph()\n",
    "\n",
    "    with tf.Session(graph=loaded_graph) as sess:\n",
    "        # Load model\n",
    "        loader = tf.train.import_meta_graph(save_model_path + '.meta')\n",
    "        loader.restore(sess, save_model_path)\n",
    "\n",
    "        # Get Tensors from loaded model\n",
    "        loaded_x = loaded_graph.get_tensor_by_name('x:0')\n",
    "        loaded_y = loaded_graph.get_tensor_by_name('y:0')\n",
    "        loaded_keep_prob = loaded_graph.get_tensor_by_name('keep_prob:0')\n",
    "        loaded_logits = loaded_graph.get_tensor_by_name('logits:0')\n",
    "        loaded_acc = loaded_graph.get_tensor_by_name('accuracy:0')\n",
    "        \n",
    "        # Get accuracy in batches for memory limitations\n",
    "        test_batch_acc_total = 0\n",
    "        test_batch_count = 0\n",
    "        \n",
    "        for train_feature_batch, train_label_batch in helper.batch_features_labels(test_features, test_labels, batch_size):\n",
    "            test_batch_acc_total += sess.run(\n",
    "                loaded_acc,\n",
    "                feed_dict={loaded_x: train_feature_batch, loaded_y: train_label_batch, loaded_keep_prob: 1.0})\n",
    "            test_batch_count += 1\n",
    "\n",
    "        print('Testing Accuracy: {}\\n'.format(test_batch_acc_total/test_batch_count))\n",
    "\n",
    "        # Print Random Samples\n",
    "        random_test_features, random_test_labels = tuple(zip(*random.sample(list(zip(test_features, test_labels)), n_samples)))\n",
    "        random_test_predictions = sess.run(\n",
    "            tf.nn.top_k(tf.nn.softmax(loaded_logits), top_n_predictions),\n",
    "            feed_dict={loaded_x: random_test_features, loaded_y: random_test_labels, loaded_keep_prob: 1.0})\n",
    "        helper.display_image_predictions(random_test_features, random_test_labels, random_test_predictions)\n",
    "\n",
    "\n",
    "test_model()"
   ]
  },
  {
   "cell_type": "markdown",
   "metadata": {
    "deletable": true,
    "editable": true
   },
   "source": [
    "## Why 50-70% Accuracy?\n",
    "You might be wondering why you can't get an accuracy any higher. First things first, 50% isn't bad for a simple CNN.  Pure guessing would get you 10% accuracy. However, you might notice people are getting scores [well above 70%](http://rodrigob.github.io/are_we_there_yet/build/classification_datasets_results.html#43494641522d3130).  That's because we haven't taught you all there is to know about neural networks. We still need to cover a few more techniques.\n",
    "## Submitting This Project\n",
    "When submitting this project, make sure to run all the cells before saving the notebook.  Save the notebook file as \"dlnd_image_classification.ipynb\" and save it as a HTML file under \"File\" -> \"Download as\".  Include the \"helper.py\" and \"problem_unittests.py\" files in your submission."
   ]
  },
  {
   "cell_type": "code",
   "execution_count": null,
   "metadata": {
    "collapsed": true,
    "deletable": true,
    "editable": true
   },
   "outputs": [],
   "source": []
  },
  {
   "cell_type": "code",
   "execution_count": null,
   "metadata": {
    "collapsed": true,
    "deletable": true,
    "editable": true
   },
   "outputs": [],
   "source": []
  },
  {
   "cell_type": "code",
   "execution_count": null,
   "metadata": {
    "collapsed": true,
    "deletable": true,
    "editable": true
   },
   "outputs": [],
   "source": []
  }
 ],
 "metadata": {
  "kernelspec": {
   "display_name": "Python 3",
   "language": "python",
   "name": "python3"
  },
  "language_info": {
   "codemirror_mode": {
    "name": "ipython",
    "version": 3
   },
   "file_extension": ".py",
   "mimetype": "text/x-python",
   "name": "python",
   "nbconvert_exporter": "python",
   "pygments_lexer": "ipython3",
   "version": "3.5.2"
  },
  "widgets": {
   "state": {},
   "version": "1.1.2"
  }
 },
 "nbformat": 4,
 "nbformat_minor": 0
}
